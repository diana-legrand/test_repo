{
 "cells": [
  {
   "cell_type": "markdown",
   "metadata": {},
   "source": [
    "### Описание проекта"
   ]
  },
  {
   "cell_type": "markdown",
   "metadata": {},
   "source": [
    "Вы работаете в интернет-магазине «Стримчик», который продаёт по всему миру компьютерные игры. Из открытых источников доступны исторические данные о продажах игр, оценки пользователей и экспертов, жанры и платформы (например, Xbox или PlayStation). Вам нужно выявить определяющие успешность игры закономерности. Это позволит сделать ставку на потенциально популярный продукт и спланировать рекламные кампании.\n",
    "\n",
    "\n",
    "Перед вами данные до 2016 года. Представим, что сейчас декабрь 2016 г., и вы планируете кампанию на 2017-й. Нужно отработать принцип работы с данными. Неважно, прогнозируете ли вы продажи на 2017 год по данным 2016-го или же 2027-й — по данным 2026 года.\n",
    "\n",
    "\n",
    "В наборе данных попадается аббревиатура ESRB (Entertainment Software Rating Board) — это ассоциация, определяющая возрастной рейтинг компьютерных игр. ESRB оценивает игровой контент и присваивает ему подходящую возрастную категорию, например, «Для взрослых», «Для детей младшего возраста» или «Для подростков»."
   ]
  },
  {
   "cell_type": "code",
   "execution_count": 1,
   "metadata": {},
   "outputs": [],
   "source": [
    "import pandas as pd\n",
    "import matplotlib.pyplot as plt\n",
    "import matplotlib.colors as mcolors\n",
    "import seaborn as sns\n",
    "import numpy as np\n",
    "from scipy import stats as st\n",
    "from datetime import datetime\n",
    "import random\n",
    "\n",
    "import warnings\n",
    "def fxn():\n",
    "    warnings.warn(\"deprecated\", DeprecationWarning)\n",
    "\n",
    "with warnings.catch_warnings():\n",
    "    warnings.simplefilter(\"ignore\")\n",
    "    fxn()"
   ]
  },
  {
   "cell_type": "code",
   "execution_count": 2,
   "metadata": {},
   "outputs": [],
   "source": [
    "#games = pd.read_csv('/datasets/games.csv')\n",
    "games = pd.read_csv('D:/Yandex/datasets/integrated/games.csv')"
   ]
  },
  {
   "cell_type": "code",
   "execution_count": 3,
   "metadata": {},
   "outputs": [
    {
     "data": {
      "text/html": [
       "<div>\n",
       "<style scoped>\n",
       "    .dataframe tbody tr th:only-of-type {\n",
       "        vertical-align: middle;\n",
       "    }\n",
       "\n",
       "    .dataframe tbody tr th {\n",
       "        vertical-align: top;\n",
       "    }\n",
       "\n",
       "    .dataframe thead th {\n",
       "        text-align: right;\n",
       "    }\n",
       "</style>\n",
       "<table border=\"1\" class=\"dataframe\">\n",
       "  <thead>\n",
       "    <tr style=\"text-align: right;\">\n",
       "      <th></th>\n",
       "      <th>Name</th>\n",
       "      <th>Platform</th>\n",
       "      <th>Year_of_Release</th>\n",
       "      <th>Genre</th>\n",
       "      <th>NA_sales</th>\n",
       "      <th>EU_sales</th>\n",
       "      <th>JP_sales</th>\n",
       "      <th>Other_sales</th>\n",
       "      <th>Critic_Score</th>\n",
       "      <th>User_Score</th>\n",
       "      <th>Rating</th>\n",
       "    </tr>\n",
       "  </thead>\n",
       "  <tbody>\n",
       "    <tr>\n",
       "      <th>0</th>\n",
       "      <td>Wii Sports</td>\n",
       "      <td>Wii</td>\n",
       "      <td>2006.0</td>\n",
       "      <td>Sports</td>\n",
       "      <td>41.36</td>\n",
       "      <td>28.96</td>\n",
       "      <td>3.77</td>\n",
       "      <td>8.45</td>\n",
       "      <td>76.0</td>\n",
       "      <td>8</td>\n",
       "      <td>E</td>\n",
       "    </tr>\n",
       "    <tr>\n",
       "      <th>1</th>\n",
       "      <td>Super Mario Bros.</td>\n",
       "      <td>NES</td>\n",
       "      <td>1985.0</td>\n",
       "      <td>Platform</td>\n",
       "      <td>29.08</td>\n",
       "      <td>3.58</td>\n",
       "      <td>6.81</td>\n",
       "      <td>0.77</td>\n",
       "      <td>NaN</td>\n",
       "      <td>NaN</td>\n",
       "      <td>NaN</td>\n",
       "    </tr>\n",
       "    <tr>\n",
       "      <th>2</th>\n",
       "      <td>Mario Kart Wii</td>\n",
       "      <td>Wii</td>\n",
       "      <td>2008.0</td>\n",
       "      <td>Racing</td>\n",
       "      <td>15.68</td>\n",
       "      <td>12.76</td>\n",
       "      <td>3.79</td>\n",
       "      <td>3.29</td>\n",
       "      <td>82.0</td>\n",
       "      <td>8.3</td>\n",
       "      <td>E</td>\n",
       "    </tr>\n",
       "    <tr>\n",
       "      <th>3</th>\n",
       "      <td>Wii Sports Resort</td>\n",
       "      <td>Wii</td>\n",
       "      <td>2009.0</td>\n",
       "      <td>Sports</td>\n",
       "      <td>15.61</td>\n",
       "      <td>10.93</td>\n",
       "      <td>3.28</td>\n",
       "      <td>2.95</td>\n",
       "      <td>80.0</td>\n",
       "      <td>8</td>\n",
       "      <td>E</td>\n",
       "    </tr>\n",
       "    <tr>\n",
       "      <th>4</th>\n",
       "      <td>Pokemon Red/Pokemon Blue</td>\n",
       "      <td>GB</td>\n",
       "      <td>1996.0</td>\n",
       "      <td>Role-Playing</td>\n",
       "      <td>11.27</td>\n",
       "      <td>8.89</td>\n",
       "      <td>10.22</td>\n",
       "      <td>1.00</td>\n",
       "      <td>NaN</td>\n",
       "      <td>NaN</td>\n",
       "      <td>NaN</td>\n",
       "    </tr>\n",
       "    <tr>\n",
       "      <th>5</th>\n",
       "      <td>Tetris</td>\n",
       "      <td>GB</td>\n",
       "      <td>1989.0</td>\n",
       "      <td>Puzzle</td>\n",
       "      <td>23.20</td>\n",
       "      <td>2.26</td>\n",
       "      <td>4.22</td>\n",
       "      <td>0.58</td>\n",
       "      <td>NaN</td>\n",
       "      <td>NaN</td>\n",
       "      <td>NaN</td>\n",
       "    </tr>\n",
       "    <tr>\n",
       "      <th>6</th>\n",
       "      <td>New Super Mario Bros.</td>\n",
       "      <td>DS</td>\n",
       "      <td>2006.0</td>\n",
       "      <td>Platform</td>\n",
       "      <td>11.28</td>\n",
       "      <td>9.14</td>\n",
       "      <td>6.50</td>\n",
       "      <td>2.88</td>\n",
       "      <td>89.0</td>\n",
       "      <td>8.5</td>\n",
       "      <td>E</td>\n",
       "    </tr>\n",
       "    <tr>\n",
       "      <th>7</th>\n",
       "      <td>Wii Play</td>\n",
       "      <td>Wii</td>\n",
       "      <td>2006.0</td>\n",
       "      <td>Misc</td>\n",
       "      <td>13.96</td>\n",
       "      <td>9.18</td>\n",
       "      <td>2.93</td>\n",
       "      <td>2.84</td>\n",
       "      <td>58.0</td>\n",
       "      <td>6.6</td>\n",
       "      <td>E</td>\n",
       "    </tr>\n",
       "    <tr>\n",
       "      <th>8</th>\n",
       "      <td>New Super Mario Bros. Wii</td>\n",
       "      <td>Wii</td>\n",
       "      <td>2009.0</td>\n",
       "      <td>Platform</td>\n",
       "      <td>14.44</td>\n",
       "      <td>6.94</td>\n",
       "      <td>4.70</td>\n",
       "      <td>2.24</td>\n",
       "      <td>87.0</td>\n",
       "      <td>8.4</td>\n",
       "      <td>E</td>\n",
       "    </tr>\n",
       "    <tr>\n",
       "      <th>9</th>\n",
       "      <td>Duck Hunt</td>\n",
       "      <td>NES</td>\n",
       "      <td>1984.0</td>\n",
       "      <td>Shooter</td>\n",
       "      <td>26.93</td>\n",
       "      <td>0.63</td>\n",
       "      <td>0.28</td>\n",
       "      <td>0.47</td>\n",
       "      <td>NaN</td>\n",
       "      <td>NaN</td>\n",
       "      <td>NaN</td>\n",
       "    </tr>\n",
       "  </tbody>\n",
       "</table>\n",
       "</div>"
      ],
      "text/plain": [
       "                        Name Platform  Year_of_Release         Genre  \\\n",
       "0                 Wii Sports      Wii           2006.0        Sports   \n",
       "1          Super Mario Bros.      NES           1985.0      Platform   \n",
       "2             Mario Kart Wii      Wii           2008.0        Racing   \n",
       "3          Wii Sports Resort      Wii           2009.0        Sports   \n",
       "4   Pokemon Red/Pokemon Blue       GB           1996.0  Role-Playing   \n",
       "5                     Tetris       GB           1989.0        Puzzle   \n",
       "6      New Super Mario Bros.       DS           2006.0      Platform   \n",
       "7                   Wii Play      Wii           2006.0          Misc   \n",
       "8  New Super Mario Bros. Wii      Wii           2009.0      Platform   \n",
       "9                  Duck Hunt      NES           1984.0       Shooter   \n",
       "\n",
       "   NA_sales  EU_sales  JP_sales  Other_sales  Critic_Score User_Score Rating  \n",
       "0     41.36     28.96      3.77         8.45          76.0          8      E  \n",
       "1     29.08      3.58      6.81         0.77           NaN        NaN    NaN  \n",
       "2     15.68     12.76      3.79         3.29          82.0        8.3      E  \n",
       "3     15.61     10.93      3.28         2.95          80.0          8      E  \n",
       "4     11.27      8.89     10.22         1.00           NaN        NaN    NaN  \n",
       "5     23.20      2.26      4.22         0.58           NaN        NaN    NaN  \n",
       "6     11.28      9.14      6.50         2.88          89.0        8.5      E  \n",
       "7     13.96      9.18      2.93         2.84          58.0        6.6      E  \n",
       "8     14.44      6.94      4.70         2.24          87.0        8.4      E  \n",
       "9     26.93      0.63      0.28         0.47           NaN        NaN    NaN  "
      ]
     },
     "execution_count": 3,
     "metadata": {},
     "output_type": "execute_result"
    }
   ],
   "source": [
    "games.head(10)"
   ]
  },
  {
   "cell_type": "code",
   "execution_count": 4,
   "metadata": {},
   "outputs": [
    {
     "data": {
      "text/html": [
       "<div>\n",
       "<style scoped>\n",
       "    .dataframe tbody tr th:only-of-type {\n",
       "        vertical-align: middle;\n",
       "    }\n",
       "\n",
       "    .dataframe tbody tr th {\n",
       "        vertical-align: top;\n",
       "    }\n",
       "\n",
       "    .dataframe thead th {\n",
       "        text-align: right;\n",
       "    }\n",
       "</style>\n",
       "<table border=\"1\" class=\"dataframe\">\n",
       "  <thead>\n",
       "    <tr style=\"text-align: right;\">\n",
       "      <th></th>\n",
       "      <th>Name</th>\n",
       "      <th>Platform</th>\n",
       "      <th>Year_of_Release</th>\n",
       "      <th>Genre</th>\n",
       "      <th>NA_sales</th>\n",
       "      <th>EU_sales</th>\n",
       "      <th>JP_sales</th>\n",
       "      <th>Other_sales</th>\n",
       "      <th>Critic_Score</th>\n",
       "      <th>User_Score</th>\n",
       "      <th>Rating</th>\n",
       "    </tr>\n",
       "  </thead>\n",
       "  <tbody>\n",
       "    <tr>\n",
       "      <th>16710</th>\n",
       "      <td>Samurai Warriors: Sanada Maru</td>\n",
       "      <td>PS3</td>\n",
       "      <td>2016.0</td>\n",
       "      <td>Action</td>\n",
       "      <td>0.00</td>\n",
       "      <td>0.00</td>\n",
       "      <td>0.01</td>\n",
       "      <td>0.0</td>\n",
       "      <td>NaN</td>\n",
       "      <td>NaN</td>\n",
       "      <td>NaN</td>\n",
       "    </tr>\n",
       "    <tr>\n",
       "      <th>16711</th>\n",
       "      <td>LMA Manager 2007</td>\n",
       "      <td>X360</td>\n",
       "      <td>2006.0</td>\n",
       "      <td>Sports</td>\n",
       "      <td>0.00</td>\n",
       "      <td>0.01</td>\n",
       "      <td>0.00</td>\n",
       "      <td>0.0</td>\n",
       "      <td>NaN</td>\n",
       "      <td>NaN</td>\n",
       "      <td>NaN</td>\n",
       "    </tr>\n",
       "    <tr>\n",
       "      <th>16712</th>\n",
       "      <td>Haitaka no Psychedelica</td>\n",
       "      <td>PSV</td>\n",
       "      <td>2016.0</td>\n",
       "      <td>Adventure</td>\n",
       "      <td>0.00</td>\n",
       "      <td>0.00</td>\n",
       "      <td>0.01</td>\n",
       "      <td>0.0</td>\n",
       "      <td>NaN</td>\n",
       "      <td>NaN</td>\n",
       "      <td>NaN</td>\n",
       "    </tr>\n",
       "    <tr>\n",
       "      <th>16713</th>\n",
       "      <td>Spirits &amp; Spells</td>\n",
       "      <td>GBA</td>\n",
       "      <td>2003.0</td>\n",
       "      <td>Platform</td>\n",
       "      <td>0.01</td>\n",
       "      <td>0.00</td>\n",
       "      <td>0.00</td>\n",
       "      <td>0.0</td>\n",
       "      <td>NaN</td>\n",
       "      <td>NaN</td>\n",
       "      <td>NaN</td>\n",
       "    </tr>\n",
       "    <tr>\n",
       "      <th>16714</th>\n",
       "      <td>Winning Post 8 2016</td>\n",
       "      <td>PSV</td>\n",
       "      <td>2016.0</td>\n",
       "      <td>Simulation</td>\n",
       "      <td>0.00</td>\n",
       "      <td>0.00</td>\n",
       "      <td>0.01</td>\n",
       "      <td>0.0</td>\n",
       "      <td>NaN</td>\n",
       "      <td>NaN</td>\n",
       "      <td>NaN</td>\n",
       "    </tr>\n",
       "  </tbody>\n",
       "</table>\n",
       "</div>"
      ],
      "text/plain": [
       "                                Name Platform  Year_of_Release       Genre  \\\n",
       "16710  Samurai Warriors: Sanada Maru      PS3           2016.0      Action   \n",
       "16711               LMA Manager 2007     X360           2006.0      Sports   \n",
       "16712        Haitaka no Psychedelica      PSV           2016.0   Adventure   \n",
       "16713               Spirits & Spells      GBA           2003.0    Platform   \n",
       "16714            Winning Post 8 2016      PSV           2016.0  Simulation   \n",
       "\n",
       "       NA_sales  EU_sales  JP_sales  Other_sales  Critic_Score User_Score  \\\n",
       "16710      0.00      0.00      0.01          0.0           NaN        NaN   \n",
       "16711      0.00      0.01      0.00          0.0           NaN        NaN   \n",
       "16712      0.00      0.00      0.01          0.0           NaN        NaN   \n",
       "16713      0.01      0.00      0.00          0.0           NaN        NaN   \n",
       "16714      0.00      0.00      0.01          0.0           NaN        NaN   \n",
       "\n",
       "      Rating  \n",
       "16710    NaN  \n",
       "16711    NaN  \n",
       "16712    NaN  \n",
       "16713    NaN  \n",
       "16714    NaN  "
      ]
     },
     "execution_count": 4,
     "metadata": {},
     "output_type": "execute_result"
    }
   ],
   "source": [
    "games.tail()"
   ]
  },
  {
   "cell_type": "markdown",
   "metadata": {},
   "source": [
    "В датафрейме 16715 строк, которые соотвествуют отдельной игре. Особенно много пропущенных значений в столбцах Critic_Score, User_Score, Rating. Эти данные скорее всего пропущены из-за отсутствия данных по конкретным играм. В остальных столбцах тоже есть пропущенные значения, но их не так много.\n",
    "\n",
    "Анализируя описательные статистики, можно отметить, что год релиза варьируется от 1980 до 2016 годов. Больше всего продаж в Северной Америке. Меньше всего по другим регионам и Японии. Оценка критиков может составлять от 13 до 98 баллов, среднее значение - 68,9. Столбик user_score нужно перевести из сторкового в числовой тип данных, чтобы узнать аналогичные характеристики."
   ]
  },
  {
   "cell_type": "markdown",
   "metadata": {},
   "source": [
    "#### Описание данных"
   ]
  },
  {
   "cell_type": "markdown",
   "metadata": {},
   "source": [
    "**Описание данных:**\n",
    "\n",
    "* Name — название игры\n",
    "* Platform — платформа\n",
    "* Year_of_Release — год релиза\n",
    "* Genre — жанр игры\n",
    "* NA_players — продажи игрокам в Северной Америке (в миллионах долларов)\n",
    "* EU_players — продажи игрокам в Европе (в миллионах долларов)\n",
    "* RU_players — продажи игрокам в России (в миллионах долларов)\n",
    "* Other_players — продажи игрокам в других странах\n",
    "* Critic_Score — оценка критиков (максимум 100)\n",
    "* User_Score — оценка пользователей (максимум 10)\n",
    "* Rating — рейтинг ESRB"
   ]
  },
  {
   "cell_type": "code",
   "execution_count": 5,
   "metadata": {},
   "outputs": [
    {
     "name": "stdout",
     "output_type": "stream",
     "text": [
      "<class 'pandas.core.frame.DataFrame'>\n",
      "RangeIndex: 16715 entries, 0 to 16714\n",
      "Data columns (total 11 columns):\n",
      " #   Column           Non-Null Count  Dtype  \n",
      "---  ------           --------------  -----  \n",
      " 0   Name             16713 non-null  object \n",
      " 1   Platform         16715 non-null  object \n",
      " 2   Year_of_Release  16446 non-null  float64\n",
      " 3   Genre            16713 non-null  object \n",
      " 4   NA_sales         16715 non-null  float64\n",
      " 5   EU_sales         16715 non-null  float64\n",
      " 6   JP_sales         16715 non-null  float64\n",
      " 7   Other_sales      16715 non-null  float64\n",
      " 8   Critic_Score     8137 non-null   float64\n",
      " 9   User_Score       10014 non-null  object \n",
      " 10  Rating           9949 non-null   object \n",
      "dtypes: float64(6), object(5)\n",
      "memory usage: 1.4+ MB\n"
     ]
    }
   ],
   "source": [
    "games.info()"
   ]
  },
  {
   "cell_type": "markdown",
   "metadata": {},
   "source": [
    "#### Описательные статистики"
   ]
  },
  {
   "cell_type": "code",
   "execution_count": 6,
   "metadata": {},
   "outputs": [
    {
     "data": {
      "text/html": [
       "<div>\n",
       "<style scoped>\n",
       "    .dataframe tbody tr th:only-of-type {\n",
       "        vertical-align: middle;\n",
       "    }\n",
       "\n",
       "    .dataframe tbody tr th {\n",
       "        vertical-align: top;\n",
       "    }\n",
       "\n",
       "    .dataframe thead th {\n",
       "        text-align: right;\n",
       "    }\n",
       "</style>\n",
       "<table border=\"1\" class=\"dataframe\">\n",
       "  <thead>\n",
       "    <tr style=\"text-align: right;\">\n",
       "      <th></th>\n",
       "      <th>Year_of_Release</th>\n",
       "      <th>NA_sales</th>\n",
       "      <th>EU_sales</th>\n",
       "      <th>JP_sales</th>\n",
       "      <th>Other_sales</th>\n",
       "      <th>Critic_Score</th>\n",
       "    </tr>\n",
       "  </thead>\n",
       "  <tbody>\n",
       "    <tr>\n",
       "      <th>count</th>\n",
       "      <td>16446.000000</td>\n",
       "      <td>16715.000000</td>\n",
       "      <td>16715.000000</td>\n",
       "      <td>16715.000000</td>\n",
       "      <td>16715.000000</td>\n",
       "      <td>8137.000000</td>\n",
       "    </tr>\n",
       "    <tr>\n",
       "      <th>mean</th>\n",
       "      <td>2006.484616</td>\n",
       "      <td>0.263377</td>\n",
       "      <td>0.145060</td>\n",
       "      <td>0.077617</td>\n",
       "      <td>0.047342</td>\n",
       "      <td>68.967679</td>\n",
       "    </tr>\n",
       "    <tr>\n",
       "      <th>std</th>\n",
       "      <td>5.877050</td>\n",
       "      <td>0.813604</td>\n",
       "      <td>0.503339</td>\n",
       "      <td>0.308853</td>\n",
       "      <td>0.186731</td>\n",
       "      <td>13.938165</td>\n",
       "    </tr>\n",
       "    <tr>\n",
       "      <th>min</th>\n",
       "      <td>1980.000000</td>\n",
       "      <td>0.000000</td>\n",
       "      <td>0.000000</td>\n",
       "      <td>0.000000</td>\n",
       "      <td>0.000000</td>\n",
       "      <td>13.000000</td>\n",
       "    </tr>\n",
       "    <tr>\n",
       "      <th>25%</th>\n",
       "      <td>2003.000000</td>\n",
       "      <td>0.000000</td>\n",
       "      <td>0.000000</td>\n",
       "      <td>0.000000</td>\n",
       "      <td>0.000000</td>\n",
       "      <td>60.000000</td>\n",
       "    </tr>\n",
       "    <tr>\n",
       "      <th>50%</th>\n",
       "      <td>2007.000000</td>\n",
       "      <td>0.080000</td>\n",
       "      <td>0.020000</td>\n",
       "      <td>0.000000</td>\n",
       "      <td>0.010000</td>\n",
       "      <td>71.000000</td>\n",
       "    </tr>\n",
       "    <tr>\n",
       "      <th>75%</th>\n",
       "      <td>2010.000000</td>\n",
       "      <td>0.240000</td>\n",
       "      <td>0.110000</td>\n",
       "      <td>0.040000</td>\n",
       "      <td>0.030000</td>\n",
       "      <td>79.000000</td>\n",
       "    </tr>\n",
       "    <tr>\n",
       "      <th>max</th>\n",
       "      <td>2016.000000</td>\n",
       "      <td>41.360000</td>\n",
       "      <td>28.960000</td>\n",
       "      <td>10.220000</td>\n",
       "      <td>10.570000</td>\n",
       "      <td>98.000000</td>\n",
       "    </tr>\n",
       "  </tbody>\n",
       "</table>\n",
       "</div>"
      ],
      "text/plain": [
       "       Year_of_Release      NA_sales      EU_sales      JP_sales  \\\n",
       "count     16446.000000  16715.000000  16715.000000  16715.000000   \n",
       "mean       2006.484616      0.263377      0.145060      0.077617   \n",
       "std           5.877050      0.813604      0.503339      0.308853   \n",
       "min        1980.000000      0.000000      0.000000      0.000000   \n",
       "25%        2003.000000      0.000000      0.000000      0.000000   \n",
       "50%        2007.000000      0.080000      0.020000      0.000000   \n",
       "75%        2010.000000      0.240000      0.110000      0.040000   \n",
       "max        2016.000000     41.360000     28.960000     10.220000   \n",
       "\n",
       "        Other_sales  Critic_Score  \n",
       "count  16715.000000   8137.000000  \n",
       "mean       0.047342     68.967679  \n",
       "std        0.186731     13.938165  \n",
       "min        0.000000     13.000000  \n",
       "25%        0.000000     60.000000  \n",
       "50%        0.010000     71.000000  \n",
       "75%        0.030000     79.000000  \n",
       "max       10.570000     98.000000  "
      ]
     },
     "execution_count": 6,
     "metadata": {},
     "output_type": "execute_result"
    }
   ],
   "source": [
    "games.describe()"
   ]
  },
  {
   "cell_type": "markdown",
   "metadata": {},
   "source": [
    "В датафрейме 16715 строк, которые соотвествуют отдельной игре. Особенно много пропущенных значений в столбцах Critic_Score, User_Score, Rating. Эти данные скорее всего пропущены из-за отсутствия данных по конкретным играм. В остальных столбцах тоже есть пропущенные значения, но их не так много.\n",
    "\n",
    "Анализируя описательные статистики, можно отметить, что год релиза варьируется от 1980 до 2016 годов. Больше всего продаж в Северной Америке. Меньше всего по другим регионам и Японии. Оценка критиков может составлять от 13 до 98 баллов, среднее значение - 68,9. Столбик user_score нужно перевести из сторкового в числовой тип данных, чтобы узнать аналогичные характеристики."
   ]
  },
  {
   "cell_type": "markdown",
   "metadata": {},
   "source": [
    "### Предобработка данных"
   ]
  },
  {
   "cell_type": "markdown",
   "metadata": {},
   "source": [
    "#### Замена названий столбцов"
   ]
  },
  {
   "cell_type": "markdown",
   "metadata": {},
   "source": [
    "Приведем названия столбцов к нижнему регистру."
   ]
  },
  {
   "cell_type": "code",
   "execution_count": 7,
   "metadata": {},
   "outputs": [],
   "source": [
    "games.columns = games.columns.str.lower() # привели названия колонок к нижнему регистру"
   ]
  },
  {
   "cell_type": "markdown",
   "metadata": {},
   "source": [
    "#### Преобразование данных в нужный тип"
   ]
  },
  {
   "cell_type": "markdown",
   "metadata": {},
   "source": [
    "Посмотрим, какие именно столбцы нуждаются в преобразовании типов данных."
   ]
  },
  {
   "cell_type": "code",
   "execution_count": 8,
   "metadata": {},
   "outputs": [
    {
     "data": {
      "text/plain": [
       "name                object\n",
       "platform            object\n",
       "year_of_release    float64\n",
       "genre               object\n",
       "na_sales           float64\n",
       "eu_sales           float64\n",
       "jp_sales           float64\n",
       "other_sales        float64\n",
       "critic_score       float64\n",
       "user_score          object\n",
       "rating              object\n",
       "dtype: object"
      ]
     },
     "execution_count": 8,
     "metadata": {},
     "output_type": "execute_result"
    }
   ],
   "source": [
    "games.dtypes"
   ]
  },
  {
   "cell_type": "code",
   "execution_count": 9,
   "metadata": {},
   "outputs": [],
   "source": [
    "games['year_of_release'] = games['year_of_release'].fillna(0)"
   ]
  },
  {
   "cell_type": "code",
   "execution_count": 10,
   "metadata": {},
   "outputs": [],
   "source": [
    "games['year_of_release'] = games['year_of_release'].astype('int')"
   ]
  },
  {
   "cell_type": "markdown",
   "metadata": {},
   "source": [
    "Столбец user_score следует перевести в тип float, но в нем есть пропущенные значения."
   ]
  },
  {
   "cell_type": "code",
   "execution_count": 11,
   "metadata": {},
   "outputs": [
    {
     "data": {
      "text/plain": [
       "array(['8', nan, '8.3', '8.5', '6.6', '8.4', '8.6', '7.7', '6.3', '7.4',\n",
       "       '8.2', '9', '7.9', '8.1', '8.7', '7.1', '3.4', '5.3', '4.8', '3.2',\n",
       "       '8.9', '6.4', '7.8', '7.5', '2.6', '7.2', '9.2', '7', '7.3', '4.3',\n",
       "       '7.6', '5.7', '5', '9.1', '6.5', 'tbd', '8.8', '6.9', '9.4', '6.8',\n",
       "       '6.1', '6.7', '5.4', '4', '4.9', '4.5', '9.3', '6.2', '4.2', '6',\n",
       "       '3.7', '4.1', '5.8', '5.6', '5.5', '4.4', '4.6', '5.9', '3.9',\n",
       "       '3.1', '2.9', '5.2', '3.3', '4.7', '5.1', '3.5', '2.5', '1.9', '3',\n",
       "       '2.7', '2.2', '2', '9.5', '2.1', '3.6', '2.8', '1.8', '3.8', '0',\n",
       "       '1.6', '9.6', '2.4', '1.7', '1.1', '0.3', '1.5', '0.7', '1.2',\n",
       "       '2.3', '0.5', '1.3', '0.2', '0.6', '1.4', '0.9', '1', '9.7'],\n",
       "      dtype=object)"
      ]
     },
     "execution_count": 11,
     "metadata": {},
     "output_type": "execute_result"
    }
   ],
   "source": [
    "games['user_score'].unique()"
   ]
  },
  {
   "cell_type": "code",
   "execution_count": 12,
   "metadata": {},
   "outputs": [],
   "source": [
    "games.loc[games['user_score'] == 'tbd', 'user_score'] = np.nan "
   ]
  },
  {
   "cell_type": "code",
   "execution_count": 13,
   "metadata": {},
   "outputs": [],
   "source": [
    "games['user_score'] = games['user_score'].astype('float')"
   ]
  },
  {
   "cell_type": "code",
   "execution_count": 14,
   "metadata": {},
   "outputs": [
    {
     "data": {
      "text/plain": [
       "0"
      ]
     },
     "execution_count": 14,
     "metadata": {},
     "output_type": "execute_result"
    }
   ],
   "source": [
    "games.duplicated().sum()"
   ]
  },
  {
   "cell_type": "markdown",
   "metadata": {},
   "source": [
    "#### Обработка пропусков"
   ]
  },
  {
   "cell_type": "markdown",
   "metadata": {},
   "source": [
    "Еще раз проверим, какие именно столбцы содержат пропущенные значения."
   ]
  },
  {
   "cell_type": "code",
   "execution_count": 15,
   "metadata": {},
   "outputs": [
    {
     "data": {
      "text/plain": [
       "user_score         9125\n",
       "critic_score       8578\n",
       "rating             6766\n",
       "name                  2\n",
       "genre                 2\n",
       "platform              0\n",
       "year_of_release       0\n",
       "na_sales              0\n",
       "eu_sales              0\n",
       "jp_sales              0\n",
       "other_sales           0\n",
       "dtype: int64"
      ]
     },
     "execution_count": 15,
     "metadata": {},
     "output_type": "execute_result"
    }
   ],
   "source": [
    "games.isnull().sum().sort_values(ascending = False)"
   ]
  },
  {
   "cell_type": "markdown",
   "metadata": {},
   "source": [
    "Очень много пропущенных значений в столбце с рейтингами, а именно рейтинг, пользовательский рейтинг, рейтинг критиков. Заполнять такие значения медианными показателями опасно, так как на рейтинг влияет слишком много факторов. Поэтому не будем заполнять эти значения."
   ]
  },
  {
   "cell_type": "markdown",
   "metadata": {},
   "source": [
    "#### Расчет суммарных продаж"
   ]
  },
  {
   "cell_type": "code",
   "execution_count": 16,
   "metadata": {},
   "outputs": [],
   "source": [
    "games['total_sales'] = games['na_sales'] + games['eu_sales'] + games['jp_sales'] + games['other_sales']"
   ]
  },
  {
   "cell_type": "code",
   "execution_count": 17,
   "metadata": {},
   "outputs": [
    {
     "data": {
      "text/html": [
       "<div>\n",
       "<style scoped>\n",
       "    .dataframe tbody tr th:only-of-type {\n",
       "        vertical-align: middle;\n",
       "    }\n",
       "\n",
       "    .dataframe tbody tr th {\n",
       "        vertical-align: top;\n",
       "    }\n",
       "\n",
       "    .dataframe thead th {\n",
       "        text-align: right;\n",
       "    }\n",
       "</style>\n",
       "<table border=\"1\" class=\"dataframe\">\n",
       "  <thead>\n",
       "    <tr style=\"text-align: right;\">\n",
       "      <th></th>\n",
       "      <th>name</th>\n",
       "      <th>platform</th>\n",
       "      <th>year_of_release</th>\n",
       "      <th>genre</th>\n",
       "      <th>na_sales</th>\n",
       "      <th>eu_sales</th>\n",
       "      <th>jp_sales</th>\n",
       "      <th>other_sales</th>\n",
       "      <th>critic_score</th>\n",
       "      <th>user_score</th>\n",
       "      <th>rating</th>\n",
       "      <th>total_sales</th>\n",
       "    </tr>\n",
       "  </thead>\n",
       "  <tbody>\n",
       "    <tr>\n",
       "      <th>0</th>\n",
       "      <td>Wii Sports</td>\n",
       "      <td>Wii</td>\n",
       "      <td>2006</td>\n",
       "      <td>Sports</td>\n",
       "      <td>41.36</td>\n",
       "      <td>28.96</td>\n",
       "      <td>3.77</td>\n",
       "      <td>8.45</td>\n",
       "      <td>76.0</td>\n",
       "      <td>8.0</td>\n",
       "      <td>E</td>\n",
       "      <td>82.54</td>\n",
       "    </tr>\n",
       "    <tr>\n",
       "      <th>1</th>\n",
       "      <td>Super Mario Bros.</td>\n",
       "      <td>NES</td>\n",
       "      <td>1985</td>\n",
       "      <td>Platform</td>\n",
       "      <td>29.08</td>\n",
       "      <td>3.58</td>\n",
       "      <td>6.81</td>\n",
       "      <td>0.77</td>\n",
       "      <td>NaN</td>\n",
       "      <td>NaN</td>\n",
       "      <td>NaN</td>\n",
       "      <td>40.24</td>\n",
       "    </tr>\n",
       "    <tr>\n",
       "      <th>2</th>\n",
       "      <td>Mario Kart Wii</td>\n",
       "      <td>Wii</td>\n",
       "      <td>2008</td>\n",
       "      <td>Racing</td>\n",
       "      <td>15.68</td>\n",
       "      <td>12.76</td>\n",
       "      <td>3.79</td>\n",
       "      <td>3.29</td>\n",
       "      <td>82.0</td>\n",
       "      <td>8.3</td>\n",
       "      <td>E</td>\n",
       "      <td>35.52</td>\n",
       "    </tr>\n",
       "    <tr>\n",
       "      <th>3</th>\n",
       "      <td>Wii Sports Resort</td>\n",
       "      <td>Wii</td>\n",
       "      <td>2009</td>\n",
       "      <td>Sports</td>\n",
       "      <td>15.61</td>\n",
       "      <td>10.93</td>\n",
       "      <td>3.28</td>\n",
       "      <td>2.95</td>\n",
       "      <td>80.0</td>\n",
       "      <td>8.0</td>\n",
       "      <td>E</td>\n",
       "      <td>32.77</td>\n",
       "    </tr>\n",
       "    <tr>\n",
       "      <th>4</th>\n",
       "      <td>Pokemon Red/Pokemon Blue</td>\n",
       "      <td>GB</td>\n",
       "      <td>1996</td>\n",
       "      <td>Role-Playing</td>\n",
       "      <td>11.27</td>\n",
       "      <td>8.89</td>\n",
       "      <td>10.22</td>\n",
       "      <td>1.00</td>\n",
       "      <td>NaN</td>\n",
       "      <td>NaN</td>\n",
       "      <td>NaN</td>\n",
       "      <td>31.38</td>\n",
       "    </tr>\n",
       "  </tbody>\n",
       "</table>\n",
       "</div>"
      ],
      "text/plain": [
       "                       name platform  year_of_release         genre  na_sales  \\\n",
       "0                Wii Sports      Wii             2006        Sports     41.36   \n",
       "1         Super Mario Bros.      NES             1985      Platform     29.08   \n",
       "2            Mario Kart Wii      Wii             2008        Racing     15.68   \n",
       "3         Wii Sports Resort      Wii             2009        Sports     15.61   \n",
       "4  Pokemon Red/Pokemon Blue       GB             1996  Role-Playing     11.27   \n",
       "\n",
       "   eu_sales  jp_sales  other_sales  critic_score  user_score rating  \\\n",
       "0     28.96      3.77         8.45          76.0         8.0      E   \n",
       "1      3.58      6.81         0.77           NaN         NaN    NaN   \n",
       "2     12.76      3.79         3.29          82.0         8.3      E   \n",
       "3     10.93      3.28         2.95          80.0         8.0      E   \n",
       "4      8.89     10.22         1.00           NaN         NaN    NaN   \n",
       "\n",
       "   total_sales  \n",
       "0        82.54  \n",
       "1        40.24  \n",
       "2        35.52  \n",
       "3        32.77  \n",
       "4        31.38  "
      ]
     },
     "execution_count": 17,
     "metadata": {},
     "output_type": "execute_result"
    }
   ],
   "source": [
    "games.head()"
   ]
  },
  {
   "cell_type": "code",
   "execution_count": 18,
   "metadata": {},
   "outputs": [
    {
     "data": {
      "text/plain": [
       "count    16715.000000\n",
       "mean         0.533396\n",
       "std          1.548261\n",
       "min          0.000000\n",
       "25%          0.060000\n",
       "50%          0.170000\n",
       "75%          0.470000\n",
       "max         82.540000\n",
       "Name: total_sales, dtype: float64"
      ]
     },
     "execution_count": 18,
     "metadata": {},
     "output_type": "execute_result"
    }
   ],
   "source": [
    "games['total_sales'].describe()"
   ]
  },
  {
   "cell_type": "markdown",
   "metadata": {},
   "source": [
    "Суммарные продажи составляют от 0 до 82,54 млн. долларов, среднее значение - 0,53 млн. долл."
   ]
  },
  {
   "cell_type": "markdown",
   "metadata": {},
   "source": [
    "### Исследовательский анализ данных"
   ]
  },
  {
   "cell_type": "markdown",
   "metadata": {},
   "source": [
    "#### Количество выпущенных игр в разные годы"
   ]
  },
  {
   "cell_type": "markdown",
   "metadata": {},
   "source": [
    "Рассмотрим количество игр, которые были выпущены в разные годы. Построим график."
   ]
  },
  {
   "cell_type": "code",
   "execution_count": 19,
   "metadata": {},
   "outputs": [
    {
     "data": {
      "image/png": "[encoded data removed]",
      "text/plain": [
       "<Figure size 1224x432 with 1 Axes>"
      ]
     },
     "metadata": {
      "needs_background": "light"
     },
     "output_type": "display_data"
    }
   ],
   "source": [
    "games[games['year_of_release'] != 0].groupby('year_of_release').agg({'year_of_release':'count'}).plot(\n",
    "    kind='bar', figsize = (17, 6), title='Количество выпущенных игр в разные годы, шт.')\n",
    "\n",
    "plt.show()"
   ]
  },
  {
   "cell_type": "markdown",
   "metadata": {},
   "source": [
    "Из графика видно, что количество выпущенных игр имело восходящий тренд с 1980 г. до 2008 г. Пиковые значения приходятся на 2008 и 2009 годы. Далее количество игр падает."
   ]
  },
  {
   "cell_type": "markdown",
   "metadata": {},
   "source": [
    "Для анализа современной ситуации важнее данные за последние годы, например, за последние 5-10 лет перед запуском рекламной кампании."
   ]
  },
  {
   "cell_type": "markdown",
   "metadata": {},
   "source": [
    "#### Изменение продаж по платформам"
   ]
  },
  {
   "cell_type": "markdown",
   "metadata": {},
   "source": [
    "Посмотрим, как менялись продажи по платформам. Выберем платформы с наибольшими суммарными продажами и построим распределение по годам. Исследуем характерный срок, в течение которого появляются новые и исчезают старые платформы."
   ]
  },
  {
   "cell_type": "code",
   "execution_count": 20,
   "metadata": {},
   "outputs": [
    {
     "data": {
      "text/html": [
       "<div>\n",
       "<style scoped>\n",
       "    .dataframe tbody tr th:only-of-type {\n",
       "        vertical-align: middle;\n",
       "    }\n",
       "\n",
       "    .dataframe tbody tr th {\n",
       "        vertical-align: top;\n",
       "    }\n",
       "\n",
       "    .dataframe thead th {\n",
       "        text-align: right;\n",
       "    }\n",
       "</style>\n",
       "<table border=\"1\" class=\"dataframe\">\n",
       "  <thead>\n",
       "    <tr style=\"text-align: right;\">\n",
       "      <th></th>\n",
       "      <th>total_sales</th>\n",
       "    </tr>\n",
       "    <tr>\n",
       "      <th>platform</th>\n",
       "      <th></th>\n",
       "    </tr>\n",
       "  </thead>\n",
       "  <tbody>\n",
       "    <tr>\n",
       "      <th>PS2</th>\n",
       "      <td>1255.77</td>\n",
       "    </tr>\n",
       "    <tr>\n",
       "      <th>X360</th>\n",
       "      <td>971.42</td>\n",
       "    </tr>\n",
       "    <tr>\n",
       "      <th>PS3</th>\n",
       "      <td>939.65</td>\n",
       "    </tr>\n",
       "    <tr>\n",
       "      <th>Wii</th>\n",
       "      <td>907.51</td>\n",
       "    </tr>\n",
       "    <tr>\n",
       "      <th>DS</th>\n",
       "      <td>806.12</td>\n",
       "    </tr>\n",
       "    <tr>\n",
       "      <th>PS</th>\n",
       "      <td>730.86</td>\n",
       "    </tr>\n",
       "    <tr>\n",
       "      <th>GBA</th>\n",
       "      <td>317.85</td>\n",
       "    </tr>\n",
       "    <tr>\n",
       "      <th>PS4</th>\n",
       "      <td>314.14</td>\n",
       "    </tr>\n",
       "    <tr>\n",
       "      <th>PSP</th>\n",
       "      <td>294.05</td>\n",
       "    </tr>\n",
       "    <tr>\n",
       "      <th>PC</th>\n",
       "      <td>259.52</td>\n",
       "    </tr>\n",
       "  </tbody>\n",
       "</table>\n",
       "</div>"
      ],
      "text/plain": [
       "          total_sales\n",
       "platform             \n",
       "PS2           1255.77\n",
       "X360           971.42\n",
       "PS3            939.65\n",
       "Wii            907.51\n",
       "DS             806.12\n",
       "PS             730.86\n",
       "GBA            317.85\n",
       "PS4            314.14\n",
       "PSP            294.05\n",
       "PC             259.52"
      ]
     },
     "execution_count": 20,
     "metadata": {},
     "output_type": "execute_result"
    }
   ],
   "source": [
    "top_platforms = games.pivot_table(index = 'platform', values = 'total_sales', aggfunc = 'sum').sort_values(\n",
    "    by = 'total_sales', ascending=False).head(10)\n",
    "top_platforms"
   ]
  },
  {
   "cell_type": "markdown",
   "metadata": {},
   "source": [
    "Платформы с наибольшими суммарными продажами - PS2, X360, PS3 и др."
   ]
  },
  {
   "cell_type": "code",
   "execution_count": 21,
   "metadata": {},
   "outputs": [
    {
     "data": {
      "image/png": "[encoded data removed]",
      "text/plain": [
       "<Figure size 1224x432 with 1 Axes>"
      ]
     },
     "metadata": {
      "needs_background": "light"
     },
     "output_type": "display_data"
    }
   ],
   "source": [
    "games[games['year_of_release'] != 0].query('platform in @top_platforms.index').pivot_table(\n",
    "    index = 'year_of_release', values = 'total_sales', columns = 'platform', aggfunc = 'sum').plot(figsize = (17, 6))\n",
    "plt.show()"
   ]
  },
  {
   "cell_type": "markdown",
   "metadata": {},
   "source": [
    "**Выводы из графика:**\n",
    " * Самая популярная платформа (PS2) имела пик активности с 2000 г. по 2012 г. \n",
    " * Жизненный цикл X360 продолжается с 2005 г. по 2016 г. \n",
    " * Платформа PS3 активна с 2006 по 2016 г.\n",
    " * Мы видим, что непрерывный срок только у PC (с 1985 г. по 2016 г.)\n",
    " * Также можно наблюдать как платформы сменяют одна другую (PS, PS2, PS3, PS4). Средний срок жизненного цикла около 10 лет."
   ]
  },
  {
   "cell_type": "markdown",
   "metadata": {},
   "source": [
    "#### Данные за актуальный период"
   ]
  },
  {
   "cell_type": "markdown",
   "metadata": {},
   "source": [
    "Для дальнейшего анализа будем использовать данные за последние 10 лет, т.к. они помогут построить прогноз на основе наиболее свежей и актуальной информации. С 2006 г. начали появляться наиболее популярные консоли, и после этого года можно отследить динамику наиболее популярных консолей из Топ-10."
   ]
  },
  {
   "cell_type": "code",
   "execution_count": 22,
   "metadata": {},
   "outputs": [],
   "source": [
    "games_data = games.copy()"
   ]
  },
  {
   "cell_type": "code",
   "execution_count": 23,
   "metadata": {},
   "outputs": [],
   "source": [
    "games = games[games['year_of_release'] >=2006]"
   ]
  },
  {
   "cell_type": "code",
   "execution_count": 24,
   "metadata": {},
   "outputs": [
    {
     "data": {
      "text/plain": [
       "2008    1427\n",
       "2009    1426\n",
       "2010    1255\n",
       "2007    1197\n",
       "2011    1136\n",
       "2006    1006\n",
       "2012     653\n",
       "2015     606\n",
       "2014     581\n",
       "2013     544\n",
       "2016     502\n",
       "Name: year_of_release, dtype: int64"
      ]
     },
     "execution_count": 24,
     "metadata": {},
     "output_type": "execute_result"
    }
   ],
   "source": [
    "games['year_of_release'].value_counts()"
   ]
  },
  {
   "cell_type": "markdown",
   "metadata": {},
   "source": [
    "#### Анализ наиболее популярных платформ"
   ]
  },
  {
   "cell_type": "markdown",
   "metadata": {},
   "source": [
    "Для дальнейшего анализа будем использовать данные за последние 10 лет, т.к. они помогут построить прогноз на основе наиболее свежей и актуальной информации. С 2006 г. начали появляться наиболее популярные консоли, и после этого года можно отследить динамику наиболее популярных консолей из Топ-10."
   ]
  },
  {
   "cell_type": "markdown",
   "metadata": {},
   "source": [
    "Пересчитаем Топ-10 платформ за актуальный временной отрезок."
   ]
  },
  {
   "cell_type": "code",
   "execution_count": 25,
   "metadata": {},
   "outputs": [
    {
     "data": {
      "text/html": [
       "<div>\n",
       "<style scoped>\n",
       "    .dataframe tbody tr th:only-of-type {\n",
       "        vertical-align: middle;\n",
       "    }\n",
       "\n",
       "    .dataframe tbody tr th {\n",
       "        vertical-align: top;\n",
       "    }\n",
       "\n",
       "    .dataframe thead th {\n",
       "        text-align: right;\n",
       "    }\n",
       "</style>\n",
       "<table border=\"1\" class=\"dataframe\">\n",
       "  <thead>\n",
       "    <tr style=\"text-align: right;\">\n",
       "      <th></th>\n",
       "      <th>total_sales</th>\n",
       "    </tr>\n",
       "    <tr>\n",
       "      <th>platform</th>\n",
       "      <th></th>\n",
       "    </tr>\n",
       "  </thead>\n",
       "  <tbody>\n",
       "    <tr>\n",
       "      <th>X360</th>\n",
       "      <td>952.99</td>\n",
       "    </tr>\n",
       "    <tr>\n",
       "      <th>PS3</th>\n",
       "      <td>931.34</td>\n",
       "    </tr>\n",
       "    <tr>\n",
       "      <th>Wii</th>\n",
       "      <td>891.18</td>\n",
       "    </tr>\n",
       "    <tr>\n",
       "      <th>DS</th>\n",
       "      <td>655.35</td>\n",
       "    </tr>\n",
       "    <tr>\n",
       "      <th>PS4</th>\n",
       "      <td>314.14</td>\n",
       "    </tr>\n",
       "    <tr>\n",
       "      <th>PS2</th>\n",
       "      <td>265.80</td>\n",
       "    </tr>\n",
       "    <tr>\n",
       "      <th>3DS</th>\n",
       "      <td>257.81</td>\n",
       "    </tr>\n",
       "    <tr>\n",
       "      <th>PSP</th>\n",
       "      <td>238.63</td>\n",
       "    </tr>\n",
       "    <tr>\n",
       "      <th>PC</th>\n",
       "      <td>163.42</td>\n",
       "    </tr>\n",
       "    <tr>\n",
       "      <th>XOne</th>\n",
       "      <td>159.32</td>\n",
       "    </tr>\n",
       "  </tbody>\n",
       "</table>\n",
       "</div>"
      ],
      "text/plain": [
       "          total_sales\n",
       "platform             \n",
       "X360           952.99\n",
       "PS3            931.34\n",
       "Wii            891.18\n",
       "DS             655.35\n",
       "PS4            314.14\n",
       "PS2            265.80\n",
       "3DS            257.81\n",
       "PSP            238.63\n",
       "PC             163.42\n",
       "XOne           159.32"
      ]
     },
     "execution_count": 25,
     "metadata": {},
     "output_type": "execute_result"
    }
   ],
   "source": [
    "top_platforms = games.pivot_table(\n",
    "    index = 'platform', values = 'total_sales', aggfunc = 'sum').sort_values(\n",
    "    by = 'total_sales', ascending=False).head(10)\n",
    "top_platforms"
   ]
  },
  {
   "cell_type": "code",
   "execution_count": 26,
   "metadata": {},
   "outputs": [
    {
     "ename": "ValueError",
     "evalue": "x must be 1D",
     "output_type": "error",
     "traceback": [
      "\u001b[1;31m---------------------------------------------------------------------------\u001b[0m",
      "\u001b[1;31mValueError\u001b[0m                                Traceback (most recent call last)",
      "\u001b[1;32m<ipython-input-26-338ccf8ce7cc>\u001b[0m in \u001b[0;36m<module>\u001b[1;34m\u001b[0m\n\u001b[0;32m      8\u001b[0m \u001b[1;31m#create pie chart\u001b[0m\u001b[1;33m\u001b[0m\u001b[1;33m\u001b[0m\u001b[1;33m\u001b[0m\u001b[0m\n\u001b[0;32m      9\u001b[0m \u001b[0mplt\u001b[0m\u001b[1;33m.\u001b[0m\u001b[0mfigure\u001b[0m\u001b[1;33m(\u001b[0m\u001b[0mfigsize\u001b[0m\u001b[1;33m=\u001b[0m\u001b[1;33m(\u001b[0m\u001b[1;36m8\u001b[0m\u001b[1;33m,\u001b[0m \u001b[1;36m8\u001b[0m\u001b[1;33m)\u001b[0m\u001b[1;33m)\u001b[0m\u001b[1;33m\u001b[0m\u001b[1;33m\u001b[0m\u001b[0m\n\u001b[1;32m---> 10\u001b[1;33m \u001b[0mplt\u001b[0m\u001b[1;33m.\u001b[0m\u001b[0mpie\u001b[0m\u001b[1;33m(\u001b[0m\u001b[0mdata\u001b[0m\u001b[1;33m,\u001b[0m \u001b[0mlabels\u001b[0m \u001b[1;33m=\u001b[0m \u001b[0mlabels\u001b[0m\u001b[1;33m,\u001b[0m \u001b[0mcolors\u001b[0m \u001b[1;33m=\u001b[0m \u001b[0mcolors\u001b[0m\u001b[1;33m,\u001b[0m \u001b[0mautopct\u001b[0m\u001b[1;33m=\u001b[0m\u001b[1;34m'%.0f%%'\u001b[0m\u001b[1;33m)\u001b[0m\u001b[1;33m\u001b[0m\u001b[1;33m\u001b[0m\u001b[0m\n\u001b[0m\u001b[0;32m     11\u001b[0m \u001b[0mplt\u001b[0m\u001b[1;33m.\u001b[0m\u001b[0mshow\u001b[0m\u001b[1;33m(\u001b[0m\u001b[1;33m)\u001b[0m\u001b[1;33m\u001b[0m\u001b[1;33m\u001b[0m\u001b[0m\n",
      "\u001b[1;32m~\\anaconda3\\lib\\site-packages\\matplotlib\\pyplot.py\u001b[0m in \u001b[0;36mpie\u001b[1;34m(x, explode, labels, colors, autopct, pctdistance, shadow, labeldistance, startangle, radius, counterclock, wedgeprops, textprops, center, frame, rotatelabels, normalize, data)\u001b[0m\n\u001b[0;32m   2825\u001b[0m         \u001b[0mtextprops\u001b[0m\u001b[1;33m=\u001b[0m\u001b[1;32mNone\u001b[0m\u001b[1;33m,\u001b[0m \u001b[0mcenter\u001b[0m\u001b[1;33m=\u001b[0m\u001b[1;33m(\u001b[0m\u001b[1;36m0\u001b[0m\u001b[1;33m,\u001b[0m \u001b[1;36m0\u001b[0m\u001b[1;33m)\u001b[0m\u001b[1;33m,\u001b[0m \u001b[0mframe\u001b[0m\u001b[1;33m=\u001b[0m\u001b[1;32mFalse\u001b[0m\u001b[1;33m,\u001b[0m\u001b[1;33m\u001b[0m\u001b[1;33m\u001b[0m\u001b[0m\n\u001b[0;32m   2826\u001b[0m         rotatelabels=False, *, normalize=None, data=None):\n\u001b[1;32m-> 2827\u001b[1;33m     return gca().pie(\n\u001b[0m\u001b[0;32m   2828\u001b[0m         \u001b[0mx\u001b[0m\u001b[1;33m,\u001b[0m \u001b[0mexplode\u001b[0m\u001b[1;33m=\u001b[0m\u001b[0mexplode\u001b[0m\u001b[1;33m,\u001b[0m \u001b[0mlabels\u001b[0m\u001b[1;33m=\u001b[0m\u001b[0mlabels\u001b[0m\u001b[1;33m,\u001b[0m \u001b[0mcolors\u001b[0m\u001b[1;33m=\u001b[0m\u001b[0mcolors\u001b[0m\u001b[1;33m,\u001b[0m\u001b[1;33m\u001b[0m\u001b[1;33m\u001b[0m\u001b[0m\n\u001b[0;32m   2829\u001b[0m         \u001b[0mautopct\u001b[0m\u001b[1;33m=\u001b[0m\u001b[0mautopct\u001b[0m\u001b[1;33m,\u001b[0m \u001b[0mpctdistance\u001b[0m\u001b[1;33m=\u001b[0m\u001b[0mpctdistance\u001b[0m\u001b[1;33m,\u001b[0m \u001b[0mshadow\u001b[0m\u001b[1;33m=\u001b[0m\u001b[0mshadow\u001b[0m\u001b[1;33m,\u001b[0m\u001b[1;33m\u001b[0m\u001b[1;33m\u001b[0m\u001b[0m\n",
      "\u001b[1;32m~\\anaconda3\\lib\\site-packages\\matplotlib\\__init__.py\u001b[0m in \u001b[0;36minner\u001b[1;34m(ax, data, *args, **kwargs)\u001b[0m\n\u001b[0;32m   1445\u001b[0m     \u001b[1;32mdef\u001b[0m \u001b[0minner\u001b[0m\u001b[1;33m(\u001b[0m\u001b[0max\u001b[0m\u001b[1;33m,\u001b[0m \u001b[1;33m*\u001b[0m\u001b[0margs\u001b[0m\u001b[1;33m,\u001b[0m \u001b[0mdata\u001b[0m\u001b[1;33m=\u001b[0m\u001b[1;32mNone\u001b[0m\u001b[1;33m,\u001b[0m \u001b[1;33m**\u001b[0m\u001b[0mkwargs\u001b[0m\u001b[1;33m)\u001b[0m\u001b[1;33m:\u001b[0m\u001b[1;33m\u001b[0m\u001b[1;33m\u001b[0m\u001b[0m\n\u001b[0;32m   1446\u001b[0m         \u001b[1;32mif\u001b[0m \u001b[0mdata\u001b[0m \u001b[1;32mis\u001b[0m \u001b[1;32mNone\u001b[0m\u001b[1;33m:\u001b[0m\u001b[1;33m\u001b[0m\u001b[1;33m\u001b[0m\u001b[0m\n\u001b[1;32m-> 1447\u001b[1;33m             \u001b[1;32mreturn\u001b[0m \u001b[0mfunc\u001b[0m\u001b[1;33m(\u001b[0m\u001b[0max\u001b[0m\u001b[1;33m,\u001b[0m \u001b[1;33m*\u001b[0m\u001b[0mmap\u001b[0m\u001b[1;33m(\u001b[0m\u001b[0msanitize_sequence\u001b[0m\u001b[1;33m,\u001b[0m \u001b[0margs\u001b[0m\u001b[1;33m)\u001b[0m\u001b[1;33m,\u001b[0m \u001b[1;33m**\u001b[0m\u001b[0mkwargs\u001b[0m\u001b[1;33m)\u001b[0m\u001b[1;33m\u001b[0m\u001b[1;33m\u001b[0m\u001b[0m\n\u001b[0m\u001b[0;32m   1448\u001b[0m \u001b[1;33m\u001b[0m\u001b[0m\n\u001b[0;32m   1449\u001b[0m         \u001b[0mbound\u001b[0m \u001b[1;33m=\u001b[0m \u001b[0mnew_sig\u001b[0m\u001b[1;33m.\u001b[0m\u001b[0mbind\u001b[0m\u001b[1;33m(\u001b[0m\u001b[0max\u001b[0m\u001b[1;33m,\u001b[0m \u001b[1;33m*\u001b[0m\u001b[0margs\u001b[0m\u001b[1;33m,\u001b[0m \u001b[1;33m**\u001b[0m\u001b[0mkwargs\u001b[0m\u001b[1;33m)\u001b[0m\u001b[1;33m\u001b[0m\u001b[1;33m\u001b[0m\u001b[0m\n",
      "\u001b[1;32m~\\anaconda3\\lib\\site-packages\\matplotlib\\axes\\_axes.py\u001b[0m in \u001b[0;36mpie\u001b[1;34m(self, x, explode, labels, colors, autopct, pctdistance, shadow, labeldistance, startangle, radius, counterclock, wedgeprops, textprops, center, frame, rotatelabels, normalize)\u001b[0m\n\u001b[0;32m   2995\u001b[0m         \u001b[0mx\u001b[0m \u001b[1;33m=\u001b[0m \u001b[0mnp\u001b[0m\u001b[1;33m.\u001b[0m\u001b[0masarray\u001b[0m\u001b[1;33m(\u001b[0m\u001b[0mx\u001b[0m\u001b[1;33m,\u001b[0m \u001b[0mnp\u001b[0m\u001b[1;33m.\u001b[0m\u001b[0mfloat32\u001b[0m\u001b[1;33m)\u001b[0m\u001b[1;33m\u001b[0m\u001b[1;33m\u001b[0m\u001b[0m\n\u001b[0;32m   2996\u001b[0m         \u001b[1;32mif\u001b[0m \u001b[0mx\u001b[0m\u001b[1;33m.\u001b[0m\u001b[0mndim\u001b[0m \u001b[1;33m>\u001b[0m \u001b[1;36m1\u001b[0m\u001b[1;33m:\u001b[0m\u001b[1;33m\u001b[0m\u001b[1;33m\u001b[0m\u001b[0m\n\u001b[1;32m-> 2997\u001b[1;33m             \u001b[1;32mraise\u001b[0m \u001b[0mValueError\u001b[0m\u001b[1;33m(\u001b[0m\u001b[1;34m\"x must be 1D\"\u001b[0m\u001b[1;33m)\u001b[0m\u001b[1;33m\u001b[0m\u001b[1;33m\u001b[0m\u001b[0m\n\u001b[0m\u001b[0;32m   2998\u001b[0m \u001b[1;33m\u001b[0m\u001b[0m\n\u001b[0;32m   2999\u001b[0m         \u001b[1;32mif\u001b[0m \u001b[0mnp\u001b[0m\u001b[1;33m.\u001b[0m\u001b[0many\u001b[0m\u001b[1;33m(\u001b[0m\u001b[0mx\u001b[0m \u001b[1;33m<\u001b[0m \u001b[1;36m0\u001b[0m\u001b[1;33m)\u001b[0m\u001b[1;33m:\u001b[0m\u001b[1;33m\u001b[0m\u001b[1;33m\u001b[0m\u001b[0m\n",
      "\u001b[1;31mValueError\u001b[0m: x must be 1D"
     ]
    },
    {
     "data": {
      "image/png": "[encoded data removed]",
      "text/plain": [
       "<Figure size 576x576 with 1 Axes>"
      ]
     },
     "metadata": {
      "needs_background": "light"
     },
     "output_type": "display_data"
    }
   ],
   "source": [
    "#define data\n",
    "data = top_platforms\n",
    "labels = top_platforms.index\n",
    "\n",
    "#define Seaborn color palette to use\n",
    "colors = sns.color_palette('pastel')[0:5]\n",
    "\n",
    "#create pie chart\n",
    "plt.figure(figsize=(8, 8))\n",
    "plt.pie(data, labels = labels, colors = colors, autopct='%.0f%%')\n",
    "plt.show()"
   ]
  },
  {
   "cell_type": "markdown",
   "metadata": {},
   "source": [
    "Из пироговой диаграмы видно, что:\n",
    " * наибольшая доля (20%) приходится на X360, \n",
    " * далее следуют PS3 (19%),\n",
    " * Wii (18%),\n",
    " * DS (14%)."
   ]
  },
  {
   "cell_type": "markdown",
   "metadata": {},
   "source": [
    "Для дальнейшего анализа отбросим платформы с низкой долей (меньше 5%) и построим график динамики продаж."
   ]
  },
  {
   "cell_type": "code",
   "execution_count": null,
   "metadata": {},
   "outputs": [],
   "source": [
    "top_platforms = games.pivot_table(\n",
    "    index = 'platform', values = 'total_sales', aggfunc = 'sum').sort_values(\n",
    "    by = 'total_sales', ascending=False).head(6)\n",
    "top_platforms"
   ]
  },
  {
   "cell_type": "code",
   "execution_count": null,
   "metadata": {},
   "outputs": [],
   "source": [
    "games.query(\n",
    "    'platform in @top_platforms.index').pivot_table(\n",
    "    index = 'year_of_release', values = 'total_sales', columns = 'platform', aggfunc = 'sum').plot(figsize = (17, 6))\n",
    "plt.show()"
   ]
  },
  {
   "cell_type": "markdown",
   "metadata": {},
   "source": [
    "**Выводы из графика:**\n",
    "    \n",
    " * На конец 2016 г. наиболее популярной платформой является PS4 (она наиболее свежая);\n",
    " * Видим нисходящие тренды по другим консолям;\n",
    " * До 2016 г. отжили свой срок и ушли с рынка PS2, DS;\n",
    " * На конец 2016 г. \"живы\" только 4 платформ из 6 (PS4, PS3, X360, Wii);\n",
    " * В целом, можно сделать вывод о стангнации игровой индустрии (консольной/ десктопной). Это объясняется ростом популярности мобильного гейминга и переориентации пользователей от консолей/ десктопных игр на мобильные игры. Статистика показывает, что игровая индустрия растет, если учесть еще и мобильный гейминг."
   ]
  },
  {
   "cell_type": "markdown",
   "metadata": {},
   "source": [
    "#### «Ящик с усами» по глобальным продажам игр в разбивке по платформам"
   ]
  },
  {
   "cell_type": "markdown",
   "metadata": {},
   "source": [
    "Обрежем датасет для построения нужных графиков:\n",
    "\n",
    "    * выберем только актуальный период для анализа;\n",
    "    * оставим только топовые платформы."
   ]
  },
  {
   "cell_type": "code",
   "execution_count": null,
   "metadata": {},
   "outputs": [],
   "source": [
    "games_top = games.query('platform in @top_platforms.index')"
   ]
  },
  {
   "cell_type": "code",
   "execution_count": null,
   "metadata": {},
   "outputs": [],
   "source": [
    "plt.figure(figsize=(17, 6))\n",
    "plt.grid = True\n",
    "\n",
    "sns.violinplot(data=games_top, x='platform', y='total_sales')\n",
    "plt.ylim(-2, 5)\n",
    "\n",
    "plt.xlabel('Глобальная выручка',fontsize=12)\n",
    "plt.ylabel('Платформа', fontsize=12)\n",
    "plt.show()\n",
    "plt.show()"
   ]
  },
  {
   "cell_type": "code",
   "execution_count": null,
   "metadata": {},
   "outputs": [],
   "source": [
    "plt.figure(figsize=(17,6))\n",
    " \n",
    "sns.boxplot(data=games_top, x='platform', y='total_sales')\n",
    "plt.ylim(0, 3)\n",
    "plt.grid = True\n",
    "plt.show()"
   ]
  },
  {
   "cell_type": "markdown",
   "metadata": {},
   "source": [
    "Можно сделать следующие выводы:\n",
    " * медиана по этой выборке составляет от 0,2 до 0,25 млн. долл. выручки за игру;\n",
    " * самые высокие продажи на платформах X360, PS3, PS4\n",
    " * самые низкие продажи у DS, PS2 (они отмирают)\n",
    " * у данных есть много выбросов.\n",
    " * верхняя граница предела, выше которого начинаются выбросы, самая высокая у трех платформ - PS3, PS4, X360 (около 1,7 млн. долл.), у остальных платформ она около 1 млн. долл. (PS2, Wii), самое низкое значение - у DS - около 0,6 млн. долл."
   ]
  },
  {
   "cell_type": "markdown",
   "metadata": {},
   "source": [
    "#### Влияние на продожаи внутри платформы отзывов пользователей и критиков"
   ]
  },
  {
   "cell_type": "markdown",
   "metadata": {},
   "source": [
    "Посмотрим, как влияют на продажи внутри одной популярной платформы (X360) отзывы пользователей и критиков. Построим диаграмму рассеяния и посчитаем корреляцию между отзывами и продажами. "
   ]
  },
  {
   "cell_type": "code",
   "execution_count": null,
   "metadata": {},
   "outputs": [],
   "source": [
    "games_rating = games.query('platform == \"X360\"')"
   ]
  },
  {
   "cell_type": "code",
   "execution_count": null,
   "metadata": {},
   "outputs": [],
   "source": [
    "games_rating.head()"
   ]
  },
  {
   "cell_type": "code",
   "execution_count": null,
   "metadata": {},
   "outputs": [],
   "source": [
    "plt.figure(figsize=(17,6))\n",
    "plt.title('Диаграмма рассеяния продаж в зависимости от отзывов критиков')\n",
    "\n",
    "rng = np.random.RandomState(0)\n",
    "\n",
    "x = games_rating['critic_score']\n",
    "y = games_rating['total_sales']\n",
    "\n",
    "colors = rng.rand(1214)\n",
    "sizes = 1000 * rng.rand(100)\n",
    "\n",
    "plt.scatter(x, y, c=colors, s=sizes, alpha=0.3,\n",
    "            cmap='viridis')\n",
    "plt.colorbar();  # show color scale\n",
    "\n",
    "plt.xlabel('Отзывы критиков', fontsize=10)\n",
    "plt.ylabel('Глобальная выручка',fontsize=10)\n",
    "\n",
    "\n",
    "plt.show()"
   ]
  },
  {
   "cell_type": "markdown",
   "metadata": {},
   "source": [
    "Здесь можно сказать, что при увеличении рейтинга от критиков растет средняя глобальная выручка, что является закономерным явлением, так как более качественные игры более популярны, их покупают чаще."
   ]
  },
  {
   "cell_type": "code",
   "execution_count": null,
   "metadata": {},
   "outputs": [],
   "source": [
    "plt.figure(figsize=(17,6))\n",
    "plt.title('Диаграмма рассеяния продаж в зависимости от отзывов пользователей')\n",
    "rng = np.random.RandomState(0)\n",
    "\n",
    "x = games_rating['user_score']\n",
    "y = games_rating['total_sales']\n",
    "\n",
    "colors = rng.rand(1214)\n",
    "sizes = 1000 * rng.rand(100)\n",
    "\n",
    "plt.scatter(x, y, c=colors, s=sizes, alpha=0.3,\n",
    "            cmap='viridis')\n",
    "plt.colorbar();  # show color scale\n",
    "\n",
    "plt.xlabel('Отзывы пользователей', fontsize=10)\n",
    "plt.ylabel('Глобальная выручка',fontsize=10)\n",
    "\n",
    "plt.show()"
   ]
  },
  {
   "cell_type": "markdown",
   "metadata": {},
   "source": [
    "В целом, отзывы пользователей также влияют на выручку: чем выше оценка пользователей, там больше продаж. Но в отличии от картины с критиками, здесь мы можем наблюдать больше выбросов. "
   ]
  },
  {
   "cell_type": "markdown",
   "metadata": {},
   "source": [
    "Постоим матрицу корреляции."
   ]
  },
  {
   "cell_type": "code",
   "execution_count": null,
   "metadata": {},
   "outputs": [],
   "source": [
    "plt.figure(figsize=(17,6))\n",
    "sns.heatmap(games_rating.corr(), annot=True, cmap=\"Reds\", fmt='.2f', annot_kws={'size':12})\n",
    "plt.show()"
   ]
  },
  {
   "cell_type": "code",
   "execution_count": null,
   "metadata": {},
   "outputs": [],
   "source": [
    "games_rating_filtered = games_rating[['total_sales' ,'critic_score', 'user_score']] # выделение нужных колонок"
   ]
  },
  {
   "cell_type": "code",
   "execution_count": null,
   "metadata": {},
   "outputs": [],
   "source": [
    "plt.figure(figsize=(3,3))\n",
    "sns.heatmap(games_rating_filtered.corr()[['total_sales']].sort_values(by='total_sales', ascending=False), cmap=\"Reds\", \n",
    "            annot=True, annot_kws={'size':15})\n",
    "plt.show()"
   ]
  },
  {
   "cell_type": "markdown",
   "metadata": {},
   "source": [
    "**Вывод:** оценка критиков влияет на продажи сильнее (0.4), чем отзывы пользователей (0.12)."
   ]
  },
  {
   "cell_type": "markdown",
   "metadata": {},
   "source": [
    "Посмотрим также корреляции по другим топовым платформам."
   ]
  },
  {
   "cell_type": "code",
   "execution_count": null,
   "metadata": {},
   "outputs": [],
   "source": [
    "top_platforms.index"
   ]
  },
  {
   "cell_type": "code",
   "execution_count": null,
   "metadata": {},
   "outputs": [],
   "source": [
    "#top_platforms = ['PS2', 'X360', 'PS3', 'Wii', 'DS', 'PS', 'PS4', 'XOne']\n",
    "top_platforms = ['X360', 'PS3', 'Wii', 'DS', 'PS4', 'PS2']\n",
    "\n",
    "rows = len(top_platforms) // 2\n",
    "cols = 2\n",
    "fig, axes = plt.subplots(rows, cols, figsize=(15,8.5))\n",
    "count = 0\n",
    "for r in range(rows):\n",
    "    for c in range(cols):\n",
    "        curr_platform = top_platforms[count]\n",
    "        df_prep = games[(games['platform'] == curr_platform) & (games['user_score'] > 0)].copy()\n",
    "        \n",
    "        df_filtered = df_prep[['total_sales' ,'critic_score', 'user_score']]\n",
    "        sns.set(font_scale=1.0)\n",
    "        ax = sns.heatmap(df_filtered.corr()[['total_sales']].sort_values(by='total_sales', ascending=False), \n",
    "                         cmap=\"Reds\", annot=True, annot_kws={'size':12}, ax=axes[r,c])\n",
    "        ax.set_title(curr_platform, fontsize=15)\n",
    "        ax.set_yticklabels(ax.get_yticklabels(), rotation=0)\n",
    "        plt.tight_layout(pad=3)\n",
    "        count += 1"
   ]
  },
  {
   "cell_type": "markdown",
   "metadata": {},
   "source": [
    "Итак, данные по самой популярной платформе X360 примерно совпадают с данными по другой популярной платформе PS3, PS2. Ниже зависимость по таким платформам как Wii и DS. При этом по платформам PS3 и PS4 на выручку сильнее влияет рейтинг критика. Также примечательно, что в случае с PS4 рейтинг пользователей имеет отрицательную корреляцию с продажами, но коэффициент корреляции достаточно низкий, чтобы говорить о ярко выраженной тенденции."
   ]
  },
  {
   "cell_type": "markdown",
   "metadata": {},
   "source": [
    "#### Исследование жанров игр"
   ]
  },
  {
   "cell_type": "markdown",
   "metadata": {},
   "source": [
    "Посмотрим на общее распределение игр по жанрам. Рассмотрим самые прибыльные жанры, а также жанры с высокими и низкими продажами."
   ]
  },
  {
   "cell_type": "code",
   "execution_count": null,
   "metadata": {},
   "outputs": [],
   "source": [
    "most_popular_genre = games.groupby('genre').agg({'name':'count'}).reset_index()"
   ]
  },
  {
   "cell_type": "code",
   "execution_count": null,
   "metadata": {},
   "outputs": [],
   "source": [
    "most_popular_genre.sort_values(by='name', ascending=False)"
   ]
  },
  {
   "cell_type": "code",
   "execution_count": null,
   "metadata": {},
   "outputs": [],
   "source": [
    "ax = plt.gca()\n",
    "\n",
    "pivot = games.groupby('genre').agg({'name': 'count', 'total_sales': 'sum'}).sort_values(by='name', ascending=False)\n",
    "\n",
    "plot1 = pivot['name']\n",
    "plot1.plot(kind='bar', figsize=(16,5), ec='black', ax=ax, width=0.3, position=1)\n",
    "\n",
    "plot2 = pivot['total_sales']\n",
    "plot2.plot(kind='bar', figsize=(16,5), ec='black', ax=ax, width=0.3, color='#ffd700', position=0)\n",
    "\n",
    "ax.legend(['Количество продаж', 'Общая сумма продаж'])\n",
    "plt.show()"
   ]
  },
  {
   "cell_type": "markdown",
   "metadata": {},
   "source": [
    "Можно сделать следующие **выводы:**\n",
    "\n",
    " * Самые популярные жанры по количеству продаж - action, sports, misc (разное), role-playing. Но на их производство требуется больше инвестиций, разница между выручкой и расходами может показывать не такой оптимистичный результат. Но игры этих жанров имеют больше всего поклонников.\n",
    " * Лидирующие жанры по общей сумме продаж - action, sports, role-playing.\n",
    " * Жанры с низкими продажами - Puzzle, Strategy, Fighting, Stimulation. Игры этих жанров не очень популярны у пользователей."
   ]
  },
  {
   "cell_type": "markdown",
   "metadata": {},
   "source": [
    "### Портрет пользователя каждого региона"
   ]
  },
  {
   "cell_type": "markdown",
   "metadata": {},
   "source": [
    "#### Самые популярные платформы (топ-5)"
   ]
  },
  {
   "cell_type": "markdown",
   "metadata": {},
   "source": [
    "Проанализируем самые популярные платформы в разрезе региона."
   ]
  },
  {
   "cell_type": "code",
   "execution_count": null,
   "metadata": {},
   "outputs": [],
   "source": [
    "games_region = games.query('platform in @top_platforms')\n",
    "games_platforms_region = games_region.groupby('platform').agg({'na_sales': 'sum', 'eu_sales': 'sum', 'jp_sales': 'sum'})"
   ]
  },
  {
   "cell_type": "code",
   "execution_count": null,
   "metadata": {},
   "outputs": [],
   "source": [
    "games_platforms_region.plot(kind='bar', figsize=(17, 5), title = 'Самые популярные платформы в зависимости от региона продаж')\n",
    "plt.show()"
   ]
  },
  {
   "cell_type": "markdown",
   "metadata": {},
   "source": [
    "Выводы: почти по всем платформам продаж больше всего по региону Северная Америка. Но так как продажи по Северной Америке наиболее высокие в целом, следует подробнее рассмотреть каждый регион, чтобы выявить наиболее популярные платформы в нем."
   ]
  },
  {
   "cell_type": "code",
   "execution_count": null,
   "metadata": {},
   "outputs": [],
   "source": [
    "def describe_region(groupby, region_sales, ax):\n",
    "    pivot = games.groupby(groupby).agg({region_sales: 'sum'}).sort_values(by=region_sales, ascending=False)[:5]\n",
    "    title_dict = {'na_sales': 'Северная Америка: продажи, млн. долл.', \n",
    "                  'eu_sales': 'Европа: продажи, млн. долл.', \n",
    "                  'jp_sales': 'Япония: продажи, млн. долл.'}\n",
    "    color_dict = {'na_sales': 'skyblue', 'eu_sales': 'gold', 'jp_sales': 'palegreen'}\n",
    "    \n",
    "    plot = pivot.plot(kind='bar', ec='black', title=title_dict[region_sales], ax=axes[ax], \n",
    "                   fontsize=12, color=color_dict[region_sales], rot=20)\n",
    "    \n",
    "    plot.legend(prop={'size':14})\n",
    "    plot.set_xlabel('')\n",
    "    plot.title.set_size(20)"
   ]
  },
  {
   "cell_type": "code",
   "execution_count": null,
   "metadata": {},
   "outputs": [],
   "source": [
    "fig, axes = plt.subplots(1, 3, figsize=(25,6))\n",
    "\n",
    "describe_region('platform', 'na_sales', 0)\n",
    "describe_region('platform', 'eu_sales', 1)\n",
    "describe_region('platform', 'jp_sales', 2)"
   ]
  },
  {
   "cell_type": "markdown",
   "metadata": {},
   "source": [
    "**Выводы:**\n",
    "  * в Северной Америке наиболее популярная платформа - X360, наименее популярная - PS2;\n",
    "  * в Европе предпочитают PS3, а также X360, платформы DS и PS4 не пользуются популярностью;\n",
    "  * в Японии обратные тренды: здесь любят DS, 3DS."
   ]
  },
  {
   "cell_type": "markdown",
   "metadata": {},
   "source": [
    "#### Самые популярные жанры (топ-5)."
   ]
  },
  {
   "cell_type": "markdown",
   "metadata": {},
   "source": [
    "Рассмотрим самые популярные жанры в зависимости от региона."
   ]
  },
  {
   "cell_type": "code",
   "execution_count": null,
   "metadata": {},
   "outputs": [],
   "source": [
    "games_genre_region = games_region.groupby('genre').agg({'na_sales': 'sum', 'eu_sales': 'sum', 'jp_sales': 'sum'})"
   ]
  },
  {
   "cell_type": "code",
   "execution_count": null,
   "metadata": {},
   "outputs": [],
   "source": [
    "games_genre_region.plot(kind='bar', figsize=(17, 5), title = 'Самые популярные жанры в зависимости от региона продаж')\n",
    "plt.show()"
   ]
  },
  {
   "cell_type": "code",
   "execution_count": null,
   "metadata": {},
   "outputs": [],
   "source": [
    "fig, axes = plt.subplots(1, 3, figsize=(25,6))\n",
    "\n",
    "describe_region('genre', 'na_sales', 0)\n",
    "describe_region('genre', 'eu_sales', 1)\n",
    "describe_region('genre', 'jp_sales', 2)"
   ]
  },
  {
   "cell_type": "markdown",
   "metadata": {},
   "source": [
    "**Выводы:**\n",
    "  * в Северной Америке любят жанры Action, Sports, Shooter, misc, Role-playing;\n",
    "  * в Европе вкусы совпадают в Северной Америкой, но вместо ролевых игр имеет популярность жанр Racing;\n",
    "  * в Японии всё наоборот - здесь самый популярный жанр - Role-Playing. Также любят action, misc, sports."
   ]
  },
  {
   "cell_type": "markdown",
   "metadata": {},
   "source": [
    "#### Влияние рейтинга ESRB на продажи в отдельном регионе"
   ]
  },
  {
   "cell_type": "markdown",
   "metadata": {},
   "source": [
    "Проверим, влияет ли рейтинг ESRB на продажи в отдельном регионе."
   ]
  },
  {
   "cell_type": "code",
   "execution_count": null,
   "metadata": {},
   "outputs": [],
   "source": [
    "games['rating'].unique()"
   ]
  },
  {
   "cell_type": "markdown",
   "metadata": {},
   "source": [
    "**Entertainment Software Rating Board (ESRB)** — негосударственная организация, основное направление деятельности — принятие и определение рейтингов для компьютерных видеоигр и другого развлекательного программного обеспечения в США и Канаде. ESRB была основана в 1994 году ассоциацией Interactive Digital Software Association (современное название — «Entertainment Software Association»). К началу 2003 года рейтинги ESRB получили более 8000 продуктов от 350 издателей."
   ]
  },
  {
   "cell_type": "markdown",
   "metadata": {},
   "source": [
    "Описание:\n",
    " * **«EC» («Early childhood»)** — «Для детей младшего возраста»: Игра подходит для детей от 3 лет и не содержит материалов, которые родители могли бы счесть неподходящими. Продукты, получившие данный рейтинг, изначально разрабатываются для детей и обычно представляют собой развивающие игры. Некоторые усложнённые развивающие игры могут иметь рейтинг «Everyone».\n",
    " * **«E» («Everyone»)** — «Для всех»: Содержание вполне подходит для возрастной категории от 6 лет. Такие игры могут понравиться и взрослым. Игры с этим рейтингом могут содержать минимальное насилие, в основном «мультяшного» характера. Первой игрой, которая получила данный рейтинг, стала The Simpsons Cartoon Studio, выпущенная в 1996 году. Первоначально \"K-A\" (\"Kids to Adults\")\n",
    " * **«E10+» («Everyone 10 and older»)** — «Для всех от 10 лет и старше»: Проекты с данным рейтингом могут содержать или немного больше мультипликационного или мягкого насилия, или несколько откровенные сцены, или минимальное количество крови. Рейтинг был принят ESRB 2 марта 2005 года. Первой игрой, которая получила данный рейтинг, стала Donkey Kong: Jungle Beat.\n",
    " * **«T» («Teen»)** — «Подросткам»: Игра подходит для лиц от 13 лет. Проекты из данной категории могут содержать насилие, непристойные сцены, грубый юмор, в меру откровенное сексуальное содержимое, кровь или нечастое использование ненормативной лексики.\n",
    " * **«M» («Mature»)** — «Для взрослых»: Материалы игры не подходят для подростков младше 17 лет. Проекты с данным рейтингом могут содержать достаточно жестокое насилие, большое количество крови с расчленением, непристойные сексуальные сцены или грубую ненормативную лексику, нежелательную для младшей аудитории.\n",
    " * **«RP» («Rating Pending»)** — «Рейтинг ожидается»: Продукт был отправлен в ESRB и ожидает присвоения рейтинга. Данный логотип используется только на рекламных презентациях и в демо-версиях игр до официальной даты выпуска в продажу."
   ]
  },
  {
   "cell_type": "code",
   "execution_count": null,
   "metadata": {},
   "outputs": [],
   "source": [
    "ESRB_dict = {'E': 'E: Для всех', \n",
    "             'M': 'M: > 17 лет', \n",
    "             'T': 'T: 13-19 лет', \n",
    "             'E10+': 'E10+: >10 лет', \n",
    "             'EC': 'EC: от 3 лет',\n",
    "             'RP': 'RP: Рейтинг ожидается'}"
   ]
  },
  {
   "cell_type": "code",
   "execution_count": null,
   "metadata": {},
   "outputs": [],
   "source": [
    "games['ESRB_description'] = games[games['rating'].notnull()]['rating'].map(ESRB_dict)"
   ]
  },
  {
   "cell_type": "code",
   "execution_count": null,
   "metadata": {},
   "outputs": [],
   "source": [
    "games_ESRB_region = games_region.groupby('rating').agg({'na_sales': 'sum', 'eu_sales': 'sum', 'jp_sales': 'sum'})"
   ]
  },
  {
   "cell_type": "code",
   "execution_count": null,
   "metadata": {},
   "outputs": [],
   "source": [
    "games_ESRB_region.plot(kind='bar', figsize=(17, 5), title = 'Самые популярные жанры в зависимости от рейтинга')\n",
    "plt.show()"
   ]
  },
  {
   "cell_type": "markdown",
   "metadata": {},
   "source": [
    "Из графика видно, что чаще всего продпочтения отдаются играм категории \"для всех\", самая непопулярная категория - игры для маленьких детей."
   ]
  },
  {
   "cell_type": "code",
   "execution_count": null,
   "metadata": {},
   "outputs": [],
   "source": [
    "fig, axes = plt.subplots(1, 3, figsize=(25,6))\n",
    "\n",
    "describe_region('ESRB_description', 'na_sales', 0)\n",
    "describe_region('ESRB_description', 'eu_sales', 1)\n",
    "describe_region('ESRB_description', 'jp_sales', 2)"
   ]
  },
  {
   "cell_type": "markdown",
   "metadata": {},
   "source": [
    "В Северной Америке и Европе чаще всего покупают игры категорий E, M, T. \n",
    "В Японии также предпочитают игры с рейтингом E, но категория T (подростковые игры) популярнее, чем категория M. "
   ]
  },
  {
   "cell_type": "markdown",
   "metadata": {},
   "source": [
    "### Проверка гипотез и пояснения"
   ]
  },
  {
   "cell_type": "markdown",
   "metadata": {},
   "source": [
    "На этом шаге проверим гипотезы:\n",
    " * Средние пользовательские рейтинги платформ Xbox One и PC одинаковые;\n",
    " * Средние пользовательские рейтинги жанров Action (англ. «действие», экшен-игры) и Sports (англ. «спортивные соревнования») разные.\n",
    " \n",
    "Так как выборки независимы между собой, то будем использовать t-критерий Стьюдента для проверки обоих гипотез."
   ]
  },
  {
   "cell_type": "code",
   "execution_count": null,
   "metadata": {},
   "outputs": [],
   "source": [
    "alpha = 0.05"
   ]
  },
  {
   "cell_type": "markdown",
   "metadata": {},
   "source": [
    "#### Первая гипотеза"
   ]
  },
  {
   "cell_type": "markdown",
   "metadata": {},
   "source": [
    "Средние пользовательские рейтинги платформ Xbox One и PC одинаковые. \n",
    " * **Н0** (нулевая гипотеза) - средние пользовательские рейтинги платформ Xbox One и PC одинаковые.\n",
    " * **Н1** (альтернативная гипотеза) - средние пользовательские рейтинги платформ Xbox One и PC отличаются между собой."
   ]
  },
  {
   "cell_type": "code",
   "execution_count": null,
   "metadata": {},
   "outputs": [],
   "source": [
    "xbox_one_ratings = games_data[(games_data['platform'] == 'XOne') & (games_data['user_score'] > 0)]['user_score']\n",
    "pc_ratings = games_data[(games_data['platform'] == 'PC') & (games_data['user_score'] > 0)]['user_score']"
   ]
  },
  {
   "cell_type": "markdown",
   "metadata": {},
   "source": [
    "Будем использовать метод ttest_ind() из библиотеки scipy."
   ]
  },
  {
   "cell_type": "code",
   "execution_count": null,
   "metadata": {},
   "outputs": [],
   "source": [
    "results = st.ttest_ind(xbox_one_ratings, pc_ratings, equal_var=False)"
   ]
  },
  {
   "cell_type": "code",
   "execution_count": null,
   "metadata": {},
   "outputs": [],
   "source": [
    "print('p-значение:', results.pvalue)\n",
    "\n",
    "if (results.pvalue < alpha):\n",
    "    print(\"Отвергаем нулевую гипотезу\")\n",
    "else:\n",
    "    print(\"Не получилось отвергнуть нулевую гипотезу\")"
   ]
  },
  {
   "cell_type": "markdown",
   "metadata": {},
   "source": [
    "**Вывод:** средние пользовательские рейтинги платформ Xbox One и PC отличаются между собой."
   ]
  },
  {
   "cell_type": "markdown",
   "metadata": {},
   "source": [
    "Посмотрим, у какой платформы выше пользовательский рейтинг."
   ]
  },
  {
   "cell_type": "code",
   "execution_count": null,
   "metadata": {},
   "outputs": [],
   "source": [
    "plt.figure(figsize=(17,6))\n",
    "ax = sns.boxplot(x=\"platform\", y=\"user_score\", data=games)\n",
    "plt.show()"
   ]
  },
  {
   "cell_type": "code",
   "execution_count": null,
   "metadata": {},
   "outputs": [],
   "source": [
    "platforms_list = ['XOne', 'PC']"
   ]
  },
  {
   "cell_type": "code",
   "execution_count": null,
   "metadata": {},
   "outputs": [],
   "source": [
    "games_test_1 = games_data.query('platform in @platforms_list')"
   ]
  },
  {
   "cell_type": "code",
   "execution_count": null,
   "metadata": {},
   "outputs": [],
   "source": [
    "plt.figure(figsize=(8,6))\n",
    "ax = sns.boxplot(x=\"platform\", y=\"user_score\", data=games_test_1)\n",
    "plt.show()"
   ]
  },
  {
   "cell_type": "code",
   "execution_count": null,
   "metadata": {},
   "outputs": [],
   "source": [
    "xbox_one_ratings.describe()"
   ]
  },
  {
   "cell_type": "code",
   "execution_count": null,
   "metadata": {},
   "outputs": [],
   "source": [
    "pc_ratings.describe()"
   ]
  },
  {
   "cell_type": "markdown",
   "metadata": {},
   "source": [
    "Действительно, есть статичтически значимое различие между средним значением пользовательского рейтинга на данных платформах. Доверительные интервалы также отличаются. У компьютерных игр (PC) пользовательский рейтинг выше, чем у игр Xbox One."
   ]
  },
  {
   "cell_type": "markdown",
   "metadata": {},
   "source": [
    "#### Вторая гипотеза"
   ]
  },
  {
   "cell_type": "markdown",
   "metadata": {},
   "source": [
    "Средние пользовательские рейтинги жанров Action (англ. «действие», экшен-игры) и Sports (англ. «спортивные соревнования») разные.\n",
    "\n",
    " * **Н0** (нулевая гипотеза) - средние пользовательские рейтинги жанров Action и Sports одинаковые.\n",
    " * **Н1** (альтернативная гипотеза) - средние пользовательские рейтинги жанров Action и Sports отличаются между собой."
   ]
  },
  {
   "cell_type": "code",
   "execution_count": null,
   "metadata": {},
   "outputs": [],
   "source": [
    "action_ratings = games_data[(games_data['genre'] == 'Action') & (games_data['user_score'] > 0)]['user_score']\n",
    "sports_ratings = games_data[(games_data['genre'] == 'Sports') & (games_data['user_score'] > 0)]['user_score']"
   ]
  },
  {
   "cell_type": "code",
   "execution_count": null,
   "metadata": {},
   "outputs": [],
   "source": [
    "results = st.ttest_ind(action_ratings, sports_ratings, equal_var=False)"
   ]
  },
  {
   "cell_type": "code",
   "execution_count": null,
   "metadata": {},
   "outputs": [],
   "source": [
    "print('p-значение:', results.pvalue)\n",
    "\n",
    "if (results.pvalue < alpha):\n",
    "    print(\"Отвергаем нулевую гипотезу\")\n",
    "else:\n",
    "    print(\"Не получилось отвергнуть нулевую гипотезу\")"
   ]
  },
  {
   "cell_type": "markdown",
   "metadata": {},
   "source": [
    "Итак, нулевую гипотезу не получилось отвергнуть, - это означает, что пользовательские рейтинги жанров Action и Sports одинаковые."
   ]
  },
  {
   "cell_type": "markdown",
   "metadata": {},
   "source": [
    "### Заключение"
   ]
  },
  {
   "cell_type": "markdown",
   "metadata": {},
   "source": [
    "Были сделаны следующие выводы:\n",
    " * положение игровой индустрии без учета мобильных игр находится на этапе стагнации - количество выпущенных игр имело восходящий тренд с 1980 г. до 2008 г. Пиковые значения приходятся на 2008 и 2009 годы. Далее количество игр падает;\n",
    " * можно наблюдать как платформы сменяют одна другую (PS, PS2, PS3, PS4). Средний срок жизненного цикла около 10 лет.\n",
    " * на уровень продаж сильно влияют оценки критиков, оценки пользователей не оказывают такого воздействия.\n",
    " \n",
    "В результате проверки гипотез было показано, что:\n",
    " * Средние пользовательские рейтинги платформ Xbox One и PC разные (у PC выше рейтинг);\n",
    " * Средние пользовательские рейтинги жанров Action и Sports совпадают."
   ]
  }
 ],
 "metadata": {
  "ExecuteTimeLog": [
   {
    "duration": 1460,
    "start_time": "2021-12-24T01:50:36.434Z"
   },
   {
    "duration": 47,
    "start_time": "2021-12-24T01:51:03.699Z"
   },
   {
    "duration": 22,
    "start_time": "2021-12-24T01:51:12.931Z"
   },
   {
    "duration": 18,
    "start_time": "2021-12-24T01:51:22.027Z"
   },
   {
    "duration": 15,
    "start_time": "2021-12-24T01:51:30.746Z"
   },
   {
    "duration": 46,
    "start_time": "2021-12-24T01:52:01.326Z"
   },
   {
    "duration": 14,
    "start_time": "2021-12-24T01:57:23.387Z"
   },
   {
    "duration": 40,
    "start_time": "2021-12-24T01:57:25.490Z"
   },
   {
    "duration": 6522,
    "start_time": "2021-12-24T01:59:27.234Z"
   },
   {
    "duration": 9,
    "start_time": "2021-12-24T01:59:41.849Z"
   },
   {
    "duration": 6,
    "start_time": "2021-12-24T02:31:09.710Z"
   },
   {
    "duration": 4,
    "start_time": "2021-12-24T02:32:02.814Z"
   },
   {
    "duration": 7,
    "start_time": "2021-12-24T02:32:05.974Z"
   },
   {
    "duration": 9,
    "start_time": "2021-12-24T02:32:40.522Z"
   },
   {
    "duration": 306,
    "start_time": "2021-12-24T02:32:51.789Z"
   },
   {
    "duration": 511,
    "start_time": "2021-12-24T02:33:06.040Z"
   },
   {
    "duration": 500,
    "start_time": "2021-12-24T02:35:28.487Z"
   },
   {
    "duration": 13,
    "start_time": "2021-12-24T02:37:09.141Z"
   },
   {
    "duration": 284,
    "start_time": "2021-12-24T02:44:43.205Z"
   },
   {
    "duration": 9,
    "start_time": "2021-12-24T02:44:55.922Z"
   },
   {
    "duration": 5,
    "start_time": "2021-12-24T02:48:08.653Z"
   },
   {
    "duration": 5,
    "start_time": "2021-12-24T02:48:17.235Z"
   },
   {
    "duration": 8,
    "start_time": "2021-12-24T02:48:21.627Z"
   },
   {
    "duration": 42,
    "start_time": "2021-12-24T02:48:28.371Z"
   },
   {
    "duration": 19,
    "start_time": "2021-12-24T02:48:38.596Z"
   },
   {
    "duration": 18,
    "start_time": "2021-12-24T02:48:59.965Z"
   },
   {
    "duration": 511,
    "start_time": "2021-12-24T02:49:25.606Z"
   },
   {
    "duration": 2008,
    "start_time": "2021-12-24T02:50:45.364Z"
   },
   {
    "duration": 7,
    "start_time": "2021-12-24T02:53:09.902Z"
   },
   {
    "duration": 7,
    "start_time": "2021-12-24T02:53:38.315Z"
   },
   {
    "duration": 8,
    "start_time": "2021-12-24T02:53:42.551Z"
   },
   {
    "duration": 26,
    "start_time": "2021-12-24T02:54:07.643Z"
   },
   {
    "duration": 15,
    "start_time": "2021-12-24T02:54:51.835Z"
   },
   {
    "duration": 269,
    "start_time": "2021-12-24T02:55:53.794Z"
   },
   {
    "duration": 2115,
    "start_time": "2021-12-24T02:55:57.315Z"
   },
   {
    "duration": 265,
    "start_time": "2021-12-24T02:56:14.332Z"
   },
   {
    "duration": 7,
    "start_time": "2021-12-24T02:56:19.498Z"
   },
   {
    "duration": 6,
    "start_time": "2021-12-24T02:56:29.163Z"
   },
   {
    "duration": 9,
    "start_time": "2021-12-24T02:56:51.859Z"
   },
   {
    "duration": 11,
    "start_time": "2021-12-24T03:01:16.531Z"
   },
   {
    "duration": 20,
    "start_time": "2021-12-24T03:01:20.562Z"
   },
   {
    "duration": 12,
    "start_time": "2021-12-24T03:02:20.018Z"
   },
   {
    "duration": 271,
    "start_time": "2021-12-24T03:03:45.786Z"
   },
   {
    "duration": 211,
    "start_time": "2021-12-24T03:03:58.706Z"
   },
   {
    "duration": 283,
    "start_time": "2021-12-24T03:04:29.570Z"
   },
   {
    "duration": 14,
    "start_time": "2021-12-24T03:06:53.153Z"
   },
   {
    "duration": 31,
    "start_time": "2021-12-24T03:07:14.833Z"
   },
   {
    "duration": 103,
    "start_time": "2021-12-24T03:07:31.659Z"
   },
   {
    "duration": 13,
    "start_time": "2021-12-24T03:07:51.824Z"
   },
   {
    "duration": 300,
    "start_time": "2021-12-24T03:08:00.161Z"
   },
   {
    "duration": 13,
    "start_time": "2021-12-24T03:08:08.626Z"
   },
   {
    "duration": 544,
    "start_time": "2021-12-24T03:08:28.402Z"
   },
   {
    "duration": 411,
    "start_time": "2021-12-24T03:09:45.633Z"
   },
   {
    "duration": 555,
    "start_time": "2021-12-24T03:25:30.174Z"
   },
   {
    "duration": 747,
    "start_time": "2021-12-24T03:26:56.141Z"
   },
   {
    "duration": 542,
    "start_time": "2021-12-24T03:27:02.943Z"
   },
   {
    "duration": 542,
    "start_time": "2021-12-24T03:27:09.438Z"
   },
   {
    "duration": 534,
    "start_time": "2021-12-24T03:28:13.039Z"
   },
   {
    "duration": 833,
    "start_time": "2021-12-24T03:28:21.334Z"
   },
   {
    "duration": 681,
    "start_time": "2021-12-24T03:28:29.773Z"
   },
   {
    "duration": 688,
    "start_time": "2021-12-24T03:28:38.214Z"
   },
   {
    "duration": 819,
    "start_time": "2021-12-24T03:28:45.654Z"
   },
   {
    "duration": 700,
    "start_time": "2021-12-24T03:28:54.598Z"
   },
   {
    "duration": 657,
    "start_time": "2021-12-24T03:29:05.198Z"
   },
   {
    "duration": 673,
    "start_time": "2021-12-24T03:34:04.653Z"
   },
   {
    "duration": 23,
    "start_time": "2021-12-24T03:37:13.333Z"
   },
   {
    "duration": 23,
    "start_time": "2021-12-24T03:37:37.771Z"
   },
   {
    "duration": 291,
    "start_time": "2021-12-24T03:37:58.093Z"
   },
   {
    "duration": 22,
    "start_time": "2021-12-24T03:38:12.509Z"
   },
   {
    "duration": 267,
    "start_time": "2021-12-24T03:38:26.212Z"
   },
   {
    "duration": 22,
    "start_time": "2021-12-24T03:38:33.876Z"
   },
   {
    "duration": 23,
    "start_time": "2021-12-24T03:39:05.045Z"
   },
   {
    "duration": 20,
    "start_time": "2021-12-24T03:39:13.108Z"
   },
   {
    "duration": 1884,
    "start_time": "2021-12-24T03:43:55.252Z"
   },
   {
    "duration": 1956,
    "start_time": "2021-12-24T03:44:54.396Z"
   },
   {
    "duration": 690,
    "start_time": "2021-12-24T03:45:12.804Z"
   },
   {
    "duration": 2000,
    "start_time": "2021-12-24T03:45:35.773Z"
   },
   {
    "duration": 308,
    "start_time": "2021-12-24T03:46:58.891Z"
   },
   {
    "duration": 22,
    "start_time": "2021-12-24T03:47:21.188Z"
   },
   {
    "duration": 17,
    "start_time": "2021-12-24T03:48:47.123Z"
   },
   {
    "duration": 22,
    "start_time": "2021-12-24T03:48:53.716Z"
   },
   {
    "duration": 133,
    "start_time": "2021-12-24T03:50:51.003Z"
   },
   {
    "duration": -788,
    "start_time": "2021-12-24T03:51:55.053Z"
   },
   {
    "duration": 5,
    "start_time": "2021-12-24T03:52:05.291Z"
   },
   {
    "duration": 17,
    "start_time": "2021-12-24T03:52:26.986Z"
   },
   {
    "duration": 18,
    "start_time": "2021-12-24T03:53:31.890Z"
   },
   {
    "duration": 17,
    "start_time": "2021-12-24T03:54:11.162Z"
   },
   {
    "duration": 15,
    "start_time": "2021-12-24T03:54:30.035Z"
   },
   {
    "duration": 5,
    "start_time": "2021-12-24T03:54:47.490Z"
   },
   {
    "duration": 37,
    "start_time": "2021-12-24T03:55:00.458Z"
   },
   {
    "duration": 44,
    "start_time": "2021-12-24T03:57:23.282Z"
   },
   {
    "duration": 406,
    "start_time": "2021-12-24T03:57:35.532Z"
   },
   {
    "duration": 88,
    "start_time": "2021-12-24T03:58:13.634Z"
   },
   {
    "duration": 406,
    "start_time": "2021-12-24T03:58:35.178Z"
   },
   {
    "duration": 597,
    "start_time": "2021-12-24T03:58:54.634Z"
   },
   {
    "duration": 478,
    "start_time": "2021-12-24T03:59:03.970Z"
   },
   {
    "duration": 526,
    "start_time": "2021-12-24T03:59:18.277Z"
   },
   {
    "duration": 513,
    "start_time": "2021-12-24T04:21:30.085Z"
   },
   {
    "duration": 22,
    "start_time": "2021-12-24T04:22:08.575Z"
   },
   {
    "duration": 540,
    "start_time": "2021-12-24T04:22:11.438Z"
   },
   {
    "duration": 21,
    "start_time": "2021-12-24T04:22:17.886Z"
   },
   {
    "duration": 528,
    "start_time": "2021-12-24T04:22:20.789Z"
   },
   {
    "duration": 507,
    "start_time": "2021-12-24T04:22:24.750Z"
   },
   {
    "duration": 508,
    "start_time": "2021-12-24T04:22:30.021Z"
   },
   {
    "duration": 521,
    "start_time": "2021-12-24T04:24:23.278Z"
   },
   {
    "duration": 614,
    "start_time": "2021-12-24T04:24:37.854Z"
   },
   {
    "duration": 494,
    "start_time": "2021-12-24T04:25:40.750Z"
   },
   {
    "duration": 21,
    "start_time": "2021-12-24T04:31:09.478Z"
   },
   {
    "duration": 25,
    "start_time": "2021-12-24T04:31:32.797Z"
   },
   {
    "duration": 21,
    "start_time": "2021-12-24T04:31:48.197Z"
   },
   {
    "duration": 21,
    "start_time": "2021-12-24T04:31:55.405Z"
   },
   {
    "duration": 22,
    "start_time": "2021-12-24T04:32:37.740Z"
   },
   {
    "duration": 288,
    "start_time": "2021-12-24T04:32:52.285Z"
   },
   {
    "duration": 209,
    "start_time": "2021-12-24T04:33:07.527Z"
   },
   {
    "duration": 320,
    "start_time": "2021-12-24T04:33:24.973Z"
   },
   {
    "duration": 299,
    "start_time": "2021-12-24T04:33:41.012Z"
   },
   {
    "duration": 294,
    "start_time": "2021-12-24T04:33:48.685Z"
   },
   {
    "duration": 504,
    "start_time": "2021-12-24T04:36:17.717Z"
   },
   {
    "duration": 24,
    "start_time": "2021-12-24T04:36:41.918Z"
   },
   {
    "duration": 24,
    "start_time": "2021-12-24T04:36:44.794Z"
   },
   {
    "duration": 526,
    "start_time": "2021-12-24T04:36:48.308Z"
   },
   {
    "duration": 24,
    "start_time": "2021-12-24T04:37:23.108Z"
   },
   {
    "duration": 126,
    "start_time": "2021-12-24T04:38:19.452Z"
   },
   {
    "duration": 330,
    "start_time": "2021-12-24T04:39:13.171Z"
   },
   {
    "duration": 164,
    "start_time": "2021-12-24T04:39:21.116Z"
   },
   {
    "duration": 129,
    "start_time": "2021-12-24T04:39:50.221Z"
   },
   {
    "duration": 5,
    "start_time": "2021-12-24T04:40:20.645Z"
   },
   {
    "duration": 125,
    "start_time": "2021-12-24T04:40:28.131Z"
   },
   {
    "duration": 197,
    "start_time": "2021-12-24T04:41:23.972Z"
   },
   {
    "duration": 352,
    "start_time": "2021-12-24T04:43:01.404Z"
   },
   {
    "duration": 525,
    "start_time": "2021-12-24T04:43:16.101Z"
   },
   {
    "duration": 23,
    "start_time": "2021-12-24T04:45:29.675Z"
   },
   {
    "duration": 476,
    "start_time": "2021-12-24T04:45:34.930Z"
   },
   {
    "duration": 23,
    "start_time": "2021-12-24T04:46:02.986Z"
   },
   {
    "duration": 458,
    "start_time": "2021-12-24T04:46:05.251Z"
   },
   {
    "duration": 23,
    "start_time": "2021-12-24T04:46:25.701Z"
   },
   {
    "duration": 23,
    "start_time": "2021-12-24T04:48:51.506Z"
   },
   {
    "duration": 465,
    "start_time": "2021-12-24T04:48:54.290Z"
   },
   {
    "duration": 277,
    "start_time": "2021-12-24T04:51:52.487Z"
   },
   {
    "duration": 1121,
    "start_time": "2021-12-24T04:52:06.018Z"
   },
   {
    "duration": 12,
    "start_time": "2021-12-24T04:52:42.458Z"
   },
   {
    "duration": 31,
    "start_time": "2021-12-24T04:52:46.530Z"
   },
   {
    "duration": 424,
    "start_time": "2021-12-24T04:53:02.406Z"
   },
   {
    "duration": 456,
    "start_time": "2021-12-24T04:53:13.202Z"
   },
   {
    "duration": 284,
    "start_time": "2021-12-24T04:54:45.618Z"
   },
   {
    "duration": 577,
    "start_time": "2021-12-24T04:55:02.962Z"
   },
   {
    "duration": 469,
    "start_time": "2021-12-24T04:55:33.937Z"
   },
   {
    "duration": 566,
    "start_time": "2021-12-24T04:55:44.378Z"
   },
   {
    "duration": 579,
    "start_time": "2021-12-24T04:55:54.531Z"
   },
   {
    "duration": 579,
    "start_time": "2021-12-24T04:56:35.376Z"
   },
   {
    "duration": 582,
    "start_time": "2021-12-24T04:56:42.890Z"
   },
   {
    "duration": 574,
    "start_time": "2021-12-24T04:57:13.500Z"
   },
   {
    "duration": 567,
    "start_time": "2021-12-24T04:57:27.106Z"
   },
   {
    "duration": 593,
    "start_time": "2021-12-24T04:57:37.082Z"
   },
   {
    "duration": 785,
    "start_time": "2021-12-24T04:57:50.153Z"
   },
   {
    "duration": 647,
    "start_time": "2021-12-24T04:57:56.617Z"
   },
   {
    "duration": 897,
    "start_time": "2021-12-24T04:58:08.137Z"
   },
   {
    "duration": 778,
    "start_time": "2021-12-24T04:58:30.642Z"
   },
   {
    "duration": 750,
    "start_time": "2021-12-24T04:58:37.298Z"
   },
   {
    "duration": 748,
    "start_time": "2021-12-24T04:58:55.106Z"
   },
   {
    "duration": 784,
    "start_time": "2021-12-24T04:59:01.057Z"
   },
   {
    "duration": 735,
    "start_time": "2021-12-24T04:59:07.902Z"
   },
   {
    "duration": 645,
    "start_time": "2021-12-24T05:06:04.687Z"
   },
   {
    "duration": 694,
    "start_time": "2021-12-24T05:06:19.825Z"
   },
   {
    "duration": 660,
    "start_time": "2021-12-24T05:06:33.088Z"
   },
   {
    "duration": 476,
    "start_time": "2021-12-24T05:06:40.641Z"
   },
   {
    "duration": 305,
    "start_time": "2021-12-24T05:11:21.062Z"
   },
   {
    "duration": 10,
    "start_time": "2021-12-24T05:11:35.233Z"
   },
   {
    "duration": 11,
    "start_time": "2021-12-24T05:11:37.984Z"
   },
   {
    "duration": 31,
    "start_time": "2021-12-24T05:11:42.617Z"
   },
   {
    "duration": 483,
    "start_time": "2021-12-24T05:14:06.966Z"
   },
   {
    "duration": 21,
    "start_time": "2021-12-24T05:14:26.574Z"
   },
   {
    "duration": 454,
    "start_time": "2021-12-24T05:15:16.609Z"
   },
   {
    "duration": 670,
    "start_time": "2021-12-24T05:15:46.975Z"
   },
   {
    "duration": 529,
    "start_time": "2021-12-24T05:15:57.417Z"
   },
   {
    "duration": 538,
    "start_time": "2021-12-24T05:16:44.351Z"
   },
   {
    "duration": 535,
    "start_time": "2021-12-24T05:17:05.360Z"
   },
   {
    "duration": 565,
    "start_time": "2021-12-24T05:17:31.784Z"
   },
   {
    "duration": 514,
    "start_time": "2021-12-24T05:17:43.751Z"
   },
   {
    "duration": 556,
    "start_time": "2021-12-24T05:17:47.943Z"
   },
   {
    "duration": 5,
    "start_time": "2021-12-24T05:18:07.231Z"
   },
   {
    "duration": 566,
    "start_time": "2021-12-24T05:18:17.851Z"
   },
   {
    "duration": 737,
    "start_time": "2021-12-24T05:18:31.935Z"
   },
   {
    "duration": 781,
    "start_time": "2021-12-24T05:18:58.641Z"
   },
   {
    "duration": 920,
    "start_time": "2021-12-24T05:19:40.799Z"
   },
   {
    "duration": 810,
    "start_time": "2021-12-24T05:19:58.255Z"
   },
   {
    "duration": 694,
    "start_time": "2021-12-24T05:20:10.998Z"
   },
   {
    "duration": 751,
    "start_time": "2021-12-24T05:20:51.881Z"
   },
   {
    "duration": 737,
    "start_time": "2021-12-24T05:21:16.416Z"
   },
   {
    "duration": 726,
    "start_time": "2021-12-24T05:22:00.167Z"
   },
   {
    "duration": 699,
    "start_time": "2021-12-24T05:22:18.558Z"
   },
   {
    "duration": 728,
    "start_time": "2021-12-24T05:22:29.621Z"
   },
   {
    "duration": 481,
    "start_time": "2021-12-24T05:23:00.038Z"
   },
   {
    "duration": 486,
    "start_time": "2021-12-24T05:23:54.879Z"
   },
   {
    "duration": 484,
    "start_time": "2021-12-24T05:23:59.989Z"
   },
   {
    "duration": 473,
    "start_time": "2021-12-24T05:24:08.294Z"
   },
   {
    "duration": 932,
    "start_time": "2021-12-24T05:29:43.333Z"
   },
   {
    "duration": 741,
    "start_time": "2021-12-24T05:29:58.735Z"
   },
   {
    "duration": 759,
    "start_time": "2021-12-24T05:30:15.717Z"
   },
   {
    "duration": 757,
    "start_time": "2021-12-24T05:30:23.421Z"
   },
   {
    "duration": 721,
    "start_time": "2021-12-24T05:31:59.539Z"
   },
   {
    "duration": 965,
    "start_time": "2021-12-24T05:40:05.421Z"
   },
   {
    "duration": 893,
    "start_time": "2021-12-24T05:40:27.397Z"
   },
   {
    "duration": 5,
    "start_time": "2021-12-24T05:41:52.450Z"
   },
   {
    "duration": 29,
    "start_time": "2021-12-24T05:42:08.084Z"
   },
   {
    "duration": 14,
    "start_time": "2021-12-24T05:42:17.674Z"
   },
   {
    "duration": 334,
    "start_time": "2021-12-24T05:42:45.183Z"
   },
   {
    "duration": 343,
    "start_time": "2021-12-24T05:42:53.891Z"
   },
   {
    "duration": 326,
    "start_time": "2021-12-24T05:43:03.684Z"
   },
   {
    "duration": 1030,
    "start_time": "2021-12-24T05:44:53.970Z"
   },
   {
    "duration": 328,
    "start_time": "2021-12-24T05:45:02.099Z"
   },
   {
    "duration": 5,
    "start_time": "2021-12-24T05:46:06.963Z"
   },
   {
    "duration": 1807,
    "start_time": "2021-12-24T05:46:24.419Z"
   },
   {
    "duration": 5107,
    "start_time": "2021-12-24T05:47:26.843Z"
   },
   {
    "duration": 7738,
    "start_time": "2021-12-24T05:47:47.900Z"
   },
   {
    "duration": 265,
    "start_time": "2021-12-24T05:48:30.291Z"
   },
   {
    "duration": 6,
    "start_time": "2021-12-24T05:48:40.251Z"
   },
   {
    "duration": 5,
    "start_time": "2021-12-24T05:48:44.420Z"
   },
   {
    "duration": 7672,
    "start_time": "2021-12-24T05:49:00.886Z"
   },
   {
    "duration": 1477,
    "start_time": "2021-12-24T05:49:33.105Z"
   },
   {
    "duration": 47,
    "start_time": "2021-12-24T05:49:34.584Z"
   },
   {
    "duration": 22,
    "start_time": "2021-12-24T05:49:34.633Z"
   },
   {
    "duration": 34,
    "start_time": "2021-12-24T05:49:34.658Z"
   },
   {
    "duration": 28,
    "start_time": "2021-12-24T05:49:34.695Z"
   },
   {
    "duration": 42,
    "start_time": "2021-12-24T05:49:34.725Z"
   },
   {
    "duration": 4,
    "start_time": "2021-12-24T05:49:34.769Z"
   },
   {
    "duration": 10,
    "start_time": "2021-12-24T05:49:34.776Z"
   },
   {
    "duration": 32,
    "start_time": "2021-12-24T05:49:34.789Z"
   },
   {
    "duration": 8,
    "start_time": "2021-12-24T05:49:34.824Z"
   },
   {
    "duration": 64,
    "start_time": "2021-12-24T05:49:34.834Z"
   },
   {
    "duration": 51,
    "start_time": "2021-12-24T05:49:34.900Z"
   },
   {
    "duration": 49,
    "start_time": "2021-12-24T05:49:34.953Z"
   },
   {
    "duration": 105,
    "start_time": "2021-12-24T05:49:35.005Z"
   },
   {
    "duration": 15,
    "start_time": "2021-12-24T05:49:35.112Z"
   },
   {
    "duration": 25,
    "start_time": "2021-12-24T05:49:35.129Z"
   },
   {
    "duration": 60,
    "start_time": "2021-12-24T05:49:35.157Z"
   },
   {
    "duration": 47,
    "start_time": "2021-12-24T05:49:35.220Z"
   },
   {
    "duration": 709,
    "start_time": "2021-12-24T05:49:35.269Z"
   },
   {
    "duration": 21,
    "start_time": "2021-12-24T05:49:35.980Z"
   },
   {
    "duration": 549,
    "start_time": "2021-12-24T05:49:36.003Z"
   },
   {
    "duration": 22,
    "start_time": "2021-12-24T05:49:36.555Z"
   },
   {
    "duration": 251,
    "start_time": "2021-12-24T05:49:36.582Z"
   },
   {
    "duration": 23,
    "start_time": "2021-12-24T05:49:36.835Z"
   },
   {
    "duration": 510,
    "start_time": "2021-12-24T05:49:36.861Z"
   },
   {
    "duration": 11,
    "start_time": "2021-12-24T05:49:37.373Z"
   },
   {
    "duration": 655,
    "start_time": "2021-12-24T05:49:37.386Z"
   },
   {
    "duration": 480,
    "start_time": "2021-12-24T05:49:38.044Z"
   },
   {
    "duration": 10,
    "start_time": "2021-12-24T05:49:38.526Z"
   },
   {
    "duration": 20,
    "start_time": "2021-12-24T05:49:38.539Z"
   },
   {
    "duration": 896,
    "start_time": "2021-12-24T05:49:38.561Z"
   },
   {
    "duration": 745,
    "start_time": "2021-12-24T05:49:39.459Z"
   },
   {
    "duration": 963,
    "start_time": "2021-12-24T05:49:40.206Z"
   },
   {
    "duration": 7,
    "start_time": "2021-12-24T05:49:41.172Z"
   },
   {
    "duration": 341,
    "start_time": "2021-12-24T05:49:41.181Z"
   },
   {
    "duration": 6,
    "start_time": "2021-12-24T05:49:41.524Z"
   },
   {
    "duration": 4961,
    "start_time": "2021-12-24T05:49:41.532Z"
   },
   {
    "duration": 4632,
    "start_time": "2021-12-24T05:50:34.188Z"
   },
   {
    "duration": 4730,
    "start_time": "2021-12-24T05:51:02.932Z"
   },
   {
    "duration": 4723,
    "start_time": "2021-12-24T05:51:16.866Z"
   },
   {
    "duration": 14,
    "start_time": "2021-12-24T05:53:52.502Z"
   },
   {
    "duration": 14,
    "start_time": "2021-12-24T05:53:56.217Z"
   },
   {
    "duration": 85,
    "start_time": "2021-12-24T05:54:03.456Z"
   },
   {
    "duration": 14,
    "start_time": "2021-12-24T05:54:12.082Z"
   },
   {
    "duration": 1023,
    "start_time": "2021-12-24T05:54:29.819Z"
   },
   {
    "duration": 6793,
    "start_time": "2021-12-24T05:59:43.105Z"
   },
   {
    "duration": 556,
    "start_time": "2021-12-24T06:00:00.641Z"
   },
   {
    "duration": 665,
    "start_time": "2021-12-24T06:00:13.316Z"
   },
   {
    "duration": 555,
    "start_time": "2021-12-24T06:02:37.847Z"
   },
   {
    "duration": 557,
    "start_time": "2021-12-24T06:02:45.409Z"
   },
   {
    "duration": 581,
    "start_time": "2021-12-24T06:02:56.119Z"
   },
   {
    "duration": 6362,
    "start_time": "2021-12-24T06:08:34.823Z"
   },
   {
    "duration": 6702,
    "start_time": "2021-12-24T06:10:44.680Z"
   },
   {
    "duration": -880,
    "start_time": "2021-12-24T06:10:52.264Z"
   },
   {
    "duration": 31,
    "start_time": "2021-12-24T06:11:04.111Z"
   },
   {
    "duration": 9,
    "start_time": "2021-12-24T06:11:16.656Z"
   },
   {
    "duration": 11,
    "start_time": "2021-12-24T06:11:22.207Z"
   },
   {
    "duration": 286,
    "start_time": "2021-12-24T06:12:44.263Z"
   },
   {
    "duration": 85,
    "start_time": "2021-12-24T06:12:53.585Z"
   },
   {
    "duration": 316,
    "start_time": "2021-12-24T06:13:12.014Z"
   },
   {
    "duration": 310,
    "start_time": "2021-12-24T06:13:38.799Z"
   },
   {
    "duration": 35,
    "start_time": "2021-12-24T06:14:05.118Z"
   },
   {
    "duration": 8,
    "start_time": "2021-12-24T06:14:13.944Z"
   },
   {
    "duration": 30,
    "start_time": "2021-12-24T06:14:22.422Z"
   },
   {
    "duration": 7,
    "start_time": "2021-12-24T06:14:36.959Z"
   },
   {
    "duration": 6,
    "start_time": "2021-12-24T06:14:48.607Z"
   },
   {
    "duration": 6,
    "start_time": "2021-12-24T06:15:22.935Z"
   },
   {
    "duration": 264,
    "start_time": "2021-12-24T06:15:39.447Z"
   },
   {
    "duration": 6,
    "start_time": "2021-12-24T06:16:15.346Z"
   },
   {
    "duration": 568,
    "start_time": "2021-12-24T06:16:58.158Z"
   },
   {
    "duration": 11,
    "start_time": "2021-12-24T06:22:04.908Z"
   },
   {
    "duration": 290,
    "start_time": "2021-12-24T06:50:00.550Z"
   },
   {
    "duration": 1499,
    "start_time": "2021-12-24T06:50:11.139Z"
   },
   {
    "duration": 48,
    "start_time": "2021-12-24T06:50:12.641Z"
   },
   {
    "duration": 33,
    "start_time": "2021-12-24T06:50:12.692Z"
   },
   {
    "duration": 46,
    "start_time": "2021-12-24T06:50:12.728Z"
   },
   {
    "duration": 31,
    "start_time": "2021-12-24T06:50:12.777Z"
   },
   {
    "duration": 45,
    "start_time": "2021-12-24T06:50:12.811Z"
   },
   {
    "duration": 4,
    "start_time": "2021-12-24T06:50:12.859Z"
   },
   {
    "duration": 13,
    "start_time": "2021-12-24T06:50:12.866Z"
   },
   {
    "duration": 15,
    "start_time": "2021-12-24T06:50:12.882Z"
   },
   {
    "duration": 19,
    "start_time": "2021-12-24T06:50:12.899Z"
   },
   {
    "duration": 7,
    "start_time": "2021-12-24T06:50:12.921Z"
   },
   {
    "duration": 12,
    "start_time": "2021-12-24T06:50:12.931Z"
   },
   {
    "duration": 15,
    "start_time": "2021-12-24T06:50:12.945Z"
   },
   {
    "duration": 31,
    "start_time": "2021-12-24T06:50:12.962Z"
   },
   {
    "duration": 32,
    "start_time": "2021-12-24T06:50:12.996Z"
   },
   {
    "duration": 8,
    "start_time": "2021-12-24T06:50:13.030Z"
   },
   {
    "duration": 23,
    "start_time": "2021-12-24T06:50:13.040Z"
   },
   {
    "duration": 52,
    "start_time": "2021-12-24T06:50:13.066Z"
   },
   {
    "duration": 703,
    "start_time": "2021-12-24T06:50:13.121Z"
   },
   {
    "duration": 20,
    "start_time": "2021-12-24T06:50:13.827Z"
   },
   {
    "duration": 570,
    "start_time": "2021-12-24T06:50:13.850Z"
   },
   {
    "duration": 23,
    "start_time": "2021-12-24T06:50:14.423Z"
   },
   {
    "duration": 248,
    "start_time": "2021-12-24T06:50:14.451Z"
   },
   {
    "duration": 34,
    "start_time": "2021-12-24T06:50:14.702Z"
   },
   {
    "duration": 587,
    "start_time": "2021-12-24T06:50:14.739Z"
   },
   {
    "duration": 11,
    "start_time": "2021-12-24T06:50:15.329Z"
   },
   {
    "duration": 810,
    "start_time": "2021-12-24T06:50:15.342Z"
   },
   {
    "duration": 492,
    "start_time": "2021-12-24T06:50:16.154Z"
   },
   {
    "duration": 10,
    "start_time": "2021-12-24T06:50:16.648Z"
   },
   {
    "duration": 33,
    "start_time": "2021-12-24T06:50:16.660Z"
   },
   {
    "duration": 889,
    "start_time": "2021-12-24T06:50:16.695Z"
   },
   {
    "duration": 783,
    "start_time": "2021-12-24T06:50:17.587Z"
   },
   {
    "duration": 920,
    "start_time": "2021-12-24T06:50:18.373Z"
   },
   {
    "duration": 6,
    "start_time": "2021-12-24T06:50:19.295Z"
   },
   {
    "duration": 324,
    "start_time": "2021-12-24T06:50:19.304Z"
   },
   {
    "duration": 6,
    "start_time": "2021-12-24T06:50:19.631Z"
   },
   {
    "duration": 3318,
    "start_time": "2021-12-24T06:50:19.639Z"
   },
   {
    "duration": 12,
    "start_time": "2021-12-24T06:50:22.960Z"
   },
   {
    "duration": 14,
    "start_time": "2021-12-24T06:50:22.975Z"
   },
   {
    "duration": 593,
    "start_time": "2021-12-24T06:50:22.992Z"
   },
   {
    "duration": 375,
    "start_time": "2021-12-24T06:56:13.905Z"
   },
   {
    "duration": 1499,
    "start_time": "2021-12-24T06:56:27.128Z"
   },
   {
    "duration": 50,
    "start_time": "2021-12-24T06:56:28.629Z"
   },
   {
    "duration": 35,
    "start_time": "2021-12-24T06:56:28.682Z"
   },
   {
    "duration": 19,
    "start_time": "2021-12-24T06:56:28.720Z"
   },
   {
    "duration": 20,
    "start_time": "2021-12-24T06:56:28.742Z"
   },
   {
    "duration": 71,
    "start_time": "2021-12-24T06:56:28.765Z"
   },
   {
    "duration": 5,
    "start_time": "2021-12-24T06:56:28.839Z"
   },
   {
    "duration": 11,
    "start_time": "2021-12-24T06:56:28.848Z"
   },
   {
    "duration": 5,
    "start_time": "2021-12-24T06:56:28.862Z"
   },
   {
    "duration": 9,
    "start_time": "2021-12-24T06:56:28.869Z"
   },
   {
    "duration": 41,
    "start_time": "2021-12-24T06:56:28.880Z"
   },
   {
    "duration": 13,
    "start_time": "2021-12-24T06:56:28.924Z"
   },
   {
    "duration": 7,
    "start_time": "2021-12-24T06:56:28.939Z"
   },
   {
    "duration": 28,
    "start_time": "2021-12-24T06:56:28.948Z"
   },
   {
    "duration": 50,
    "start_time": "2021-12-24T06:56:28.979Z"
   },
   {
    "duration": 11,
    "start_time": "2021-12-24T06:56:29.031Z"
   },
   {
    "duration": 23,
    "start_time": "2021-12-24T06:56:29.044Z"
   },
   {
    "duration": 13,
    "start_time": "2021-12-24T06:56:29.070Z"
   },
   {
    "duration": 710,
    "start_time": "2021-12-24T06:56:29.118Z"
   },
   {
    "duration": 26,
    "start_time": "2021-12-24T06:56:29.831Z"
   },
   {
    "duration": 584,
    "start_time": "2021-12-24T06:56:29.860Z"
   },
   {
    "duration": 4,
    "start_time": "2021-12-24T06:56:30.446Z"
   },
   {
    "duration": 25,
    "start_time": "2021-12-24T06:56:30.455Z"
   },
   {
    "duration": 265,
    "start_time": "2021-12-24T06:56:30.483Z"
   },
   {
    "duration": 23,
    "start_time": "2021-12-24T06:56:30.751Z"
   },
   {
    "duration": 506,
    "start_time": "2021-12-24T06:56:30.777Z"
   },
   {
    "duration": 31,
    "start_time": "2021-12-24T06:56:31.286Z"
   },
   {
    "duration": 794,
    "start_time": "2021-12-24T06:56:31.320Z"
   },
   {
    "duration": 503,
    "start_time": "2021-12-24T06:56:32.117Z"
   },
   {
    "duration": 12,
    "start_time": "2021-12-24T06:56:32.623Z"
   },
   {
    "duration": 33,
    "start_time": "2021-12-24T06:56:32.638Z"
   },
   {
    "duration": 856,
    "start_time": "2021-12-24T06:56:32.674Z"
   },
   {
    "duration": 738,
    "start_time": "2021-12-24T06:56:33.533Z"
   },
   {
    "duration": 921,
    "start_time": "2021-12-24T06:56:34.274Z"
   },
   {
    "duration": 5,
    "start_time": "2021-12-24T06:56:35.197Z"
   },
   {
    "duration": 349,
    "start_time": "2021-12-24T06:56:35.205Z"
   },
   {
    "duration": 6,
    "start_time": "2021-12-24T06:56:35.556Z"
   },
   {
    "duration": 3360,
    "start_time": "2021-12-24T06:56:35.564Z"
   },
   {
    "duration": 12,
    "start_time": "2021-12-24T06:56:38.927Z"
   },
   {
    "duration": 16,
    "start_time": "2021-12-24T06:56:38.942Z"
   },
   {
    "duration": 613,
    "start_time": "2021-12-24T06:56:38.961Z"
   },
   {
    "duration": 29,
    "start_time": "2021-12-24T06:56:59.490Z"
   },
   {
    "duration": 7,
    "start_time": "2021-12-24T06:57:08.952Z"
   },
   {
    "duration": 8,
    "start_time": "2021-12-24T06:57:20.658Z"
   },
   {
    "duration": 8,
    "start_time": "2021-12-24T06:57:32.722Z"
   },
   {
    "duration": 21,
    "start_time": "2021-12-24T06:57:54.681Z"
   },
   {
    "duration": 339,
    "start_time": "2021-12-24T06:57:58.778Z"
   },
   {
    "duration": 19,
    "start_time": "2021-12-24T06:58:48.230Z"
   },
   {
    "duration": 615,
    "start_time": "2021-12-24T06:58:58.242Z"
   },
   {
    "duration": 9,
    "start_time": "2021-12-24T06:59:24.514Z"
   },
   {
    "duration": 756,
    "start_time": "2021-12-24T06:59:26.809Z"
   },
   {
    "duration": 533,
    "start_time": "2021-12-24T06:59:31.919Z"
   },
   {
    "duration": 9,
    "start_time": "2021-12-24T06:59:50.441Z"
   },
   {
    "duration": 20,
    "start_time": "2021-12-24T06:59:53.002Z"
   },
   {
    "duration": 999,
    "start_time": "2021-12-24T06:59:55.737Z"
   },
   {
    "duration": 937,
    "start_time": "2021-12-24T07:00:01.385Z"
   },
   {
    "duration": 1588,
    "start_time": "2021-12-24T07:00:35.101Z"
   },
   {
    "duration": 46,
    "start_time": "2021-12-24T07:00:36.691Z"
   },
   {
    "duration": 22,
    "start_time": "2021-12-24T07:00:36.740Z"
   },
   {
    "duration": 19,
    "start_time": "2021-12-24T07:00:36.765Z"
   },
   {
    "duration": 40,
    "start_time": "2021-12-24T07:00:36.787Z"
   },
   {
    "duration": 45,
    "start_time": "2021-12-24T07:00:36.830Z"
   },
   {
    "duration": 4,
    "start_time": "2021-12-24T07:00:36.878Z"
   },
   {
    "duration": 32,
    "start_time": "2021-12-24T07:00:36.886Z"
   },
   {
    "duration": 7,
    "start_time": "2021-12-24T07:00:36.921Z"
   },
   {
    "duration": 8,
    "start_time": "2021-12-24T07:00:36.930Z"
   },
   {
    "duration": 10,
    "start_time": "2021-12-24T07:00:36.941Z"
   },
   {
    "duration": 23,
    "start_time": "2021-12-24T07:00:36.954Z"
   },
   {
    "duration": 16,
    "start_time": "2021-12-24T07:00:36.979Z"
   },
   {
    "duration": 45,
    "start_time": "2021-12-24T07:00:36.997Z"
   },
   {
    "duration": 12,
    "start_time": "2021-12-24T07:00:37.044Z"
   },
   {
    "duration": 10,
    "start_time": "2021-12-24T07:00:37.059Z"
   },
   {
    "duration": 20,
    "start_time": "2021-12-24T07:00:37.071Z"
   },
   {
    "duration": 13,
    "start_time": "2021-12-24T07:00:37.117Z"
   },
   {
    "duration": 689,
    "start_time": "2021-12-24T07:00:37.133Z"
   },
   {
    "duration": 22,
    "start_time": "2021-12-24T07:00:37.824Z"
   },
   {
    "duration": 554,
    "start_time": "2021-12-24T07:00:37.848Z"
   },
   {
    "duration": 16,
    "start_time": "2021-12-24T07:00:38.404Z"
   },
   {
    "duration": 8,
    "start_time": "2021-12-24T07:00:38.425Z"
   },
   {
    "duration": 24,
    "start_time": "2021-12-24T07:00:38.436Z"
   },
   {
    "duration": 252,
    "start_time": "2021-12-24T07:00:38.463Z"
   },
   {
    "duration": 20,
    "start_time": "2021-12-24T07:00:38.718Z"
   },
   {
    "duration": 597,
    "start_time": "2021-12-24T07:00:38.740Z"
   },
   {
    "duration": 7,
    "start_time": "2021-12-24T07:00:39.340Z"
   },
   {
    "duration": 685,
    "start_time": "2021-12-24T07:00:39.349Z"
   },
   {
    "duration": 485,
    "start_time": "2021-12-24T07:00:40.037Z"
   },
   {
    "duration": 7,
    "start_time": "2021-12-24T07:00:40.525Z"
   },
   {
    "duration": 21,
    "start_time": "2021-12-24T07:00:40.534Z"
   },
   {
    "duration": 977,
    "start_time": "2021-12-24T07:00:40.557Z"
   },
   {
    "duration": 985,
    "start_time": "2021-12-24T07:00:41.537Z"
   },
   {
    "duration": 994,
    "start_time": "2021-12-24T07:00:42.525Z"
   },
   {
    "duration": 5,
    "start_time": "2021-12-24T07:00:43.522Z"
   },
   {
    "duration": 319,
    "start_time": "2021-12-24T07:00:43.529Z"
   },
   {
    "duration": 6,
    "start_time": "2021-12-24T07:00:43.850Z"
   },
   {
    "duration": 3418,
    "start_time": "2021-12-24T07:00:43.858Z"
   },
   {
    "duration": 9,
    "start_time": "2021-12-24T07:00:47.278Z"
   },
   {
    "duration": 33,
    "start_time": "2021-12-24T07:00:47.289Z"
   },
   {
    "duration": 567,
    "start_time": "2021-12-24T07:00:47.324Z"
   },
   {
    "duration": 438,
    "start_time": "2021-12-24T07:01:16.800Z"
   },
   {
    "duration": 4515,
    "start_time": "2021-12-24T07:01:20.608Z"
   },
   {
    "duration": 8,
    "start_time": "2021-12-24T07:01:34.551Z"
   },
   {
    "duration": 11,
    "start_time": "2021-12-24T07:01:37.112Z"
   },
   {
    "duration": 541,
    "start_time": "2021-12-24T07:01:40.063Z"
   },
   {
    "duration": 388,
    "start_time": "2021-12-24T07:03:16.063Z"
   },
   {
    "duration": 19,
    "start_time": "2021-12-24T07:03:38.602Z"
   },
   {
    "duration": 326,
    "start_time": "2021-12-24T07:03:46.871Z"
   },
   {
    "duration": 14,
    "start_time": "2021-12-24T07:04:02.400Z"
   },
   {
    "duration": 293,
    "start_time": "2021-12-24T07:04:11.200Z"
   },
   {
    "duration": 3,
    "start_time": "2021-12-24T07:05:52.202Z"
   },
   {
    "duration": 878,
    "start_time": "2021-12-24T07:06:24.473Z"
   },
   {
    "duration": 266,
    "start_time": "2021-12-24T07:09:03.360Z"
   },
   {
    "duration": 287,
    "start_time": "2021-12-24T07:09:16.639Z"
   },
   {
    "duration": 403,
    "start_time": "2021-12-24T07:09:39.302Z"
   },
   {
    "duration": 242,
    "start_time": "2021-12-24T07:09:54.119Z"
   },
   {
    "duration": 285,
    "start_time": "2021-12-24T07:10:05.664Z"
   },
   {
    "duration": 260,
    "start_time": "2021-12-24T07:10:19.829Z"
   },
   {
    "duration": 280,
    "start_time": "2021-12-24T07:10:39.047Z"
   },
   {
    "duration": 299,
    "start_time": "2021-12-24T07:10:46.488Z"
   },
   {
    "duration": 269,
    "start_time": "2021-12-24T07:10:54.832Z"
   },
   {
    "duration": 5,
    "start_time": "2021-12-24T07:11:09.669Z"
   },
   {
    "duration": 1463,
    "start_time": "2021-12-24T07:11:16.727Z"
   },
   {
    "duration": 48,
    "start_time": "2021-12-24T07:11:18.192Z"
   },
   {
    "duration": 23,
    "start_time": "2021-12-24T07:11:18.242Z"
   },
   {
    "duration": 18,
    "start_time": "2021-12-24T07:11:18.268Z"
   },
   {
    "duration": 36,
    "start_time": "2021-12-24T07:11:18.288Z"
   },
   {
    "duration": 42,
    "start_time": "2021-12-24T07:11:18.327Z"
   },
   {
    "duration": 4,
    "start_time": "2021-12-24T07:11:18.372Z"
   },
   {
    "duration": 42,
    "start_time": "2021-12-24T07:11:18.379Z"
   },
   {
    "duration": 11,
    "start_time": "2021-12-24T07:11:18.423Z"
   },
   {
    "duration": 5,
    "start_time": "2021-12-24T07:11:18.437Z"
   },
   {
    "duration": 7,
    "start_time": "2021-12-24T07:11:18.444Z"
   },
   {
    "duration": 9,
    "start_time": "2021-12-24T07:11:18.453Z"
   },
   {
    "duration": 7,
    "start_time": "2021-12-24T07:11:18.465Z"
   },
   {
    "duration": 61,
    "start_time": "2021-12-24T07:11:18.474Z"
   },
   {
    "duration": 12,
    "start_time": "2021-12-24T07:11:18.538Z"
   },
   {
    "duration": 7,
    "start_time": "2021-12-24T07:11:18.552Z"
   },
   {
    "duration": 21,
    "start_time": "2021-12-24T07:11:18.561Z"
   },
   {
    "duration": 41,
    "start_time": "2021-12-24T07:11:18.584Z"
   },
   {
    "duration": 790,
    "start_time": "2021-12-24T07:11:18.627Z"
   },
   {
    "duration": 20,
    "start_time": "2021-12-24T07:11:19.419Z"
   },
   {
    "duration": 542,
    "start_time": "2021-12-24T07:11:19.442Z"
   },
   {
    "duration": 9,
    "start_time": "2021-12-24T07:11:19.987Z"
   },
   {
    "duration": 9,
    "start_time": "2021-12-24T07:11:20.022Z"
   },
   {
    "duration": 22,
    "start_time": "2021-12-24T07:11:20.035Z"
   },
   {
    "duration": 262,
    "start_time": "2021-12-24T07:11:20.059Z"
   },
   {
    "duration": 20,
    "start_time": "2021-12-24T07:11:20.323Z"
   },
   {
    "duration": 492,
    "start_time": "2021-12-24T07:11:20.346Z"
   },
   {
    "duration": 8,
    "start_time": "2021-12-24T07:11:20.840Z"
   },
   {
    "duration": 774,
    "start_time": "2021-12-24T07:11:20.850Z"
   },
   {
    "duration": 487,
    "start_time": "2021-12-24T07:11:21.626Z"
   },
   {
    "duration": 8,
    "start_time": "2021-12-24T07:11:22.118Z"
   },
   {
    "duration": 25,
    "start_time": "2021-12-24T07:11:22.129Z"
   },
   {
    "duration": 851,
    "start_time": "2021-12-24T07:11:22.157Z"
   },
   {
    "duration": 733,
    "start_time": "2021-12-24T07:11:23.010Z"
   },
   {
    "duration": 973,
    "start_time": "2021-12-24T07:11:23.745Z"
   },
   {
    "duration": 5,
    "start_time": "2021-12-24T07:11:24.720Z"
   },
   {
    "duration": 307,
    "start_time": "2021-12-24T07:11:24.728Z"
   },
   {
    "duration": 5,
    "start_time": "2021-12-24T07:11:25.037Z"
   },
   {
    "duration": 3581,
    "start_time": "2021-12-24T07:11:25.045Z"
   },
   {
    "duration": 9,
    "start_time": "2021-12-24T07:11:28.629Z"
   },
   {
    "duration": 11,
    "start_time": "2021-12-24T07:11:28.641Z"
   },
   {
    "duration": 594,
    "start_time": "2021-12-24T07:11:28.654Z"
   },
   {
    "duration": 20,
    "start_time": "2021-12-24T07:11:29.250Z"
   },
   {
    "duration": 418,
    "start_time": "2021-12-24T07:11:29.272Z"
   },
   {
    "duration": 3,
    "start_time": "2021-12-24T07:11:29.692Z"
   },
   {
    "duration": 907,
    "start_time": "2021-12-24T07:11:29.698Z"
   },
   {
    "duration": 314,
    "start_time": "2021-12-24T07:11:30.608Z"
   },
   {
    "duration": 31,
    "start_time": "2021-12-24T07:11:30.924Z"
   },
   {
    "duration": 1380,
    "start_time": "2021-12-24T07:11:30.957Z"
   },
   {
    "duration": 293,
    "start_time": "2021-12-24T07:11:46.407Z"
   },
   {
    "duration": 9,
    "start_time": "2021-12-24T07:12:01.287Z"
   },
   {
    "duration": 10,
    "start_time": "2021-12-24T07:12:09.527Z"
   },
   {
    "duration": 8,
    "start_time": "2021-12-24T07:12:53.990Z"
   },
   {
    "duration": 9,
    "start_time": "2021-12-24T07:12:56.509Z"
   },
   {
    "duration": 13,
    "start_time": "2021-12-24T07:13:15.487Z"
   },
   {
    "duration": 906,
    "start_time": "2021-12-24T07:14:11.561Z"
   },
   {
    "duration": 770,
    "start_time": "2021-12-24T07:14:26.319Z"
   },
   {
    "duration": 141,
    "start_time": "2021-12-24T07:14:35.600Z"
   },
   {
    "duration": 751,
    "start_time": "2021-12-24T07:14:48.805Z"
   },
   {
    "duration": 527,
    "start_time": "2021-12-24T07:16:01.110Z"
   },
   {
    "duration": 869,
    "start_time": "2021-12-24T07:25:18.801Z"
   },
   {
    "duration": 7,
    "start_time": "2021-12-24T07:25:41.880Z"
   },
   {
    "duration": 4,
    "start_time": "2021-12-24T07:25:58.296Z"
   },
   {
    "duration": 97,
    "start_time": "2021-12-24T07:28:14.101Z"
   },
   {
    "duration": 35,
    "start_time": "2021-12-24T07:28:56.597Z"
   },
   {
    "duration": 7,
    "start_time": "2021-12-24T07:29:17.334Z"
   },
   {
    "duration": 291,
    "start_time": "2021-12-24T07:29:27.629Z"
   },
   {
    "duration": 33,
    "start_time": "2021-12-24T07:29:34.206Z"
   },
   {
    "duration": 33,
    "start_time": "2021-12-24T07:29:59.230Z"
   },
   {
    "duration": 15378,
    "start_time": "2021-12-24T07:31:02.797Z"
   },
   {
    "duration": 110937,
    "start_time": "2021-12-24T07:31:51.364Z"
   },
   {
    "duration": 10,
    "start_time": "2021-12-24T07:33:59.956Z"
   },
   {
    "duration": 8,
    "start_time": "2021-12-24T07:34:01.806Z"
   },
   {
    "duration": 8,
    "start_time": "2021-12-24T07:34:03.996Z"
   },
   {
    "duration": 629,
    "start_time": "2021-12-24T07:34:06.541Z"
   },
   {
    "duration": 534,
    "start_time": "2021-12-24T07:35:49.917Z"
   },
   {
    "duration": 308,
    "start_time": "2021-12-24T07:36:10.675Z"
   },
   {
    "duration": 655,
    "start_time": "2021-12-24T07:36:37.364Z"
   },
   {
    "duration": 662,
    "start_time": "2021-12-24T07:37:12.525Z"
   },
   {
    "duration": 26,
    "start_time": "2021-12-24T07:37:35.783Z"
   },
   {
    "duration": 10,
    "start_time": "2021-12-24T07:40:04.548Z"
   },
   {
    "duration": 10,
    "start_time": "2021-12-24T07:41:17.179Z"
   },
   {
    "duration": 11,
    "start_time": "2021-12-24T07:41:20.651Z"
   },
   {
    "duration": 305,
    "start_time": "2021-12-24T07:41:30.261Z"
   },
   {
    "duration": 404,
    "start_time": "2021-12-24T07:41:41.963Z"
   },
   {
    "duration": 360,
    "start_time": "2021-12-24T07:42:03.411Z"
   },
   {
    "duration": 872,
    "start_time": "2021-12-24T07:42:27.734Z"
   },
   {
    "duration": 606,
    "start_time": "2021-12-24T07:42:48.996Z"
   },
   {
    "duration": 462,
    "start_time": "2021-12-24T07:42:57.404Z"
   },
   {
    "duration": 466,
    "start_time": "2021-12-24T07:43:18.964Z"
   },
   {
    "duration": 483,
    "start_time": "2021-12-24T07:43:50.964Z"
   },
   {
    "duration": 9,
    "start_time": "2021-12-24T07:45:06.139Z"
   },
   {
    "duration": 325,
    "start_time": "2021-12-24T07:45:16.411Z"
   },
   {
    "duration": 725,
    "start_time": "2021-12-24T07:45:52.964Z"
   },
   {
    "duration": 22,
    "start_time": "2021-12-24T07:46:31.843Z"
   },
   {
    "duration": 10,
    "start_time": "2021-12-24T07:46:46.811Z"
   },
   {
    "duration": 12,
    "start_time": "2021-12-24T07:46:56.970Z"
   },
   {
    "duration": 328,
    "start_time": "2021-12-24T07:47:04.363Z"
   },
   {
    "duration": 340,
    "start_time": "2021-12-24T07:47:28.794Z"
   },
   {
    "duration": 11,
    "start_time": "2021-12-24T07:49:27.763Z"
   },
   {
    "duration": 318,
    "start_time": "2021-12-24T07:49:38.411Z"
   },
   {
    "duration": 272,
    "start_time": "2021-12-24T07:50:03.931Z"
   },
   {
    "duration": 262,
    "start_time": "2021-12-24T07:50:12.019Z"
   },
   {
    "duration": 13,
    "start_time": "2021-12-24T08:02:57.001Z"
   },
   {
    "duration": 496,
    "start_time": "2021-12-24T08:02:58.945Z"
   },
   {
    "duration": 1514,
    "start_time": "2021-12-24T08:03:16.195Z"
   },
   {
    "duration": 47,
    "start_time": "2021-12-24T08:03:17.712Z"
   },
   {
    "duration": 23,
    "start_time": "2021-12-24T08:03:17.762Z"
   },
   {
    "duration": 35,
    "start_time": "2021-12-24T08:03:17.787Z"
   },
   {
    "duration": 19,
    "start_time": "2021-12-24T08:03:17.824Z"
   },
   {
    "duration": 44,
    "start_time": "2021-12-24T08:03:17.845Z"
   },
   {
    "duration": 27,
    "start_time": "2021-12-24T08:03:17.892Z"
   },
   {
    "duration": 11,
    "start_time": "2021-12-24T08:03:17.923Z"
   },
   {
    "duration": 5,
    "start_time": "2021-12-24T08:03:17.937Z"
   },
   {
    "duration": 8,
    "start_time": "2021-12-24T08:03:17.945Z"
   },
   {
    "duration": 12,
    "start_time": "2021-12-24T08:03:17.955Z"
   },
   {
    "duration": 48,
    "start_time": "2021-12-24T08:03:17.969Z"
   },
   {
    "duration": 9,
    "start_time": "2021-12-24T08:03:18.020Z"
   },
   {
    "duration": 29,
    "start_time": "2021-12-24T08:03:18.031Z"
   },
   {
    "duration": 14,
    "start_time": "2021-12-24T08:03:18.062Z"
   },
   {
    "duration": 40,
    "start_time": "2021-12-24T08:03:18.078Z"
   },
   {
    "duration": 21,
    "start_time": "2021-12-24T08:03:18.121Z"
   },
   {
    "duration": 13,
    "start_time": "2021-12-24T08:03:18.144Z"
   },
   {
    "duration": 852,
    "start_time": "2021-12-24T08:03:18.161Z"
   },
   {
    "duration": 24,
    "start_time": "2021-12-24T08:03:19.016Z"
   },
   {
    "duration": 575,
    "start_time": "2021-12-24T08:03:19.043Z"
   },
   {
    "duration": 7,
    "start_time": "2021-12-24T08:03:19.620Z"
   },
   {
    "duration": 8,
    "start_time": "2021-12-24T08:03:19.632Z"
   },
   {
    "duration": 22,
    "start_time": "2021-12-24T08:03:19.644Z"
   },
   {
    "duration": 255,
    "start_time": "2021-12-24T08:03:19.669Z"
   },
   {
    "duration": 19,
    "start_time": "2021-12-24T08:03:19.927Z"
   },
   {
    "duration": 503,
    "start_time": "2021-12-24T08:03:19.949Z"
   },
   {
    "duration": 10,
    "start_time": "2021-12-24T08:03:20.455Z"
   },
   {
    "duration": 663,
    "start_time": "2021-12-24T08:03:20.468Z"
   },
   {
    "duration": 486,
    "start_time": "2021-12-24T08:03:21.134Z"
   },
   {
    "duration": 7,
    "start_time": "2021-12-24T08:03:21.623Z"
   },
   {
    "duration": 21,
    "start_time": "2021-12-24T08:03:21.632Z"
   },
   {
    "duration": 866,
    "start_time": "2021-12-24T08:03:21.655Z"
   },
   {
    "duration": 734,
    "start_time": "2021-12-24T08:03:22.524Z"
   },
   {
    "duration": 910,
    "start_time": "2021-12-24T08:03:23.260Z"
   },
   {
    "duration": 5,
    "start_time": "2021-12-24T08:03:24.172Z"
   },
   {
    "duration": 346,
    "start_time": "2021-12-24T08:03:24.180Z"
   },
   {
    "duration": 6,
    "start_time": "2021-12-24T08:03:24.528Z"
   },
   {
    "duration": 3450,
    "start_time": "2021-12-24T08:03:24.536Z"
   },
   {
    "duration": 10,
    "start_time": "2021-12-24T08:03:27.988Z"
   },
   {
    "duration": 26,
    "start_time": "2021-12-24T08:03:28.000Z"
   },
   {
    "duration": 588,
    "start_time": "2021-12-24T08:03:28.029Z"
   },
   {
    "duration": 5,
    "start_time": "2021-12-24T08:03:28.619Z"
   },
   {
    "duration": 10,
    "start_time": "2021-12-24T08:03:28.627Z"
   },
   {
    "duration": 8,
    "start_time": "2021-12-24T08:03:28.640Z"
   },
   {
    "duration": 714,
    "start_time": "2021-12-24T08:03:28.650Z"
   },
   {
    "duration": 8,
    "start_time": "2021-12-24T08:03:29.367Z"
   },
   {
    "duration": 654,
    "start_time": "2021-12-24T08:03:29.378Z"
   },
   {
    "duration": 19,
    "start_time": "2021-12-24T08:03:30.035Z"
   },
   {
    "duration": 13,
    "start_time": "2021-12-24T08:03:30.057Z"
   },
   {
    "duration": 385,
    "start_time": "2021-12-24T08:03:30.073Z"
   },
   {
    "duration": 425,
    "start_time": "2021-12-24T08:03:30.461Z"
   },
   {
    "duration": 6,
    "start_time": "2021-12-24T08:06:04.468Z"
   },
   {
    "duration": 992,
    "start_time": "2021-12-24T08:06:24.547Z"
   },
   {
    "duration": 7,
    "start_time": "2021-12-24T08:08:48.138Z"
   },
   {
    "duration": 1017,
    "start_time": "2021-12-24T08:08:51.274Z"
   },
   {
    "duration": 7,
    "start_time": "2021-12-24T08:09:04.546Z"
   },
   {
    "duration": 973,
    "start_time": "2021-12-24T08:09:07.900Z"
   },
   {
    "duration": 7,
    "start_time": "2021-12-24T08:09:21.994Z"
   },
   {
    "duration": 1010,
    "start_time": "2021-12-24T08:09:25.714Z"
   },
   {
    "duration": 7,
    "start_time": "2021-12-24T08:10:16.660Z"
   },
   {
    "duration": 1121,
    "start_time": "2021-12-24T08:10:19.306Z"
   },
   {
    "duration": 6,
    "start_time": "2021-12-24T08:10:26.147Z"
   },
   {
    "duration": 1013,
    "start_time": "2021-12-24T08:10:28.553Z"
   },
   {
    "duration": 7,
    "start_time": "2021-12-24T08:10:55.691Z"
   },
   {
    "duration": 1107,
    "start_time": "2021-12-24T08:10:58.251Z"
   },
   {
    "duration": 7,
    "start_time": "2021-12-24T08:11:22.049Z"
   },
   {
    "duration": 996,
    "start_time": "2021-12-24T08:11:24.489Z"
   },
   {
    "duration": 6,
    "start_time": "2021-12-24T08:11:52.234Z"
   },
   {
    "duration": 1549,
    "start_time": "2021-12-24T08:11:54.778Z"
   },
   {
    "duration": 10,
    "start_time": "2021-12-24T08:12:17.770Z"
   },
   {
    "duration": 1611,
    "start_time": "2021-12-24T08:12:19.848Z"
   },
   {
    "duration": 9,
    "start_time": "2021-12-24T08:12:56.562Z"
   },
   {
    "duration": 1008,
    "start_time": "2021-12-24T08:13:01.233Z"
   },
   {
    "duration": 500,
    "start_time": "2021-12-24T08:13:59.322Z"
   },
   {
    "duration": 635,
    "start_time": "2021-12-24T08:14:26.665Z"
   },
   {
    "duration": 329,
    "start_time": "2021-12-24T08:14:34.579Z"
   },
   {
    "duration": 101,
    "start_time": "2021-12-24T08:15:03.674Z"
   },
   {
    "duration": 96,
    "start_time": "2021-12-24T08:15:23.870Z"
   },
   {
    "duration": 773,
    "start_time": "2021-12-24T08:15:33.613Z"
   },
   {
    "duration": 496,
    "start_time": "2021-12-24T08:15:53.944Z"
   },
   {
    "duration": 490,
    "start_time": "2021-12-24T08:16:03.284Z"
   },
   {
    "duration": 1020,
    "start_time": "2021-12-24T08:16:13.201Z"
   },
   {
    "duration": 7,
    "start_time": "2021-12-24T08:19:32.729Z"
   },
   {
    "duration": 1124,
    "start_time": "2021-12-24T08:19:34.825Z"
   },
   {
    "duration": 1048,
    "start_time": "2021-12-24T08:20:17.296Z"
   },
   {
    "duration": 1068,
    "start_time": "2021-12-24T08:20:26.008Z"
   },
   {
    "duration": 671,
    "start_time": "2021-12-24T08:20:43.022Z"
   },
   {
    "duration": 1814,
    "start_time": "2021-12-24T08:24:46.144Z"
   },
   {
    "duration": 7,
    "start_time": "2021-12-24T08:24:59.025Z"
   },
   {
    "duration": 4,
    "start_time": "2021-12-24T08:25:03.959Z"
   },
   {
    "duration": 1810,
    "start_time": "2021-12-24T08:25:07.946Z"
   },
   {
    "duration": 5,
    "start_time": "2021-12-24T08:25:22.352Z"
   },
   {
    "duration": 5,
    "start_time": "2021-12-24T08:25:26.712Z"
   },
   {
    "duration": 2222,
    "start_time": "2021-12-24T08:25:39.232Z"
   },
   {
    "duration": 10,
    "start_time": "2021-12-24T08:26:05.129Z"
   },
   {
    "duration": 973,
    "start_time": "2021-12-24T08:26:07.887Z"
   },
   {
    "duration": 34,
    "start_time": "2021-12-24T08:26:54.142Z"
   },
   {
    "duration": 265,
    "start_time": "2021-12-24T08:27:09.017Z"
   },
   {
    "duration": 365,
    "start_time": "2021-12-24T08:27:29.515Z"
   },
   {
    "duration": 272,
    "start_time": "2021-12-24T08:27:58.935Z"
   },
   {
    "duration": 7,
    "start_time": "2021-12-24T08:33:29.552Z"
   },
   {
    "duration": 1333,
    "start_time": "2021-12-24T08:33:31.703Z"
   },
   {
    "duration": 1341,
    "start_time": "2021-12-24T08:33:45.248Z"
   },
   {
    "duration": 1302,
    "start_time": "2021-12-24T08:34:04.471Z"
   },
   {
    "duration": 7,
    "start_time": "2021-12-24T08:34:36.560Z"
   },
   {
    "duration": 1293,
    "start_time": "2021-12-24T08:34:39.279Z"
   },
   {
    "duration": 1658,
    "start_time": "2021-12-24T08:34:45.918Z"
   },
   {
    "duration": 1454,
    "start_time": "2021-12-24T08:35:00.309Z"
   },
   {
    "duration": 4,
    "start_time": "2021-12-24T08:36:05.343Z"
   },
   {
    "duration": 1370,
    "start_time": "2021-12-24T08:36:08.767Z"
   },
   {
    "duration": 10,
    "start_time": "2021-12-24T08:36:19.543Z"
   },
   {
    "duration": 1311,
    "start_time": "2021-12-24T08:36:25.917Z"
   },
   {
    "duration": 4,
    "start_time": "2021-12-24T08:36:45.801Z"
   },
   {
    "duration": 4,
    "start_time": "2021-12-24T08:37:49.706Z"
   },
   {
    "duration": 1349,
    "start_time": "2021-12-24T08:37:56.888Z"
   },
   {
    "duration": 10,
    "start_time": "2021-12-24T08:38:04.520Z"
   },
   {
    "duration": 1427,
    "start_time": "2021-12-24T08:38:07.046Z"
   },
   {
    "duration": 9,
    "start_time": "2021-12-24T08:38:52.256Z"
   },
   {
    "duration": 1424,
    "start_time": "2021-12-24T08:38:57.110Z"
   },
   {
    "duration": 48,
    "start_time": "2021-12-24T08:39:20.279Z"
   },
   {
    "duration": 1587,
    "start_time": "2021-12-24T08:39:29.209Z"
   },
   {
    "duration": 49,
    "start_time": "2021-12-24T08:39:30.799Z"
   },
   {
    "duration": 23,
    "start_time": "2021-12-24T08:39:30.850Z"
   },
   {
    "duration": 42,
    "start_time": "2021-12-24T08:39:30.876Z"
   },
   {
    "duration": 29,
    "start_time": "2021-12-24T08:39:30.920Z"
   },
   {
    "duration": 46,
    "start_time": "2021-12-24T08:39:30.951Z"
   },
   {
    "duration": 18,
    "start_time": "2021-12-24T08:39:31.000Z"
   },
   {
    "duration": 10,
    "start_time": "2021-12-24T08:39:31.022Z"
   },
   {
    "duration": 8,
    "start_time": "2021-12-24T08:39:31.035Z"
   },
   {
    "duration": 11,
    "start_time": "2021-12-24T08:39:31.046Z"
   },
   {
    "duration": 14,
    "start_time": "2021-12-24T08:39:31.060Z"
   },
   {
    "duration": 41,
    "start_time": "2021-12-24T08:39:31.076Z"
   },
   {
    "duration": 20,
    "start_time": "2021-12-24T08:39:31.120Z"
   },
   {
    "duration": 35,
    "start_time": "2021-12-24T08:39:31.143Z"
   },
   {
    "duration": 13,
    "start_time": "2021-12-24T08:39:31.180Z"
   },
   {
    "duration": 27,
    "start_time": "2021-12-24T08:39:31.196Z"
   },
   {
    "duration": 22,
    "start_time": "2021-12-24T08:39:31.226Z"
   },
   {
    "duration": 11,
    "start_time": "2021-12-24T08:39:31.250Z"
   },
   {
    "duration": 721,
    "start_time": "2021-12-24T08:39:31.264Z"
   },
   {
    "duration": 35,
    "start_time": "2021-12-24T08:39:31.988Z"
   },
   {
    "duration": 551,
    "start_time": "2021-12-24T08:39:32.027Z"
   },
   {
    "duration": 6,
    "start_time": "2021-12-24T08:39:32.580Z"
   },
   {
    "duration": 26,
    "start_time": "2021-12-24T08:39:32.592Z"
   },
   {
    "duration": 20,
    "start_time": "2021-12-24T08:39:32.621Z"
   },
   {
    "duration": 251,
    "start_time": "2021-12-24T08:39:32.644Z"
   },
   {
    "duration": 31,
    "start_time": "2021-12-24T08:39:32.897Z"
   },
   {
    "duration": 491,
    "start_time": "2021-12-24T08:39:32.930Z"
   },
   {
    "duration": 16,
    "start_time": "2021-12-24T08:39:33.423Z"
   },
   {
    "duration": 802,
    "start_time": "2021-12-24T08:39:33.441Z"
   },
   {
    "duration": 492,
    "start_time": "2021-12-24T08:39:34.245Z"
   },
   {
    "duration": 8,
    "start_time": "2021-12-24T08:39:34.739Z"
   },
   {
    "duration": 23,
    "start_time": "2021-12-24T08:39:34.750Z"
   },
   {
    "duration": 922,
    "start_time": "2021-12-24T08:39:34.776Z"
   },
   {
    "duration": 787,
    "start_time": "2021-12-24T08:39:35.700Z"
   },
   {
    "duration": 1000,
    "start_time": "2021-12-24T08:39:36.490Z"
   },
   {
    "duration": 5,
    "start_time": "2021-12-24T08:39:37.492Z"
   },
   {
    "duration": 326,
    "start_time": "2021-12-24T08:39:37.500Z"
   },
   {
    "duration": 5,
    "start_time": "2021-12-24T08:39:37.828Z"
   },
   {
    "duration": 3533,
    "start_time": "2021-12-24T08:39:37.836Z"
   },
   {
    "duration": 8,
    "start_time": "2021-12-24T08:39:41.372Z"
   },
   {
    "duration": 36,
    "start_time": "2021-12-24T08:39:41.383Z"
   },
   {
    "duration": 596,
    "start_time": "2021-12-24T08:39:41.421Z"
   },
   {
    "duration": 16,
    "start_time": "2021-12-24T08:39:42.020Z"
   },
   {
    "duration": 592,
    "start_time": "2021-12-24T08:39:42.039Z"
   },
   {
    "duration": 6,
    "start_time": "2021-12-24T08:39:42.634Z"
   },
   {
    "duration": 1090,
    "start_time": "2021-12-24T08:39:42.643Z"
   },
   {
    "duration": 8,
    "start_time": "2021-12-24T08:39:43.735Z"
   },
   {
    "duration": 630,
    "start_time": "2021-12-24T08:39:43.746Z"
   },
   {
    "duration": 999,
    "start_time": "2021-12-24T08:39:44.378Z"
   },
   {
    "duration": 43,
    "start_time": "2021-12-24T08:39:45.380Z"
   },
   {
    "duration": 422,
    "start_time": "2021-12-24T08:39:45.426Z"
   },
   {
    "duration": -808,
    "start_time": "2021-12-24T08:39:46.659Z"
   },
   {
    "duration": -812,
    "start_time": "2021-12-24T08:39:46.664Z"
   },
   {
    "duration": -814,
    "start_time": "2021-12-24T08:39:46.668Z"
   },
   {
    "duration": -816,
    "start_time": "2021-12-24T08:39:46.672Z"
   },
   {
    "duration": -820,
    "start_time": "2021-12-24T08:39:46.677Z"
   },
   {
    "duration": 7,
    "start_time": "2021-12-24T08:41:02.814Z"
   },
   {
    "duration": 6,
    "start_time": "2021-12-24T08:41:10.191Z"
   },
   {
    "duration": 6,
    "start_time": "2021-12-24T08:41:16.422Z"
   },
   {
    "duration": 1744,
    "start_time": "2021-12-24T08:46:04.254Z"
   },
   {
    "duration": 4,
    "start_time": "2021-12-24T08:46:37.734Z"
   },
   {
    "duration": 4,
    "start_time": "2021-12-24T08:49:19.621Z"
   },
   {
    "duration": 5,
    "start_time": "2021-12-24T08:49:23.710Z"
   },
   {
    "duration": 10,
    "start_time": "2021-12-24T08:49:35.910Z"
   },
   {
    "duration": 7,
    "start_time": "2021-12-24T08:49:46.702Z"
   },
   {
    "duration": 5,
    "start_time": "2021-12-24T08:50:06.317Z"
   },
   {
    "duration": 5,
    "start_time": "2021-12-24T08:50:08.550Z"
   },
   {
    "duration": 13,
    "start_time": "2021-12-24T08:50:10.660Z"
   },
   {
    "duration": 7,
    "start_time": "2021-12-24T08:50:12.397Z"
   },
   {
    "duration": 33,
    "start_time": "2021-12-24T08:50:19.021Z"
   },
   {
    "duration": 366,
    "start_time": "2021-12-24T08:51:51.789Z"
   },
   {
    "duration": 294,
    "start_time": "2021-12-24T08:52:00.461Z"
   },
   {
    "duration": 9,
    "start_time": "2021-12-24T08:52:10.358Z"
   },
   {
    "duration": 12,
    "start_time": "2021-12-24T08:52:14.596Z"
   },
   {
    "duration": 466,
    "start_time": "2021-12-24T08:52:47.764Z"
   },
   {
    "duration": 449,
    "start_time": "2021-12-24T08:52:58.653Z"
   },
   {
    "duration": 1124,
    "start_time": "2021-12-24T08:53:06.445Z"
   },
   {
    "duration": 8,
    "start_time": "2021-12-24T08:56:46.596Z"
   },
   {
    "duration": 989,
    "start_time": "2021-12-24T08:56:48.788Z"
   },
   {
    "duration": 9,
    "start_time": "2021-12-24T08:57:28.309Z"
   },
   {
    "duration": 1416,
    "start_time": "2021-12-24T08:57:30.685Z"
   },
   {
    "duration": 1433,
    "start_time": "2021-12-24T08:57:36.197Z"
   },
   {
    "duration": 1532,
    "start_time": "2021-12-24T08:57:43.926Z"
   },
   {
    "duration": 3,
    "start_time": "2021-12-24T09:07:28.620Z"
   },
   {
    "duration": 7,
    "start_time": "2021-12-24T09:08:32.498Z"
   },
   {
    "duration": 8,
    "start_time": "2021-12-24T09:08:50.404Z"
   },
   {
    "duration": 9,
    "start_time": "2021-12-24T09:09:31.644Z"
   },
   {
    "duration": 9,
    "start_time": "2021-12-24T09:09:40.203Z"
   },
   {
    "duration": 10,
    "start_time": "2021-12-24T09:09:52.779Z"
   },
   {
    "duration": 11,
    "start_time": "2021-12-24T09:10:04.291Z"
   },
   {
    "duration": 34,
    "start_time": "2021-12-24T09:10:09.595Z"
   },
   {
    "duration": 5,
    "start_time": "2021-12-24T09:10:36.394Z"
   },
   {
    "duration": 6,
    "start_time": "2021-12-24T09:10:38.059Z"
   },
   {
    "duration": 10,
    "start_time": "2021-12-24T09:10:42.467Z"
   },
   {
    "duration": 5,
    "start_time": "2021-12-24T09:10:47.194Z"
   },
   {
    "duration": 5,
    "start_time": "2021-12-24T09:10:48.889Z"
   },
   {
    "duration": 265,
    "start_time": "2021-12-24T09:13:04.938Z"
   },
   {
    "duration": 12,
    "start_time": "2021-12-24T09:13:10.610Z"
   },
   {
    "duration": 5,
    "start_time": "2021-12-24T09:13:14.644Z"
   },
   {
    "duration": 1529,
    "start_time": "2021-12-24T09:13:28.103Z"
   },
   {
    "duration": 51,
    "start_time": "2021-12-24T09:13:29.635Z"
   },
   {
    "duration": 30,
    "start_time": "2021-12-24T09:13:29.689Z"
   },
   {
    "duration": 18,
    "start_time": "2021-12-24T09:13:29.722Z"
   },
   {
    "duration": 19,
    "start_time": "2021-12-24T09:13:29.743Z"
   },
   {
    "duration": 97,
    "start_time": "2021-12-24T09:13:29.764Z"
   },
   {
    "duration": 5,
    "start_time": "2021-12-24T09:13:29.864Z"
   },
   {
    "duration": 16,
    "start_time": "2021-12-24T09:13:29.873Z"
   },
   {
    "duration": 25,
    "start_time": "2021-12-24T09:13:29.893Z"
   },
   {
    "duration": 6,
    "start_time": "2021-12-24T09:13:29.921Z"
   },
   {
    "duration": 9,
    "start_time": "2021-12-24T09:13:29.929Z"
   },
   {
    "duration": 12,
    "start_time": "2021-12-24T09:13:29.941Z"
   },
   {
    "duration": 6,
    "start_time": "2021-12-24T09:13:29.955Z"
   },
   {
    "duration": 69,
    "start_time": "2021-12-24T09:13:29.964Z"
   },
   {
    "duration": 14,
    "start_time": "2021-12-24T09:13:30.035Z"
   },
   {
    "duration": 11,
    "start_time": "2021-12-24T09:13:30.051Z"
   },
   {
    "duration": 19,
    "start_time": "2021-12-24T09:13:30.064Z"
   },
   {
    "duration": 11,
    "start_time": "2021-12-24T09:13:30.118Z"
   },
   {
    "duration": 708,
    "start_time": "2021-12-24T09:13:30.131Z"
   },
   {
    "duration": 24,
    "start_time": "2021-12-24T09:13:30.842Z"
   },
   {
    "duration": 572,
    "start_time": "2021-12-24T09:13:30.870Z"
   },
   {
    "duration": 9,
    "start_time": "2021-12-24T09:13:31.445Z"
   },
   {
    "duration": 11,
    "start_time": "2021-12-24T09:13:31.461Z"
   },
   {
    "duration": 27,
    "start_time": "2021-12-24T09:13:31.517Z"
   },
   {
    "duration": 314,
    "start_time": "2021-12-24T09:13:31.547Z"
   },
   {
    "duration": 22,
    "start_time": "2021-12-24T09:13:31.863Z"
   },
   {
    "duration": 509,
    "start_time": "2021-12-24T09:13:31.887Z"
   },
   {
    "duration": 18,
    "start_time": "2021-12-24T09:13:32.399Z"
   },
   {
    "duration": 698,
    "start_time": "2021-12-24T09:13:32.419Z"
   },
   {
    "duration": 491,
    "start_time": "2021-12-24T09:13:33.119Z"
   },
   {
    "duration": 9,
    "start_time": "2021-12-24T09:13:33.612Z"
   },
   {
    "duration": 31,
    "start_time": "2021-12-24T09:13:33.623Z"
   },
   {
    "duration": 866,
    "start_time": "2021-12-24T09:13:33.657Z"
   },
   {
    "duration": 743,
    "start_time": "2021-12-24T09:13:34.526Z"
   },
   {
    "duration": 1083,
    "start_time": "2021-12-24T09:13:35.272Z"
   },
   {
    "duration": 5,
    "start_time": "2021-12-24T09:13:36.357Z"
   },
   {
    "duration": 385,
    "start_time": "2021-12-24T09:13:36.365Z"
   },
   {
    "duration": 6,
    "start_time": "2021-12-24T09:13:36.753Z"
   },
   {
    "duration": 3633,
    "start_time": "2021-12-24T09:13:36.761Z"
   },
   {
    "duration": 20,
    "start_time": "2021-12-24T09:13:40.397Z"
   },
   {
    "duration": 15,
    "start_time": "2021-12-24T09:13:40.421Z"
   },
   {
    "duration": 666,
    "start_time": "2021-12-24T09:13:40.438Z"
   },
   {
    "duration": 18,
    "start_time": "2021-12-24T09:13:41.107Z"
   },
   {
    "duration": 663,
    "start_time": "2021-12-24T09:13:41.127Z"
   },
   {
    "duration": 8,
    "start_time": "2021-12-24T09:13:41.792Z"
   },
   {
    "duration": 1413,
    "start_time": "2021-12-24T09:13:41.817Z"
   },
   {
    "duration": 12,
    "start_time": "2021-12-24T09:13:43.233Z"
   },
   {
    "duration": 897,
    "start_time": "2021-12-24T09:13:43.248Z"
   },
   {
    "duration": 1002,
    "start_time": "2021-12-24T09:13:44.148Z"
   },
   {
    "duration": 6,
    "start_time": "2021-12-24T09:13:45.153Z"
   },
   {
    "duration": 4,
    "start_time": "2021-12-24T09:13:45.162Z"
   },
   {
    "duration": 11,
    "start_time": "2021-12-24T09:13:45.169Z"
   },
   {
    "duration": 41,
    "start_time": "2021-12-24T09:13:45.183Z"
   },
   {
    "duration": 404,
    "start_time": "2021-12-24T09:13:45.227Z"
   },
   {
    "duration": -800,
    "start_time": "2021-12-24T09:13:46.433Z"
   },
   {
    "duration": -810,
    "start_time": "2021-12-24T09:13:46.445Z"
   },
   {
    "duration": -813,
    "start_time": "2021-12-24T09:13:46.449Z"
   },
   {
    "duration": -824,
    "start_time": "2021-12-24T09:13:46.462Z"
   },
   {
    "duration": -827,
    "start_time": "2021-12-24T09:13:46.466Z"
   },
   {
    "duration": -836,
    "start_time": "2021-12-24T09:13:46.477Z"
   },
   {
    "duration": -839,
    "start_time": "2021-12-24T09:13:46.481Z"
   },
   {
    "duration": 381,
    "start_time": "2021-12-24T09:14:10.821Z"
   },
   {
    "duration": 1496,
    "start_time": "2021-12-24T09:14:23.598Z"
   },
   {
    "duration": 47,
    "start_time": "2021-12-24T09:14:25.097Z"
   },
   {
    "duration": 23,
    "start_time": "2021-12-24T09:14:25.147Z"
   },
   {
    "duration": 47,
    "start_time": "2021-12-24T09:14:25.173Z"
   },
   {
    "duration": 15,
    "start_time": "2021-12-24T09:14:25.222Z"
   },
   {
    "duration": 42,
    "start_time": "2021-12-24T09:14:25.239Z"
   },
   {
    "duration": 33,
    "start_time": "2021-12-24T09:14:25.284Z"
   },
   {
    "duration": 11,
    "start_time": "2021-12-24T09:14:25.322Z"
   },
   {
    "duration": 6,
    "start_time": "2021-12-24T09:14:25.337Z"
   },
   {
    "duration": 5,
    "start_time": "2021-12-24T09:14:25.346Z"
   },
   {
    "duration": 9,
    "start_time": "2021-12-24T09:14:25.354Z"
   },
   {
    "duration": 54,
    "start_time": "2021-12-24T09:14:25.366Z"
   },
   {
    "duration": 12,
    "start_time": "2021-12-24T09:14:25.423Z"
   },
   {
    "duration": 28,
    "start_time": "2021-12-24T09:14:25.438Z"
   },
   {
    "duration": 14,
    "start_time": "2021-12-24T09:14:25.468Z"
   },
   {
    "duration": 35,
    "start_time": "2021-12-24T09:14:25.485Z"
   },
   {
    "duration": 20,
    "start_time": "2021-12-24T09:14:25.522Z"
   },
   {
    "duration": 13,
    "start_time": "2021-12-24T09:14:25.545Z"
   },
   {
    "duration": 1019,
    "start_time": "2021-12-24T09:14:25.561Z"
   },
   {
    "duration": 36,
    "start_time": "2021-12-24T09:14:26.583Z"
   },
   {
    "duration": 640,
    "start_time": "2021-12-24T09:14:26.622Z"
   },
   {
    "duration": 7,
    "start_time": "2021-12-24T09:14:27.265Z"
   },
   {
    "duration": 10,
    "start_time": "2021-12-24T09:14:27.278Z"
   },
   {
    "duration": 23,
    "start_time": "2021-12-24T09:14:27.316Z"
   },
   {
    "duration": 258,
    "start_time": "2021-12-24T09:14:27.341Z"
   },
   {
    "duration": 34,
    "start_time": "2021-12-24T09:14:27.601Z"
   },
   {
    "duration": 488,
    "start_time": "2021-12-24T09:14:27.637Z"
   },
   {
    "duration": 8,
    "start_time": "2021-12-24T09:14:28.127Z"
   },
   {
    "duration": 902,
    "start_time": "2021-12-24T09:14:28.137Z"
   },
   {
    "duration": 509,
    "start_time": "2021-12-24T09:14:29.042Z"
   },
   {
    "duration": 8,
    "start_time": "2021-12-24T09:14:29.554Z"
   },
   {
    "duration": 21,
    "start_time": "2021-12-24T09:14:29.564Z"
   },
   {
    "duration": 916,
    "start_time": "2021-12-24T09:14:29.587Z"
   },
   {
    "duration": 776,
    "start_time": "2021-12-24T09:14:30.505Z"
   },
   {
    "duration": 908,
    "start_time": "2021-12-24T09:14:31.283Z"
   },
   {
    "duration": 5,
    "start_time": "2021-12-24T09:14:32.194Z"
   },
   {
    "duration": 330,
    "start_time": "2021-12-24T09:14:32.201Z"
   },
   {
    "duration": 6,
    "start_time": "2021-12-24T09:14:32.534Z"
   },
   {
    "duration": 3441,
    "start_time": "2021-12-24T09:14:32.543Z"
   },
   {
    "duration": 10,
    "start_time": "2021-12-24T09:14:35.986Z"
   },
   {
    "duration": 28,
    "start_time": "2021-12-24T09:14:35.998Z"
   },
   {
    "duration": 578,
    "start_time": "2021-12-24T09:14:36.028Z"
   },
   {
    "duration": 16,
    "start_time": "2021-12-24T09:14:36.609Z"
   },
   {
    "duration": 585,
    "start_time": "2021-12-24T09:14:36.628Z"
   },
   {
    "duration": 7,
    "start_time": "2021-12-24T09:14:37.218Z"
   },
   {
    "duration": 992,
    "start_time": "2021-12-24T09:14:37.227Z"
   },
   {
    "duration": 8,
    "start_time": "2021-12-24T09:14:38.222Z"
   },
   {
    "duration": 627,
    "start_time": "2021-12-24T09:14:38.233Z"
   },
   {
    "duration": 1008,
    "start_time": "2021-12-24T09:14:38.862Z"
   },
   {
    "duration": 6,
    "start_time": "2021-12-24T09:14:39.873Z"
   },
   {
    "duration": 5,
    "start_time": "2021-12-24T09:14:39.882Z"
   },
   {
    "duration": 36,
    "start_time": "2021-12-24T09:14:39.890Z"
   },
   {
    "duration": 9,
    "start_time": "2021-12-24T09:14:39.928Z"
   },
   {
    "duration": 485,
    "start_time": "2021-12-24T09:14:39.940Z"
   },
   {
    "duration": 1023,
    "start_time": "2021-12-24T09:14:40.428Z"
   },
   {
    "duration": 3,
    "start_time": "2021-12-24T09:14:41.454Z"
   },
   {
    "duration": 11,
    "start_time": "2021-12-24T09:14:41.460Z"
   },
   {
    "duration": 47,
    "start_time": "2021-12-24T09:14:41.473Z"
   },
   {
    "duration": 5,
    "start_time": "2021-12-24T09:14:41.522Z"
   },
   {
    "duration": 8,
    "start_time": "2021-12-24T09:14:41.529Z"
   },
   {
    "duration": 5,
    "start_time": "2021-12-24T09:15:57.304Z"
   },
   {
    "duration": 6,
    "start_time": "2021-12-24T09:15:59.336Z"
   },
   {
    "duration": 5,
    "start_time": "2021-12-24T09:20:33.462Z"
   },
   {
    "duration": 6,
    "start_time": "2021-12-24T09:20:50.594Z"
   },
   {
    "duration": 1495,
    "start_time": "2021-12-24T09:21:20.291Z"
   },
   {
    "duration": 48,
    "start_time": "2021-12-24T09:21:21.789Z"
   },
   {
    "duration": 23,
    "start_time": "2021-12-24T09:21:21.840Z"
   },
   {
    "duration": 18,
    "start_time": "2021-12-24T09:21:21.866Z"
   },
   {
    "duration": 39,
    "start_time": "2021-12-24T09:21:21.887Z"
   },
   {
    "duration": 41,
    "start_time": "2021-12-24T09:21:21.929Z"
   },
   {
    "duration": 3,
    "start_time": "2021-12-24T09:21:21.973Z"
   },
   {
    "duration": 38,
    "start_time": "2021-12-24T09:21:21.980Z"
   },
   {
    "duration": 11,
    "start_time": "2021-12-24T09:21:22.022Z"
   },
   {
    "duration": 27,
    "start_time": "2021-12-24T09:21:22.036Z"
   },
   {
    "duration": 23,
    "start_time": "2021-12-24T09:21:22.066Z"
   },
   {
    "duration": 10,
    "start_time": "2021-12-24T09:21:22.102Z"
   },
   {
    "duration": 8,
    "start_time": "2021-12-24T09:21:22.115Z"
   },
   {
    "duration": 26,
    "start_time": "2021-12-24T09:21:22.134Z"
   },
   {
    "duration": 13,
    "start_time": "2021-12-24T09:21:22.163Z"
   },
   {
    "duration": 6,
    "start_time": "2021-12-24T09:21:22.179Z"
   },
   {
    "duration": 47,
    "start_time": "2021-12-24T09:21:22.188Z"
   },
   {
    "duration": 18,
    "start_time": "2021-12-24T09:21:22.238Z"
   },
   {
    "duration": 1035,
    "start_time": "2021-12-24T09:21:22.259Z"
   },
   {
    "duration": 39,
    "start_time": "2021-12-24T09:21:23.296Z"
   },
   {
    "duration": 547,
    "start_time": "2021-12-24T09:21:23.338Z"
   },
   {
    "duration": 7,
    "start_time": "2021-12-24T09:21:23.887Z"
   },
   {
    "duration": 9,
    "start_time": "2021-12-24T09:21:23.920Z"
   },
   {
    "duration": 23,
    "start_time": "2021-12-24T09:21:23.933Z"
   },
   {
    "duration": 262,
    "start_time": "2021-12-24T09:21:23.959Z"
   },
   {
    "duration": 24,
    "start_time": "2021-12-24T09:21:24.225Z"
   },
   {
    "duration": 513,
    "start_time": "2021-12-24T09:21:24.252Z"
   },
   {
    "duration": 9,
    "start_time": "2021-12-24T09:21:24.767Z"
   },
   {
    "duration": 661,
    "start_time": "2021-12-24T09:21:24.778Z"
   },
   {
    "duration": 491,
    "start_time": "2021-12-24T09:21:25.442Z"
   },
   {
    "duration": 7,
    "start_time": "2021-12-24T09:21:25.935Z"
   },
   {
    "duration": 24,
    "start_time": "2021-12-24T09:21:25.945Z"
   },
   {
    "duration": 1188,
    "start_time": "2021-12-24T09:21:25.972Z"
   },
   {
    "duration": 1065,
    "start_time": "2021-12-24T09:21:27.163Z"
   },
   {
    "duration": 1273,
    "start_time": "2021-12-24T09:21:28.231Z"
   },
   {
    "duration": 11,
    "start_time": "2021-12-24T09:21:29.507Z"
   },
   {
    "duration": 434,
    "start_time": "2021-12-24T09:21:29.521Z"
   },
   {
    "duration": 6,
    "start_time": "2021-12-24T09:21:29.958Z"
   },
   {
    "duration": 4759,
    "start_time": "2021-12-24T09:21:29.967Z"
   },
   {
    "duration": 11,
    "start_time": "2021-12-24T09:21:34.730Z"
   },
   {
    "duration": 14,
    "start_time": "2021-12-24T09:21:34.744Z"
   },
   {
    "duration": 592,
    "start_time": "2021-12-24T09:21:34.761Z"
   },
   {
    "duration": 15,
    "start_time": "2021-12-24T09:21:35.355Z"
   },
   {
    "duration": 582,
    "start_time": "2021-12-24T09:21:35.373Z"
   },
   {
    "duration": 8,
    "start_time": "2021-12-24T09:21:35.958Z"
   },
   {
    "duration": 999,
    "start_time": "2021-12-24T09:21:35.969Z"
   },
   {
    "duration": 11,
    "start_time": "2021-12-24T09:21:36.971Z"
   },
   {
    "duration": 628,
    "start_time": "2021-12-24T09:21:36.985Z"
   },
   {
    "duration": 1007,
    "start_time": "2021-12-24T09:21:37.615Z"
   },
   {
    "duration": 7,
    "start_time": "2021-12-24T09:21:38.624Z"
   },
   {
    "duration": 5,
    "start_time": "2021-12-24T09:21:38.634Z"
   },
   {
    "duration": 16,
    "start_time": "2021-12-24T09:21:38.641Z"
   },
   {
    "duration": 9,
    "start_time": "2021-12-24T09:21:38.660Z"
   },
   {
    "duration": 597,
    "start_time": "2021-12-24T09:21:38.672Z"
   },
   {
    "duration": 1047,
    "start_time": "2021-12-24T09:21:39.271Z"
   },
   {
    "duration": 5,
    "start_time": "2021-12-24T09:21:40.321Z"
   },
   {
    "duration": 13,
    "start_time": "2021-12-24T09:21:40.329Z"
   },
   {
    "duration": 5,
    "start_time": "2021-12-24T09:21:40.345Z"
   },
   {
    "duration": 6,
    "start_time": "2021-12-24T09:21:40.353Z"
   },
   {
    "duration": 55,
    "start_time": "2021-12-24T09:21:40.362Z"
   },
   {
    "duration": 7,
    "start_time": "2021-12-24T09:21:40.420Z"
   },
   {
    "duration": 7,
    "start_time": "2021-12-24T09:22:15.842Z"
   },
   {
    "duration": 411,
    "start_time": "2021-12-24T09:22:54.538Z"
   },
   {
    "duration": 7,
    "start_time": "2021-12-24T09:23:10.475Z"
   },
   {
    "duration": 11,
    "start_time": "2021-12-24T09:23:21.067Z"
   },
   {
    "duration": 675,
    "start_time": "2021-12-24T09:24:54.085Z"
   },
   {
    "duration": 956,
    "start_time": "2021-12-24T09:25:36.571Z"
   },
   {
    "duration": 4,
    "start_time": "2021-12-24T09:28:13.299Z"
   },
   {
    "duration": 10,
    "start_time": "2021-12-24T09:28:30.994Z"
   },
   {
    "duration": 33,
    "start_time": "2021-12-24T09:28:34.835Z"
   },
   {
    "duration": 423,
    "start_time": "2021-12-24T09:28:52.480Z"
   },
   {
    "duration": 14,
    "start_time": "2021-12-24T09:29:38.376Z"
   },
   {
    "duration": 11,
    "start_time": "2021-12-24T09:30:06.378Z"
   },
   {
    "duration": 11,
    "start_time": "2021-12-24T09:30:09.090Z"
   },
   {
    "duration": 322,
    "start_time": "2021-12-24T09:32:55.042Z"
   },
   {
    "duration": 12,
    "start_time": "2021-12-24T09:35:48.122Z"
   },
   {
    "duration": 4,
    "start_time": "2021-12-24T09:36:14.284Z"
   },
   {
    "duration": 5,
    "start_time": "2021-12-24T09:36:32.107Z"
   },
   {
    "duration": 1967,
    "start_time": "2021-12-24T09:37:07.046Z"
   },
   {
    "duration": 68,
    "start_time": "2021-12-24T09:37:09.018Z"
   },
   {
    "duration": 42,
    "start_time": "2021-12-24T09:37:09.090Z"
   },
   {
    "duration": 20,
    "start_time": "2021-12-24T09:37:09.135Z"
   },
   {
    "duration": 18,
    "start_time": "2021-12-24T09:37:09.158Z"
   },
   {
    "duration": 101,
    "start_time": "2021-12-24T09:37:09.179Z"
   },
   {
    "duration": 5,
    "start_time": "2021-12-24T09:37:09.283Z"
   },
   {
    "duration": 32,
    "start_time": "2021-12-24T09:37:09.293Z"
   },
   {
    "duration": 6,
    "start_time": "2021-12-24T09:37:09.329Z"
   },
   {
    "duration": 6,
    "start_time": "2021-12-24T09:37:09.339Z"
   },
   {
    "duration": 9,
    "start_time": "2021-12-24T09:37:09.348Z"
   },
   {
    "duration": 57,
    "start_time": "2021-12-24T09:37:09.360Z"
   },
   {
    "duration": 10,
    "start_time": "2021-12-24T09:37:09.420Z"
   },
   {
    "duration": 42,
    "start_time": "2021-12-24T09:37:09.433Z"
   },
   {
    "duration": 41,
    "start_time": "2021-12-24T09:37:09.478Z"
   },
   {
    "duration": 11,
    "start_time": "2021-12-24T09:37:09.521Z"
   },
   {
    "duration": 20,
    "start_time": "2021-12-24T09:37:09.535Z"
   },
   {
    "duration": 14,
    "start_time": "2021-12-24T09:37:09.557Z"
   },
   {
    "duration": 754,
    "start_time": "2021-12-24T09:37:09.573Z"
   },
   {
    "duration": 22,
    "start_time": "2021-12-24T09:37:10.330Z"
   },
   {
    "duration": 558,
    "start_time": "2021-12-24T09:37:10.354Z"
   },
   {
    "duration": 8,
    "start_time": "2021-12-24T09:37:10.917Z"
   },
   {
    "duration": 8,
    "start_time": "2021-12-24T09:37:10.931Z"
   },
   {
    "duration": 21,
    "start_time": "2021-12-24T09:37:10.943Z"
   },
   {
    "duration": 396,
    "start_time": "2021-12-24T09:37:10.966Z"
   },
   {
    "duration": 30,
    "start_time": "2021-12-24T09:37:11.365Z"
   },
   {
    "duration": 703,
    "start_time": "2021-12-24T09:37:11.398Z"
   },
   {
    "duration": 17,
    "start_time": "2021-12-24T09:37:12.103Z"
   },
   {
    "duration": 749,
    "start_time": "2021-12-24T09:37:12.123Z"
   },
   {
    "duration": 521,
    "start_time": "2021-12-24T09:37:12.874Z"
   },
   {
    "duration": 8,
    "start_time": "2021-12-24T09:37:13.397Z"
   },
   {
    "duration": 20,
    "start_time": "2021-12-24T09:37:13.418Z"
   },
   {
    "duration": 1153,
    "start_time": "2021-12-24T09:37:13.440Z"
   },
   {
    "duration": 1027,
    "start_time": "2021-12-24T09:37:14.596Z"
   },
   {
    "duration": 962,
    "start_time": "2021-12-24T09:37:15.626Z"
   },
   {
    "duration": 5,
    "start_time": "2021-12-24T09:37:16.590Z"
   },
   {
    "duration": 492,
    "start_time": "2021-12-24T09:37:16.598Z"
   },
   {
    "duration": 7,
    "start_time": "2021-12-24T09:37:17.093Z"
   },
   {
    "duration": 3568,
    "start_time": "2021-12-24T09:37:17.117Z"
   },
   {
    "duration": 9,
    "start_time": "2021-12-24T09:37:20.688Z"
   },
   {
    "duration": 14,
    "start_time": "2021-12-24T09:37:20.718Z"
   },
   {
    "duration": 838,
    "start_time": "2021-12-24T09:37:20.735Z"
   },
   {
    "duration": 16,
    "start_time": "2021-12-24T09:37:21.576Z"
   },
   {
    "duration": 664,
    "start_time": "2021-12-24T09:37:21.595Z"
   },
   {
    "duration": 10,
    "start_time": "2021-12-24T09:37:22.262Z"
   },
   {
    "duration": 1453,
    "start_time": "2021-12-24T09:37:22.275Z"
   },
   {
    "duration": 11,
    "start_time": "2021-12-24T09:37:23.731Z"
   },
   {
    "duration": 931,
    "start_time": "2021-12-24T09:37:23.744Z"
   },
   {
    "duration": 1508,
    "start_time": "2021-12-24T09:37:24.678Z"
   },
   {
    "duration": 6,
    "start_time": "2021-12-24T09:37:26.188Z"
   },
   {
    "duration": 20,
    "start_time": "2021-12-24T09:37:26.197Z"
   },
   {
    "duration": 10,
    "start_time": "2021-12-24T09:37:26.220Z"
   },
   {
    "duration": 10,
    "start_time": "2021-12-24T09:37:26.233Z"
   },
   {
    "duration": 498,
    "start_time": "2021-12-24T09:37:26.245Z"
   },
   {
    "duration": 1038,
    "start_time": "2021-12-24T09:37:26.746Z"
   },
   {
    "duration": 3,
    "start_time": "2021-12-24T09:37:27.787Z"
   },
   {
    "duration": 30,
    "start_time": "2021-12-24T09:37:27.792Z"
   },
   {
    "duration": 4,
    "start_time": "2021-12-24T09:37:27.825Z"
   },
   {
    "duration": 7,
    "start_time": "2021-12-24T09:37:27.832Z"
   },
   {
    "duration": 1133,
    "start_time": "2021-12-24T09:37:27.841Z"
   },
   {
    "duration": 4,
    "start_time": "2021-12-24T09:37:28.977Z"
   },
   {
    "duration": 11,
    "start_time": "2021-12-24T09:37:28.984Z"
   },
   {
    "duration": 453,
    "start_time": "2021-12-24T09:37:29.017Z"
   },
   {
    "duration": 12,
    "start_time": "2021-12-24T09:37:29.473Z"
   },
   {
    "duration": 32,
    "start_time": "2021-12-24T09:37:29.488Z"
   },
   {
    "duration": 14,
    "start_time": "2021-12-24T09:37:29.523Z"
   },
   {
    "duration": 7,
    "start_time": "2021-12-24T09:37:29.539Z"
   },
   {
    "duration": 5,
    "start_time": "2021-12-24T09:37:29.554Z"
   },
   {
    "duration": 310,
    "start_time": "2021-12-24T09:37:38.218Z"
   },
   {
    "duration": 12,
    "start_time": "2021-12-24T09:39:30.268Z"
   },
   {
    "duration": 6,
    "start_time": "2021-12-24T09:39:33.064Z"
   },
   {
    "duration": 6,
    "start_time": "2021-12-24T09:39:35.266Z"
   },
   {
    "duration": 1492,
    "start_time": "2021-12-24T09:39:55.294Z"
   },
   {
    "duration": 54,
    "start_time": "2021-12-24T09:39:56.789Z"
   },
   {
    "duration": 24,
    "start_time": "2021-12-24T09:39:56.846Z"
   },
   {
    "duration": 47,
    "start_time": "2021-12-24T09:39:56.874Z"
   },
   {
    "duration": 25,
    "start_time": "2021-12-24T09:39:56.924Z"
   },
   {
    "duration": 82,
    "start_time": "2021-12-24T09:39:56.952Z"
   },
   {
    "duration": 4,
    "start_time": "2021-12-24T09:39:57.037Z"
   },
   {
    "duration": 26,
    "start_time": "2021-12-24T09:39:57.043Z"
   },
   {
    "duration": 10,
    "start_time": "2021-12-24T09:39:57.074Z"
   },
   {
    "duration": 14,
    "start_time": "2021-12-24T09:39:57.087Z"
   },
   {
    "duration": 14,
    "start_time": "2021-12-24T09:39:57.104Z"
   },
   {
    "duration": 39,
    "start_time": "2021-12-24T09:39:57.122Z"
   },
   {
    "duration": 21,
    "start_time": "2021-12-24T09:39:57.164Z"
   },
   {
    "duration": 31,
    "start_time": "2021-12-24T09:39:57.187Z"
   },
   {
    "duration": 12,
    "start_time": "2021-12-24T09:39:57.220Z"
   },
   {
    "duration": 16,
    "start_time": "2021-12-24T09:39:57.234Z"
   },
   {
    "duration": 21,
    "start_time": "2021-12-24T09:39:57.253Z"
   },
   {
    "duration": 40,
    "start_time": "2021-12-24T09:39:57.277Z"
   },
   {
    "duration": 713,
    "start_time": "2021-12-24T09:39:57.319Z"
   },
   {
    "duration": 24,
    "start_time": "2021-12-24T09:39:58.034Z"
   },
   {
    "duration": 818,
    "start_time": "2021-12-24T09:39:58.061Z"
   },
   {
    "duration": 7,
    "start_time": "2021-12-24T09:39:58.883Z"
   },
   {
    "duration": 26,
    "start_time": "2021-12-24T09:39:58.893Z"
   },
   {
    "duration": 23,
    "start_time": "2021-12-24T09:39:58.922Z"
   },
   {
    "duration": 253,
    "start_time": "2021-12-24T09:39:58.947Z"
   },
   {
    "duration": 30,
    "start_time": "2021-12-24T09:39:59.203Z"
   },
   {
    "duration": 616,
    "start_time": "2021-12-24T09:39:59.239Z"
   },
   {
    "duration": 9,
    "start_time": "2021-12-24T09:39:59.858Z"
   },
   {
    "duration": 878,
    "start_time": "2021-12-24T09:39:59.871Z"
   },
   {
    "duration": 529,
    "start_time": "2021-12-24T09:40:00.752Z"
   },
   {
    "duration": 9,
    "start_time": "2021-12-24T09:40:01.284Z"
   },
   {
    "duration": 65,
    "start_time": "2021-12-24T09:40:01.295Z"
   },
   {
    "duration": 919,
    "start_time": "2021-12-24T09:40:01.363Z"
   },
   {
    "duration": 1037,
    "start_time": "2021-12-24T09:40:02.287Z"
   },
   {
    "duration": 903,
    "start_time": "2021-12-24T09:40:03.327Z"
   },
   {
    "duration": 5,
    "start_time": "2021-12-24T09:40:04.233Z"
   },
   {
    "duration": 354,
    "start_time": "2021-12-24T09:40:04.240Z"
   },
   {
    "duration": 6,
    "start_time": "2021-12-24T09:40:04.597Z"
   },
   {
    "duration": 4992,
    "start_time": "2021-12-24T09:40:04.618Z"
   },
   {
    "duration": 15,
    "start_time": "2021-12-24T09:40:09.613Z"
   },
   {
    "duration": 15,
    "start_time": "2021-12-24T09:40:09.631Z"
   },
   {
    "duration": 849,
    "start_time": "2021-12-24T09:40:09.649Z"
   },
   {
    "duration": 26,
    "start_time": "2021-12-24T09:40:10.502Z"
   },
   {
    "duration": 823,
    "start_time": "2021-12-24T09:40:10.531Z"
   },
   {
    "duration": 9,
    "start_time": "2021-12-24T09:40:11.357Z"
   },
   {
    "duration": 1412,
    "start_time": "2021-12-24T09:40:11.369Z"
   },
   {
    "duration": 11,
    "start_time": "2021-12-24T09:40:12.785Z"
   },
   {
    "duration": 655,
    "start_time": "2021-12-24T09:40:12.799Z"
   },
   {
    "duration": 1096,
    "start_time": "2021-12-24T09:40:13.457Z"
   },
   {
    "duration": 7,
    "start_time": "2021-12-24T09:40:14.556Z"
   },
   {
    "duration": 5,
    "start_time": "2021-12-24T09:40:14.565Z"
   },
   {
    "duration": 13,
    "start_time": "2021-12-24T09:40:14.572Z"
   },
   {
    "duration": 10,
    "start_time": "2021-12-24T09:40:14.618Z"
   },
   {
    "duration": 514,
    "start_time": "2021-12-24T09:40:14.630Z"
   },
   {
    "duration": 1025,
    "start_time": "2021-12-24T09:40:15.146Z"
   },
   {
    "duration": 4,
    "start_time": "2021-12-24T09:40:16.173Z"
   },
   {
    "duration": 12,
    "start_time": "2021-12-24T09:40:16.179Z"
   },
   {
    "duration": 25,
    "start_time": "2021-12-24T09:40:16.194Z"
   },
   {
    "duration": 7,
    "start_time": "2021-12-24T09:40:16.222Z"
   },
   {
    "duration": 846,
    "start_time": "2021-12-24T09:40:16.231Z"
   },
   {
    "duration": 3,
    "start_time": "2021-12-24T09:40:17.080Z"
   },
   {
    "duration": 12,
    "start_time": "2021-12-24T09:40:17.086Z"
   },
   {
    "duration": 430,
    "start_time": "2021-12-24T09:40:17.117Z"
   },
   {
    "duration": 10,
    "start_time": "2021-12-24T09:40:17.550Z"
   },
   {
    "duration": 17,
    "start_time": "2021-12-24T09:40:17.563Z"
   },
   {
    "duration": 35,
    "start_time": "2021-12-24T09:40:17.582Z"
   },
   {
    "duration": 5,
    "start_time": "2021-12-24T09:40:17.620Z"
   },
   {
    "duration": 6,
    "start_time": "2021-12-24T09:40:17.627Z"
   },
   {
    "duration": 5,
    "start_time": "2021-12-24T09:42:18.725Z"
   },
   {
    "duration": 1703,
    "start_time": "2021-12-24T09:43:26.185Z"
   },
   {
    "duration": 55,
    "start_time": "2021-12-24T09:43:27.891Z"
   },
   {
    "duration": 23,
    "start_time": "2021-12-24T09:43:27.949Z"
   },
   {
    "duration": 20,
    "start_time": "2021-12-24T09:43:27.975Z"
   },
   {
    "duration": 15,
    "start_time": "2021-12-24T09:43:28.017Z"
   },
   {
    "duration": 45,
    "start_time": "2021-12-24T09:43:28.035Z"
   },
   {
    "duration": 4,
    "start_time": "2021-12-24T09:43:28.083Z"
   },
   {
    "duration": 7,
    "start_time": "2021-12-24T09:43:28.120Z"
   },
   {
    "duration": 5,
    "start_time": "2021-12-24T09:43:28.130Z"
   },
   {
    "duration": 6,
    "start_time": "2021-12-24T09:43:28.138Z"
   },
   {
    "duration": 9,
    "start_time": "2021-12-24T09:43:28.147Z"
   },
   {
    "duration": 58,
    "start_time": "2021-12-24T09:43:28.158Z"
   },
   {
    "duration": 8,
    "start_time": "2021-12-24T09:43:28.219Z"
   },
   {
    "duration": 29,
    "start_time": "2021-12-24T09:43:28.230Z"
   },
   {
    "duration": 16,
    "start_time": "2021-12-24T09:43:28.262Z"
   },
   {
    "duration": 12,
    "start_time": "2021-12-24T09:43:28.318Z"
   },
   {
    "duration": 23,
    "start_time": "2021-12-24T09:43:28.333Z"
   },
   {
    "duration": 25,
    "start_time": "2021-12-24T09:43:28.359Z"
   },
   {
    "duration": 1142,
    "start_time": "2021-12-24T09:43:28.388Z"
   },
   {
    "duration": 27,
    "start_time": "2021-12-24T09:43:29.533Z"
   },
   {
    "duration": 699,
    "start_time": "2021-12-24T09:43:29.563Z"
   },
   {
    "duration": 5,
    "start_time": "2021-12-24T09:43:30.264Z"
   },
   {
    "duration": 10,
    "start_time": "2021-12-24T09:43:30.275Z"
   },
   {
    "duration": 33,
    "start_time": "2021-12-24T09:43:30.289Z"
   },
   {
    "duration": 27,
    "start_time": "2021-12-24T09:43:30.324Z"
   },
   {
    "duration": 244,
    "start_time": "2021-12-24T09:43:30.353Z"
   },
   {
    "duration": 32,
    "start_time": "2021-12-24T09:43:30.599Z"
   },
   {
    "duration": 497,
    "start_time": "2021-12-24T09:43:30.634Z"
   },
   {
    "duration": 9,
    "start_time": "2021-12-24T09:43:31.133Z"
   },
   {
    "duration": 705,
    "start_time": "2021-12-24T09:43:31.144Z"
   },
   {
    "duration": 497,
    "start_time": "2021-12-24T09:43:31.851Z"
   },
   {
    "duration": 9,
    "start_time": "2021-12-24T09:43:32.350Z"
   },
   {
    "duration": 20,
    "start_time": "2021-12-24T09:43:32.361Z"
   },
   {
    "duration": 905,
    "start_time": "2021-12-24T09:43:32.384Z"
   },
   {
    "duration": 955,
    "start_time": "2021-12-24T09:43:33.292Z"
   },
   {
    "duration": 1006,
    "start_time": "2021-12-24T09:43:34.249Z"
   },
   {
    "duration": 6,
    "start_time": "2021-12-24T09:43:35.258Z"
   },
   {
    "duration": 469,
    "start_time": "2021-12-24T09:43:35.267Z"
   },
   {
    "duration": 6,
    "start_time": "2021-12-24T09:43:35.739Z"
   },
   {
    "duration": 3403,
    "start_time": "2021-12-24T09:43:35.748Z"
   },
   {
    "duration": 9,
    "start_time": "2021-12-24T09:43:39.153Z"
   },
   {
    "duration": 13,
    "start_time": "2021-12-24T09:43:39.165Z"
   },
   {
    "duration": 590,
    "start_time": "2021-12-24T09:43:39.181Z"
   },
   {
    "duration": 14,
    "start_time": "2021-12-24T09:43:39.774Z"
   },
   {
    "duration": 927,
    "start_time": "2021-12-24T09:43:39.790Z"
   },
   {
    "duration": 6,
    "start_time": "2021-12-24T09:43:40.719Z"
   },
   {
    "duration": 1093,
    "start_time": "2021-12-24T09:43:40.727Z"
   },
   {
    "duration": 9,
    "start_time": "2021-12-24T09:43:41.822Z"
   },
   {
    "duration": 641,
    "start_time": "2021-12-24T09:43:41.833Z"
   },
   {
    "duration": 1042,
    "start_time": "2021-12-24T09:43:42.477Z"
   },
   {
    "duration": 8,
    "start_time": "2021-12-24T09:43:43.522Z"
   },
   {
    "duration": 5,
    "start_time": "2021-12-24T09:43:43.533Z"
   },
   {
    "duration": 12,
    "start_time": "2021-12-24T09:43:43.541Z"
   },
   {
    "duration": 10,
    "start_time": "2021-12-24T09:43:43.555Z"
   },
   {
    "duration": 515,
    "start_time": "2021-12-24T09:43:43.567Z"
   },
   {
    "duration": 1025,
    "start_time": "2021-12-24T09:43:44.085Z"
   },
   {
    "duration": 6,
    "start_time": "2021-12-24T09:43:45.112Z"
   },
   {
    "duration": 13,
    "start_time": "2021-12-24T09:43:45.120Z"
   },
   {
    "duration": 5,
    "start_time": "2021-12-24T09:43:45.136Z"
   },
   {
    "duration": 7,
    "start_time": "2021-12-24T09:43:45.143Z"
   },
   {
    "duration": 1068,
    "start_time": "2021-12-24T09:43:45.153Z"
   },
   {
    "duration": 4,
    "start_time": "2021-12-24T09:43:46.223Z"
   },
   {
    "duration": 12,
    "start_time": "2021-12-24T09:43:46.229Z"
   },
   {
    "duration": 438,
    "start_time": "2021-12-24T09:43:46.244Z"
   },
   {
    "duration": 10,
    "start_time": "2021-12-24T09:43:46.684Z"
   },
   {
    "duration": 30,
    "start_time": "2021-12-24T09:43:46.696Z"
   },
   {
    "duration": 13,
    "start_time": "2021-12-24T09:43:46.728Z"
   },
   {
    "duration": 5,
    "start_time": "2021-12-24T09:43:46.747Z"
   },
   {
    "duration": 7,
    "start_time": "2021-12-24T09:43:46.754Z"
   },
   {
    "duration": 812,
    "start_time": "2021-12-24T09:44:10.421Z"
   },
   {
    "duration": 457,
    "start_time": "2021-12-24T09:47:57.078Z"
   },
   {
    "duration": 292,
    "start_time": "2021-12-24T09:48:28.990Z"
   },
   {
    "duration": 7,
    "start_time": "2021-12-24T09:49:19.342Z"
   },
   {
    "duration": 6,
    "start_time": "2021-12-24T09:49:21.531Z"
   },
   {
    "duration": 1550,
    "start_time": "2021-12-24T09:56:58.471Z"
   },
   {
    "duration": 50,
    "start_time": "2021-12-24T09:57:00.024Z"
   },
   {
    "duration": 42,
    "start_time": "2021-12-24T09:57:00.077Z"
   },
   {
    "duration": 19,
    "start_time": "2021-12-24T09:57:00.122Z"
   },
   {
    "duration": 25,
    "start_time": "2021-12-24T09:57:00.145Z"
   },
   {
    "duration": 74,
    "start_time": "2021-12-24T09:57:00.173Z"
   },
   {
    "duration": 4,
    "start_time": "2021-12-24T09:57:00.249Z"
   },
   {
    "duration": 10,
    "start_time": "2021-12-24T09:57:00.257Z"
   },
   {
    "duration": 12,
    "start_time": "2021-12-24T09:57:00.271Z"
   },
   {
    "duration": 63,
    "start_time": "2021-12-24T09:57:00.285Z"
   },
   {
    "duration": 16,
    "start_time": "2021-12-24T09:57:00.350Z"
   },
   {
    "duration": 15,
    "start_time": "2021-12-24T09:57:00.368Z"
   },
   {
    "duration": 10,
    "start_time": "2021-12-24T09:57:00.386Z"
   },
   {
    "duration": 34,
    "start_time": "2021-12-24T09:57:00.399Z"
   },
   {
    "duration": 15,
    "start_time": "2021-12-24T09:57:00.436Z"
   },
   {
    "duration": 10,
    "start_time": "2021-12-24T09:57:00.453Z"
   },
   {
    "duration": 50,
    "start_time": "2021-12-24T09:57:00.466Z"
   },
   {
    "duration": 12,
    "start_time": "2021-12-24T09:57:00.518Z"
   },
   {
    "duration": 722,
    "start_time": "2021-12-24T09:57:00.533Z"
   },
   {
    "duration": 22,
    "start_time": "2021-12-24T09:57:01.258Z"
   },
   {
    "duration": 571,
    "start_time": "2021-12-24T09:57:01.282Z"
   },
   {
    "duration": 5,
    "start_time": "2021-12-24T09:57:01.856Z"
   },
   {
    "duration": 14,
    "start_time": "2021-12-24T09:57:01.868Z"
   },
   {
    "duration": 33,
    "start_time": "2021-12-24T09:57:01.886Z"
   },
   {
    "duration": 23,
    "start_time": "2021-12-24T09:57:01.921Z"
   },
   {
    "duration": 260,
    "start_time": "2021-12-24T09:57:01.946Z"
   },
   {
    "duration": 29,
    "start_time": "2021-12-24T09:57:02.209Z"
   },
   {
    "duration": 599,
    "start_time": "2021-12-24T09:57:02.241Z"
   },
   {
    "duration": 9,
    "start_time": "2021-12-24T09:57:02.842Z"
   },
   {
    "duration": 901,
    "start_time": "2021-12-24T09:57:02.853Z"
   },
   {
    "duration": 590,
    "start_time": "2021-12-24T09:57:03.756Z"
   },
   {
    "duration": 7,
    "start_time": "2021-12-24T09:57:04.348Z"
   },
   {
    "duration": 23,
    "start_time": "2021-12-24T09:57:04.358Z"
   },
   {
    "duration": 899,
    "start_time": "2021-12-24T09:57:04.384Z"
   },
   {
    "duration": 771,
    "start_time": "2021-12-24T09:57:05.286Z"
   },
   {
    "duration": 933,
    "start_time": "2021-12-24T09:57:06.059Z"
   },
   {
    "duration": 6,
    "start_time": "2021-12-24T09:57:06.995Z"
   },
   {
    "duration": 330,
    "start_time": "2021-12-24T09:57:07.003Z"
   },
   {
    "duration": 5,
    "start_time": "2021-12-24T09:57:07.335Z"
   },
   {
    "duration": 3352,
    "start_time": "2021-12-24T09:57:07.343Z"
   },
   {
    "duration": 21,
    "start_time": "2021-12-24T09:57:10.697Z"
   },
   {
    "duration": 11,
    "start_time": "2021-12-24T09:57:10.720Z"
   },
   {
    "duration": 586,
    "start_time": "2021-12-24T09:57:10.734Z"
   },
   {
    "duration": 13,
    "start_time": "2021-12-24T09:57:11.323Z"
   },
   {
    "duration": 606,
    "start_time": "2021-12-24T09:57:11.339Z"
   },
   {
    "duration": 6,
    "start_time": "2021-12-24T09:57:11.948Z"
   },
   {
    "duration": 1199,
    "start_time": "2021-12-24T09:57:11.958Z"
   },
   {
    "duration": 11,
    "start_time": "2021-12-24T09:57:13.161Z"
   },
   {
    "duration": 1025,
    "start_time": "2021-12-24T09:57:13.176Z"
   },
   {
    "duration": 1602,
    "start_time": "2021-12-24T09:57:14.204Z"
   },
   {
    "duration": 11,
    "start_time": "2021-12-24T09:57:15.809Z"
   },
   {
    "duration": 19,
    "start_time": "2021-12-24T09:57:15.822Z"
   },
   {
    "duration": 24,
    "start_time": "2021-12-24T09:57:15.843Z"
   },
   {
    "duration": 10,
    "start_time": "2021-12-24T09:57:15.869Z"
   },
   {
    "duration": 472,
    "start_time": "2021-12-24T09:57:15.881Z"
   },
   {
    "duration": 1027,
    "start_time": "2021-12-24T09:57:16.355Z"
   },
   {
    "duration": 4,
    "start_time": "2021-12-24T09:57:17.385Z"
   },
   {
    "duration": 37,
    "start_time": "2021-12-24T09:57:17.392Z"
   },
   {
    "duration": 8,
    "start_time": "2021-12-24T09:57:17.432Z"
   },
   {
    "duration": 24,
    "start_time": "2021-12-24T09:57:17.444Z"
   },
   {
    "duration": 1404,
    "start_time": "2021-12-24T09:57:17.471Z"
   },
   {
    "duration": 4,
    "start_time": "2021-12-24T09:57:18.878Z"
   },
   {
    "duration": 35,
    "start_time": "2021-12-24T09:57:18.885Z"
   },
   {
    "duration": 657,
    "start_time": "2021-12-24T09:57:18.923Z"
   },
   {
    "duration": 34,
    "start_time": "2021-12-24T09:57:19.583Z"
   },
   {
    "duration": 12,
    "start_time": "2021-12-24T09:57:19.621Z"
   },
   {
    "duration": 14,
    "start_time": "2021-12-24T09:57:19.635Z"
   },
   {
    "duration": 5,
    "start_time": "2021-12-24T09:57:19.656Z"
   },
   {
    "duration": 10,
    "start_time": "2021-12-24T09:57:19.664Z"
   },
   {
    "duration": 1747,
    "start_time": "2021-12-24T10:00:13.149Z"
   },
   {
    "duration": 49,
    "start_time": "2021-12-24T10:00:14.898Z"
   },
   {
    "duration": 26,
    "start_time": "2021-12-24T10:00:14.950Z"
   },
   {
    "duration": 49,
    "start_time": "2021-12-24T10:00:14.979Z"
   },
   {
    "duration": 15,
    "start_time": "2021-12-24T10:00:15.030Z"
   },
   {
    "duration": 70,
    "start_time": "2021-12-24T10:00:15.048Z"
   },
   {
    "duration": 4,
    "start_time": "2021-12-24T10:00:15.121Z"
   },
   {
    "duration": 12,
    "start_time": "2021-12-24T10:00:15.128Z"
   },
   {
    "duration": 5,
    "start_time": "2021-12-24T10:00:15.144Z"
   },
   {
    "duration": 5,
    "start_time": "2021-12-24T10:00:15.152Z"
   },
   {
    "duration": 59,
    "start_time": "2021-12-24T10:00:15.160Z"
   },
   {
    "duration": 11,
    "start_time": "2021-12-24T10:00:15.221Z"
   },
   {
    "duration": 8,
    "start_time": "2021-12-24T10:00:15.235Z"
   },
   {
    "duration": 27,
    "start_time": "2021-12-24T10:00:15.245Z"
   },
   {
    "duration": 49,
    "start_time": "2021-12-24T10:00:15.274Z"
   },
   {
    "duration": 10,
    "start_time": "2021-12-24T10:00:15.326Z"
   },
   {
    "duration": 20,
    "start_time": "2021-12-24T10:00:15.339Z"
   },
   {
    "duration": 14,
    "start_time": "2021-12-24T10:00:15.361Z"
   },
   {
    "duration": 704,
    "start_time": "2021-12-24T10:00:15.417Z"
   },
   {
    "duration": 22,
    "start_time": "2021-12-24T10:00:16.124Z"
   },
   {
    "duration": 563,
    "start_time": "2021-12-24T10:00:16.149Z"
   },
   {
    "duration": 5,
    "start_time": "2021-12-24T10:00:16.717Z"
   },
   {
    "duration": 7,
    "start_time": "2021-12-24T10:00:16.729Z"
   },
   {
    "duration": 7,
    "start_time": "2021-12-24T10:00:16.741Z"
   },
   {
    "duration": 81,
    "start_time": "2021-12-24T10:00:16.751Z"
   },
   {
    "duration": 231,
    "start_time": "2021-12-24T10:00:16.835Z"
   },
   {
    "duration": 21,
    "start_time": "2021-12-24T10:00:17.069Z"
   },
   {
    "duration": 488,
    "start_time": "2021-12-24T10:00:17.117Z"
   },
   {
    "duration": 12,
    "start_time": "2021-12-24T10:00:17.607Z"
   },
   {
    "duration": 731,
    "start_time": "2021-12-24T10:00:17.622Z"
   },
   {
    "duration": 496,
    "start_time": "2021-12-24T10:00:18.356Z"
   },
   {
    "duration": 8,
    "start_time": "2021-12-24T10:00:18.854Z"
   },
   {
    "duration": 22,
    "start_time": "2021-12-24T10:00:18.864Z"
   },
   {
    "duration": 875,
    "start_time": "2021-12-24T10:00:18.888Z"
   },
   {
    "duration": 740,
    "start_time": "2021-12-24T10:00:19.765Z"
   },
   {
    "duration": 911,
    "start_time": "2021-12-24T10:00:20.508Z"
   },
   {
    "duration": 5,
    "start_time": "2021-12-24T10:00:21.422Z"
   },
   {
    "duration": 334,
    "start_time": "2021-12-24T10:00:21.430Z"
   },
   {
    "duration": 6,
    "start_time": "2021-12-24T10:00:21.766Z"
   },
   {
    "duration": 3419,
    "start_time": "2021-12-24T10:00:21.774Z"
   },
   {
    "duration": 22,
    "start_time": "2021-12-24T10:00:25.195Z"
   },
   {
    "duration": 14,
    "start_time": "2021-12-24T10:00:25.220Z"
   },
   {
    "duration": 590,
    "start_time": "2021-12-24T10:00:25.236Z"
   },
   {
    "duration": 14,
    "start_time": "2021-12-24T10:00:25.828Z"
   },
   {
    "duration": 593,
    "start_time": "2021-12-24T10:00:25.844Z"
   },
   {
    "duration": 6,
    "start_time": "2021-12-24T10:00:26.440Z"
   },
   {
    "duration": 1008,
    "start_time": "2021-12-24T10:00:26.450Z"
   },
   {
    "duration": 8,
    "start_time": "2021-12-24T10:00:27.461Z"
   },
   {
    "duration": 615,
    "start_time": "2021-12-24T10:00:27.471Z"
   },
   {
    "duration": 1004,
    "start_time": "2021-12-24T10:00:28.088Z"
   },
   {
    "duration": 7,
    "start_time": "2021-12-24T10:00:29.094Z"
   },
   {
    "duration": 5,
    "start_time": "2021-12-24T10:00:29.118Z"
   },
   {
    "duration": 12,
    "start_time": "2021-12-24T10:00:29.125Z"
   },
   {
    "duration": 8,
    "start_time": "2021-12-24T10:00:29.140Z"
   },
   {
    "duration": 498,
    "start_time": "2021-12-24T10:00:29.150Z"
   },
   {
    "duration": 1030,
    "start_time": "2021-12-24T10:00:29.650Z"
   },
   {
    "duration": 3,
    "start_time": "2021-12-24T10:00:30.683Z"
   },
   {
    "duration": 36,
    "start_time": "2021-12-24T10:00:30.688Z"
   },
   {
    "duration": 6,
    "start_time": "2021-12-24T10:00:30.726Z"
   },
   {
    "duration": 22,
    "start_time": "2021-12-24T10:00:30.734Z"
   },
   {
    "duration": 858,
    "start_time": "2021-12-24T10:00:30.759Z"
   },
   {
    "duration": 5,
    "start_time": "2021-12-24T10:00:31.620Z"
   },
   {
    "duration": 18,
    "start_time": "2021-12-24T10:00:31.628Z"
   },
   {
    "duration": 465,
    "start_time": "2021-12-24T10:00:31.649Z"
   },
   {
    "duration": 13,
    "start_time": "2021-12-24T10:00:32.118Z"
   },
   {
    "duration": 17,
    "start_time": "2021-12-24T10:00:32.134Z"
   },
   {
    "duration": 23,
    "start_time": "2021-12-24T10:00:32.154Z"
   },
   {
    "duration": 35,
    "start_time": "2021-12-24T10:00:32.184Z"
   },
   {
    "duration": 11,
    "start_time": "2021-12-24T10:00:32.222Z"
   }
  ],
  "kernelspec": {
   "display_name": "Python 3",
   "language": "python",
   "name": "python3"
  },
  "language_info": {
   "codemirror_mode": {
    "name": "ipython",
    "version": 3
   },
   "file_extension": ".py",
   "mimetype": "text/x-python",
   "name": "python",
   "nbconvert_exporter": "python",
   "pygments_lexer": "ipython3",
   "version": "3.8.8"
  },
  "toc": {
   "base_numbering": 1,
   "nav_menu": {},
   "number_sections": true,
   "sideBar": true,
   "skip_h1_title": true,
   "title_cell": "Table of Contents",
   "title_sidebar": "Contents",
   "toc_cell": false,
   "toc_position": {
    "height": "calc(100% - 180px)",
    "left": "10px",
    "top": "150px",
    "width": "259.867px"
   },
   "toc_section_display": true,
   "toc_window_display": true
  }
 },
 "nbformat": 4,
 "nbformat_minor": 2
}
